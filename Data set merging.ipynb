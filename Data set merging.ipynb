{
 "cells": [
  {
   "cell_type": "code",
   "execution_count": 1,
   "id": "3efa1503-4df5-49ef-8ff6-285142d93647",
   "metadata": {},
   "outputs": [],
   "source": [
    "#importing packages\n",
    "import pandas as pd\n",
    "import json\n",
    "import numpy as np\n",
    "\n",
    "pd.set_option('display.max_columns', None)"
   ]
  },
  {
   "cell_type": "code",
   "execution_count": 2,
   "id": "814e4c51-9fff-4d09-a160-7c48b61bc6ec",
   "metadata": {},
   "outputs": [],
   "source": [
    "#loading product data files\n",
    "prods_1 = pd.read_csv('prods_1_of_2.csv', low_memory=False)\n",
    "prods_2 = pd.read_csv('prods_2_of_2.csv', low_memory=False)"
   ]
  },
  {
   "cell_type": "code",
   "execution_count": 3,
   "id": "612ca7c0-5052-464d-b996-17ef1ac6f7ce",
   "metadata": {},
   "outputs": [
    {
     "name": "stdout",
     "output_type": "stream",
     "text": [
      "<class 'pandas.core.frame.DataFrame'>\n",
      "RangeIndex: 600000 entries, 0 to 599999\n",
      "Data columns (total 24 columns):\n",
      " #   Column         Non-Null Count   Dtype  \n",
      "---  ------         --------------   -----  \n",
      " 0   Unnamed: 0     600000 non-null  int64  \n",
      " 1   _id            600000 non-null  object \n",
      " 2   albumRelease   333289 non-null  object \n",
      " 3   numTracks      333289 non-null  float64\n",
      " 4   name           599986 non-null  object \n",
      " 5   dateModified   599998 non-null  object \n",
      " 6   @id            599998 non-null  object \n",
      " 7   keywords       599553 non-null  object \n",
      " 8   image          599914 non-null  object \n",
      " 9   comment        126694 non-null  object \n",
      " 10  byArtist       599998 non-null  object \n",
      " 11  track          333289 non-null  object \n",
      " 12  @type          599998 non-null  object \n",
      " 13  datePublished  599998 non-null  object \n",
      " 14  @context       600000 non-null  object \n",
      " 15  duration       266708 non-null  object \n",
      " 16  offers         266709 non-null  object \n",
      " 17  duration_secs  266708 non-null  float64\n",
      " 18  inAlbum        197085 non-null  object \n",
      " 19  url            266709 non-null  object \n",
      " 20  description    275640 non-null  object \n",
      " 21  isrcCode       61706 non-null   object \n",
      " 22  recordingOf    28768 non-null   object \n",
      " 23  @graph         2 non-null       object \n",
      "dtypes: float64(2), int64(1), object(21)\n",
      "memory usage: 109.9+ MB\n"
     ]
    }
   ],
   "source": [
    "#both df's have many nan values in 'url', which is the key to join the second dataframe\n",
    "prods_1.info()"
   ]
  },
  {
   "cell_type": "code",
   "execution_count": 4,
   "id": "915aad25-9dfe-452f-92f3-e02d68d3a698",
   "metadata": {},
   "outputs": [
    {
     "name": "stdout",
     "output_type": "stream",
     "text": [
      "<class 'pandas.core.frame.DataFrame'>\n",
      "RangeIndex: 469972 entries, 0 to 469971\n",
      "Data columns (total 23 columns):\n",
      " #   Column         Non-Null Count   Dtype  \n",
      "---  ------         --------------   -----  \n",
      " 0   Unnamed: 0     469972 non-null  int64  \n",
      " 1   _id            469972 non-null  object \n",
      " 2   @type          469972 non-null  object \n",
      " 3   dateModified   469972 non-null  object \n",
      " 4   track          230640 non-null  object \n",
      " 5   datePublished  469972 non-null  object \n",
      " 6   @context       469972 non-null  object \n",
      " 7   name           469962 non-null  object \n",
      " 8   albumRelease   230640 non-null  object \n",
      " 9   numTracks      230640 non-null  float64\n",
      " 10  keywords       469674 non-null  object \n",
      " 11  @id            469972 non-null  object \n",
      " 12  byArtist       469972 non-null  object \n",
      " 13  image          469867 non-null  object \n",
      " 14  description    198333 non-null  object \n",
      " 15  duration       239332 non-null  object \n",
      " 16  url            239332 non-null  object \n",
      " 17  offers         239332 non-null  object \n",
      " 18  duration_secs  239332 non-null  float64\n",
      " 19  inAlbum        175670 non-null  object \n",
      " 20  recordingOf    28605 non-null   object \n",
      " 21  isrcCode       55021 non-null   object \n",
      " 22  comment        54552 non-null   object \n",
      "dtypes: float64(2), int64(1), object(20)\n",
      "memory usage: 82.5+ MB\n"
     ]
    }
   ],
   "source": [
    "prods_2.info()"
   ]
  },
  {
   "cell_type": "code",
   "execution_count": 5,
   "id": "473efbdc-ed6c-4014-bc0a-ca1fc8e300f5",
   "metadata": {},
   "outputs": [
    {
     "name": "stdout",
     "output_type": "stream",
     "text": [
      "333291\n",
      "0\n"
     ]
    }
   ],
   "source": [
    "#_id and url have the same values, but many url values = Nan\n",
    "print(prods_1['url'].isna().sum())\n",
    "print(prods_1['_id'].isna().sum())"
   ]
  },
  {
   "cell_type": "code",
   "execution_count": 6,
   "id": "9a344ebf-7c8a-4540-a33f-5dd585b433a2",
   "metadata": {},
   "outputs": [],
   "source": [
    "#seperate values of _id into a list, replace the 'https:' with '' so that the values are the same in the second data frame. Append the new list to the dataframe. \n",
    "url_list_1 = prods_1['_id'].values.tolist()\n",
    "\n",
    "url_list_1_2 = []\n",
    "for x in range(0, len(url_list_1)):\n",
    "    url = url_list_1[x]\n",
    "    url = url.replace(\"https:\", \"\")\n",
    "    url_list_1_2.append(url)\n",
    "\n",
    "prods_1['url_2'] = url_list_1_2"
   ]
  },
  {
   "cell_type": "code",
   "execution_count": 7,
   "id": "55688408-11f5-4a9a-8bab-4671143301fb",
   "metadata": {},
   "outputs": [],
   "source": [
    "url_list_2 = prods_2['_id'].values.tolist()\n",
    "\n",
    "url_list_2_2 = []\n",
    "for x in range(0, len(url_list_2)):\n",
    "    url = url_list_2[x]\n",
    "    url = url.replace(\"https:\", \"\")\n",
    "    url_list_2_2.append(url)\n",
    "\n",
    "prods_2['url_2'] = url_list_2_2"
   ]
  },
  {
   "cell_type": "code",
   "execution_count": 8,
   "id": "c7095876-3e6c-49ca-be3d-96f7a8ad3c1c",
   "metadata": {},
   "outputs": [],
   "source": [
    "#concatenate the 2 separate sets into 1 \n",
    "prods = pd.concat([prods_1, prods_2], ignore_index=True)"
   ]
  },
  {
   "cell_type": "code",
   "execution_count": 9,
   "id": "87b796d2-162f-4ac9-8c48-5e5d8386ff9f",
   "metadata": {},
   "outputs": [],
   "source": [
    "#save to file\n",
    "prods.to_csv('prods.csv')"
   ]
  },
  {
   "cell_type": "code",
   "execution_count": 10,
   "id": "785ad98e-e1be-48d9-8d0f-2683b9691669",
   "metadata": {},
   "outputs": [],
   "source": [
    "#loading the second data set\n",
    "#loading sales file\n",
    "sales = pd.read_csv('1000000-bandcamp-sales.csv', index_col = 'Unnamed: 0')\n",
    "\n",
    "#filter physical products out\n",
    "df_dig = sales[(sales['item_type'] == 'a') | (sales['item_type'] == 't')]"
   ]
  },
  {
   "cell_type": "code",
   "execution_count": 11,
   "id": "332035de-f450-46cc-8f16-c99a1b5e9f8a",
   "metadata": {},
   "outputs": [],
   "source": [
    "#renaming the key columns, so that the dataframes can be merged\n",
    "df_dig = df_dig.rename(columns={\"url\": \"join_key\"})\n",
    "prods = prods.rename(columns={'url_2':'join_key'})"
   ]
  },
  {
   "cell_type": "code",
   "execution_count": 12,
   "id": "81ebeb32-fdad-45cf-ab8a-a41759d2a01e",
   "metadata": {},
   "outputs": [],
   "source": [
    "#merging the dataframes on left join. Left dataset is the sales dataset, the product information (right dataset) will be joined on the products sold\n",
    "df = pd.merge(df_dig, prods, how='left', on='join_key')"
   ]
  },
  {
   "cell_type": "code",
   "execution_count": 13,
   "id": "4d6e53ec-bec1-41c8-9247-9fe0587fd1a3",
   "metadata": {},
   "outputs": [],
   "source": [
    "#save dataframe\n",
    "df.to_csv('complete_set.csv')"
   ]
  },
  {
   "cell_type": "code",
   "execution_count": 14,
   "id": "efb0ce7c-8750-4ffe-a21f-8c95852f27ab",
   "metadata": {},
   "outputs": [
    {
     "name": "stdout",
     "output_type": "stream",
     "text": [
      "<class 'pandas.core.frame.DataFrame'>\n",
      "Int64Index: 752599 entries, 0 to 752598\n",
      "Data columns (total 47 columns):\n",
      " #   Column                 Non-Null Count   Dtype  \n",
      "---  ------                 --------------   -----  \n",
      " 0   _id_x                  752599 non-null  object \n",
      " 1   art_url                752599 non-null  object \n",
      " 2   item_type              752599 non-null  object \n",
      " 3   utc_date               752599 non-null  float64\n",
      " 4   country_code           752599 non-null  object \n",
      " 5   track_album_slug_text  2237 non-null    object \n",
      " 6   country                752599 non-null  object \n",
      " 7   slug_type              752599 non-null  object \n",
      " 8   amount_paid_fmt        752599 non-null  object \n",
      " 9   item_price             752599 non-null  float64\n",
      " 10  item_description       752593 non-null  object \n",
      " 11  art_id                 752459 non-null  float64\n",
      " 12  join_key               752599 non-null  object \n",
      " 13  amount_paid            752599 non-null  float64\n",
      " 14  releases               0 non-null       float64\n",
      " 15  artist_name            752597 non-null  object \n",
      " 16  currency               752599 non-null  object \n",
      " 17  album_title            168644 non-null  object \n",
      " 18  amount_paid_usd        752599 non-null  float64\n",
      " 19  package_image_id       0 non-null       float64\n",
      " 20  amount_over_fmt        97369 non-null   object \n",
      " 21  item_slug              21742 non-null   object \n",
      " 22  addl_count             21742 non-null   float64\n",
      " 23  Unnamed: 0             664427 non-null  float64\n",
      " 24  _id_y                  664427 non-null  object \n",
      " 25  albumRelease           415031 non-null  object \n",
      " 26  numTracks              415031 non-null  float64\n",
      " 27  name                   664421 non-null  object \n",
      " 28  dateModified           664427 non-null  object \n",
      " 29  @id                    664427 non-null  object \n",
      " 30  keywords               664088 non-null  object \n",
      " 31  image                  664392 non-null  object \n",
      " 32  comment                269082 non-null  object \n",
      " 33  byArtist               664427 non-null  object \n",
      " 34  track                  415031 non-null  object \n",
      " 35  @type                  664427 non-null  object \n",
      " 36  datePublished          664427 non-null  object \n",
      " 37  @context               664427 non-null  object \n",
      " 38  duration               249396 non-null  object \n",
      " 39  offers                 249396 non-null  object \n",
      " 40  duration_secs          249396 non-null  float64\n",
      " 41  inAlbum                160435 non-null  object \n",
      " 42  url                    249396 non-null  object \n",
      " 43  description            351052 non-null  object \n",
      " 44  isrcCode               62359 non-null   object \n",
      " 45  recordingOf            26872 non-null   object \n",
      " 46  @graph                 0 non-null       object \n",
      "dtypes: float64(11), object(36)\n",
      "memory usage: 275.6+ MB\n"
     ]
    }
   ],
   "source": [
    "df.info()"
   ]
  },
  {
   "cell_type": "code",
   "execution_count": null,
   "id": "f566580a-1e58-4fb5-982b-2d50d86721b6",
   "metadata": {},
   "outputs": [],
   "source": []
  }
 ],
 "metadata": {
  "kernelspec": {
   "display_name": "Python 3 (ipykernel)",
   "language": "python",
   "name": "python3"
  },
  "language_info": {
   "codemirror_mode": {
    "name": "ipython",
    "version": 3
   },
   "file_extension": ".py",
   "mimetype": "text/x-python",
   "name": "python",
   "nbconvert_exporter": "python",
   "pygments_lexer": "ipython3",
   "version": "3.10.9"
  }
 },
 "nbformat": 4,
 "nbformat_minor": 5
}
