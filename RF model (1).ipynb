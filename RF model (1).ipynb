{
 "cells": [
  {
   "cell_type": "code",
   "execution_count": 1,
   "id": "99523330-9c77-41dc-bcd1-cf7c6e3bdd24",
   "metadata": {
    "tags": []
   },
   "outputs": [],
   "source": [
    "import pandas as pd \n",
    "import numpy as np\n",
    "#import math"
   ]
  },
  {
   "cell_type": "code",
   "execution_count": 142,
   "id": "fc573029-87c1-4c3b-9988-357283958ad5",
   "metadata": {
    "tags": []
   },
   "outputs": [],
   "source": [
    "X_train = pd.read_csv('X_train.csv')\n",
    "X_valid = pd.read_csv('X_valid.csv')\n",
    "y_train = pd.read_csv('y_train.csv')\n",
    "y_valid = pd.read_csv('y_valid.csv')"
   ]
  },
  {
   "cell_type": "code",
   "execution_count": 143,
   "id": "b0fd9ec9-b0ad-47d2-9fda-d682711eba15",
   "metadata": {
    "tags": []
   },
   "outputs": [],
   "source": [
    "#concatenate training + validation sets \n",
    "X = pd.concat([X_train, X_valid])\n",
    "y = pd.concat([y_train, y_valid])"
   ]
  },
  {
   "cell_type": "code",
   "execution_count": 144,
   "id": "d1ade971-ff38-476f-a0a8-c0e79d65d286",
   "metadata": {
    "tags": []
   },
   "outputs": [],
   "source": [
    "X = X.drop(['Unnamed: 0', 'Unnamed: 0.1'], axis = 1)\n",
    "y = y.drop('Unnamed: 0', axis = 1)"
   ]
  },
  {
   "cell_type": "code",
   "execution_count": 145,
   "id": "a87420bb-d875-4e1a-8b2f-5a0c6f138e50",
   "metadata": {
    "tags": []
   },
   "outputs": [
    {
     "data": {
      "text/html": [
       "<div>\n",
       "<style scoped>\n",
       "    .dataframe tbody tr th:only-of-type {\n",
       "        vertical-align: middle;\n",
       "    }\n",
       "\n",
       "    .dataframe tbody tr th {\n",
       "        vertical-align: top;\n",
       "    }\n",
       "\n",
       "    .dataframe thead th {\n",
       "        text-align: right;\n",
       "    }\n",
       "</style>\n",
       "<table border=\"1\" class=\"dataframe\">\n",
       "  <thead>\n",
       "    <tr style=\"text-align: right;\">\n",
       "      <th></th>\n",
       "      <th>item_type</th>\n",
       "      <th>utc_date</th>\n",
       "      <th>country_code</th>\n",
       "      <th>item_price</th>\n",
       "      <th>currency</th>\n",
       "      <th>numTracks</th>\n",
       "      <th>dateModified</th>\n",
       "      <th>datePublished</th>\n",
       "      <th>albumRelease</th>\n",
       "      <th>Genre</th>\n",
       "      <th>inAlbum</th>\n",
       "      <th>tags</th>\n",
       "    </tr>\n",
       "  </thead>\n",
       "  <tbody>\n",
       "    <tr>\n",
       "      <th>0</th>\n",
       "      <td>a</td>\n",
       "      <td>1.599956e+09</td>\n",
       "      <td>au</td>\n",
       "      <td>2.184</td>\n",
       "      <td>AUD</td>\n",
       "      <td>6.0</td>\n",
       "      <td>1.305590e+09</td>\n",
       "      <td>1.305518e+09</td>\n",
       "      <td>1</td>\n",
       "      <td>rock</td>\n",
       "      <td>is</td>\n",
       "      <td>other</td>\n",
       "    </tr>\n",
       "    <tr>\n",
       "      <th>1</th>\n",
       "      <td>t</td>\n",
       "      <td>1.600334e+09</td>\n",
       "      <td>nz</td>\n",
       "      <td>1.300</td>\n",
       "      <td>GBP</td>\n",
       "      <td>1.0</td>\n",
       "      <td>1.574759e+09</td>\n",
       "      <td>1.574760e+09</td>\n",
       "      <td>1</td>\n",
       "      <td>electronic</td>\n",
       "      <td>in</td>\n",
       "      <td>house</td>\n",
       "    </tr>\n",
       "    <tr>\n",
       "      <th>2</th>\n",
       "      <td>a</td>\n",
       "      <td>1.600598e+09</td>\n",
       "      <td>de</td>\n",
       "      <td>0.000</td>\n",
       "      <td>USD</td>\n",
       "      <td>3.0</td>\n",
       "      <td>1.376506e+09</td>\n",
       "      <td>1.359491e+09</td>\n",
       "      <td>1</td>\n",
       "      <td>electronic</td>\n",
       "      <td>is</td>\n",
       "      <td>80s</td>\n",
       "    </tr>\n",
       "    <tr>\n",
       "      <th>3</th>\n",
       "      <td>a</td>\n",
       "      <td>1.601296e+09</td>\n",
       "      <td>nz</td>\n",
       "      <td>0.000</td>\n",
       "      <td>USD</td>\n",
       "      <td>25.0</td>\n",
       "      <td>1.606288e+09</td>\n",
       "      <td>1.567251e+09</td>\n",
       "      <td>1</td>\n",
       "      <td>experimental</td>\n",
       "      <td>is</td>\n",
       "      <td>disco</td>\n",
       "    </tr>\n",
       "    <tr>\n",
       "      <th>4</th>\n",
       "      <td>a</td>\n",
       "      <td>1.601310e+09</td>\n",
       "      <td>fr</td>\n",
       "      <td>0.000</td>\n",
       "      <td>USD</td>\n",
       "      <td>6.0</td>\n",
       "      <td>1.586739e+09</td>\n",
       "      <td>1.413672e+09</td>\n",
       "      <td>1</td>\n",
       "      <td>metal</td>\n",
       "      <td>is</td>\n",
       "      <td>other</td>\n",
       "    </tr>\n",
       "  </tbody>\n",
       "</table>\n",
       "</div>"
      ],
      "text/plain": [
       "  item_type      utc_date country_code  item_price currency  numTracks  \\\n",
       "0         a  1.599956e+09           au       2.184      AUD        6.0   \n",
       "1         t  1.600334e+09           nz       1.300      GBP        1.0   \n",
       "2         a  1.600598e+09           de       0.000      USD        3.0   \n",
       "3         a  1.601296e+09           nz       0.000      USD       25.0   \n",
       "4         a  1.601310e+09           fr       0.000      USD        6.0   \n",
       "\n",
       "   dateModified  datePublished  albumRelease         Genre inAlbum   tags  \n",
       "0  1.305590e+09   1.305518e+09             1          rock      is  other  \n",
       "1  1.574759e+09   1.574760e+09             1    electronic      in  house  \n",
       "2  1.376506e+09   1.359491e+09             1    electronic      is    80s  \n",
       "3  1.606288e+09   1.567251e+09             1  experimental      is  disco  \n",
       "4  1.586739e+09   1.413672e+09             1         metal      is  other  "
      ]
     },
     "execution_count": 145,
     "metadata": {},
     "output_type": "execute_result"
    }
   ],
   "source": [
    "X.head()"
   ]
  },
  {
   "cell_type": "code",
   "execution_count": 146,
   "id": "5d47fb3f-741d-4b21-9727-40eacd39a0ed",
   "metadata": {
    "tags": []
   },
   "outputs": [],
   "source": [
    "import datetime"
   ]
  },
  {
   "cell_type": "code",
   "execution_count": 147,
   "id": "1f25aec5-e445-415a-afc6-0d20a46237ab",
   "metadata": {
    "tags": []
   },
   "outputs": [],
   "source": [
    "utc_datetime = [datetime.datetime.utcfromtimestamp(x) for x in X['utc_date']]\n",
    "day_month_year = [y.strftime(\"%a/%d\") for y in utc_datetime]"
   ]
  },
  {
   "cell_type": "code",
   "execution_count": 148,
   "id": "5eeaf808-e8c8-4397-864f-c090929e94ba",
   "metadata": {
    "tags": []
   },
   "outputs": [],
   "source": [
    "#Bandcamp friday: first friday of the week\n",
    "fridays = ['Fri/01', 'Fri/02', 'Fri/03', 'Fri/04', 'Fri/05', 'Fri/06', 'Fri/07']"
   ]
  },
  {
   "cell_type": "code",
   "execution_count": 149,
   "id": "3d7a0060-ab07-4e9b-af28-dc45f40135ff",
   "metadata": {
    "tags": []
   },
   "outputs": [],
   "source": [
    "BC_fridays = [1 if day in fridays else 0 for day in day_month_year]"
   ]
  },
  {
   "cell_type": "code",
   "execution_count": 150,
   "id": "ad3ac7e5-97df-4c7f-ab6b-aa188a7df7ba",
   "metadata": {
    "tags": []
   },
   "outputs": [],
   "source": [
    "X['BC_fridays'] = BC_fridays\n",
    "X = X.drop(['utc_date', 'dateModified', 'datePublished'], axis = 1)"
   ]
  },
  {
   "cell_type": "code",
   "execution_count": 151,
   "id": "03c1d850-7d2f-4ae4-bafc-379341f1f15a",
   "metadata": {
    "tags": []
   },
   "outputs": [
    {
     "data": {
      "text/plain": [
       "Index(['item_type', 'country_code', 'item_price', 'currency', 'numTracks',\n",
       "       'albumRelease', 'Genre', 'inAlbum', 'tags', 'BC_fridays'],\n",
       "      dtype='object')"
      ]
     },
     "execution_count": 151,
     "metadata": {},
     "output_type": "execute_result"
    }
   ],
   "source": [
    "X.columns"
   ]
  },
  {
   "cell_type": "code",
   "execution_count": 152,
   "id": "e6081949-3470-4ca4-b927-689a9216165f",
   "metadata": {
    "tags": []
   },
   "outputs": [],
   "source": [
    "num_cols = ['item_price', 'numTracks', 'albumRelease']"
   ]
  },
  {
   "cell_type": "code",
   "execution_count": 153,
   "id": "cf6d4b42-2c04-4696-8e60-c13684be3548",
   "metadata": {
    "tags": []
   },
   "outputs": [],
   "source": [
    "for c in num_cols:\n",
    "    X[c] = (X[c] - np.mean(X[c])) / np.std(X[c]) "
   ]
  },
  {
   "cell_type": "code",
   "execution_count": 154,
   "id": "19cf9dd3-e293-4a80-b8f1-981c6f09042b",
   "metadata": {
    "tags": []
   },
   "outputs": [
    {
     "data": {
      "text/html": [
       "<div>\n",
       "<style scoped>\n",
       "    .dataframe tbody tr th:only-of-type {\n",
       "        vertical-align: middle;\n",
       "    }\n",
       "\n",
       "    .dataframe tbody tr th {\n",
       "        vertical-align: top;\n",
       "    }\n",
       "\n",
       "    .dataframe thead th {\n",
       "        text-align: right;\n",
       "    }\n",
       "</style>\n",
       "<table border=\"1\" class=\"dataframe\">\n",
       "  <thead>\n",
       "    <tr style=\"text-align: right;\">\n",
       "      <th></th>\n",
       "      <th>item_type</th>\n",
       "      <th>country_code</th>\n",
       "      <th>item_price</th>\n",
       "      <th>currency</th>\n",
       "      <th>numTracks</th>\n",
       "      <th>albumRelease</th>\n",
       "      <th>Genre</th>\n",
       "      <th>inAlbum</th>\n",
       "      <th>tags</th>\n",
       "      <th>BC_fridays</th>\n",
       "    </tr>\n",
       "  </thead>\n",
       "  <tbody>\n",
       "    <tr>\n",
       "      <th>0</th>\n",
       "      <td>a</td>\n",
       "      <td>au</td>\n",
       "      <td>-0.486443</td>\n",
       "      <td>AUD</td>\n",
       "      <td>-0.029680</td>\n",
       "      <td>-0.37912</td>\n",
       "      <td>rock</td>\n",
       "      <td>is</td>\n",
       "      <td>other</td>\n",
       "      <td>0</td>\n",
       "    </tr>\n",
       "    <tr>\n",
       "      <th>1</th>\n",
       "      <td>t</td>\n",
       "      <td>nz</td>\n",
       "      <td>-0.725651</td>\n",
       "      <td>GBP</td>\n",
       "      <td>-0.515869</td>\n",
       "      <td>-0.37912</td>\n",
       "      <td>electronic</td>\n",
       "      <td>in</td>\n",
       "      <td>house</td>\n",
       "      <td>0</td>\n",
       "    </tr>\n",
       "    <tr>\n",
       "      <th>2</th>\n",
       "      <td>a</td>\n",
       "      <td>de</td>\n",
       "      <td>-1.077429</td>\n",
       "      <td>USD</td>\n",
       "      <td>-0.321394</td>\n",
       "      <td>-0.37912</td>\n",
       "      <td>electronic</td>\n",
       "      <td>is</td>\n",
       "      <td>80s</td>\n",
       "      <td>0</td>\n",
       "    </tr>\n",
       "    <tr>\n",
       "      <th>3</th>\n",
       "      <td>a</td>\n",
       "      <td>nz</td>\n",
       "      <td>-1.077429</td>\n",
       "      <td>USD</td>\n",
       "      <td>1.817836</td>\n",
       "      <td>-0.37912</td>\n",
       "      <td>experimental</td>\n",
       "      <td>is</td>\n",
       "      <td>disco</td>\n",
       "      <td>0</td>\n",
       "    </tr>\n",
       "    <tr>\n",
       "      <th>4</th>\n",
       "      <td>a</td>\n",
       "      <td>fr</td>\n",
       "      <td>-1.077429</td>\n",
       "      <td>USD</td>\n",
       "      <td>-0.029680</td>\n",
       "      <td>-0.37912</td>\n",
       "      <td>metal</td>\n",
       "      <td>is</td>\n",
       "      <td>other</td>\n",
       "      <td>0</td>\n",
       "    </tr>\n",
       "  </tbody>\n",
       "</table>\n",
       "</div>"
      ],
      "text/plain": [
       "  item_type country_code  item_price currency  numTracks  albumRelease  \\\n",
       "0         a           au   -0.486443      AUD  -0.029680      -0.37912   \n",
       "1         t           nz   -0.725651      GBP  -0.515869      -0.37912   \n",
       "2         a           de   -1.077429      USD  -0.321394      -0.37912   \n",
       "3         a           nz   -1.077429      USD   1.817836      -0.37912   \n",
       "4         a           fr   -1.077429      USD  -0.029680      -0.37912   \n",
       "\n",
       "          Genre inAlbum   tags  BC_fridays  \n",
       "0          rock      is  other           0  \n",
       "1    electronic      in  house           0  \n",
       "2    electronic      is    80s           0  \n",
       "3  experimental      is  disco           0  \n",
       "4         metal      is  other           0  "
      ]
     },
     "execution_count": 154,
     "metadata": {},
     "output_type": "execute_result"
    }
   ],
   "source": [
    "X.head()"
   ]
  },
  {
   "cell_type": "code",
   "execution_count": 155,
   "id": "67ebd917-f7ae-4ffd-91ff-c383b8dfc504",
   "metadata": {
    "tags": []
   },
   "outputs": [],
   "source": [
    "y = y['amount_paid_usd']\n",
    "y = (y - np.mean(y))/ np.std(y)"
   ]
  },
  {
   "cell_type": "code",
   "execution_count": 156,
   "id": "fb97398f-f824-4338-9f60-2ac4c94825ac",
   "metadata": {},
   "outputs": [
    {
     "data": {
      "text/html": [
       "<div>\n",
       "<style scoped>\n",
       "    .dataframe tbody tr th:only-of-type {\n",
       "        vertical-align: middle;\n",
       "    }\n",
       "\n",
       "    .dataframe tbody tr th {\n",
       "        vertical-align: top;\n",
       "    }\n",
       "\n",
       "    .dataframe thead th {\n",
       "        text-align: right;\n",
       "    }\n",
       "</style>\n",
       "<table border=\"1\" class=\"dataframe\">\n",
       "  <thead>\n",
       "    <tr style=\"text-align: right;\">\n",
       "      <th></th>\n",
       "      <th>item_type</th>\n",
       "      <th>utc_date</th>\n",
       "      <th>country_code</th>\n",
       "      <th>item_price</th>\n",
       "      <th>currency</th>\n",
       "      <th>numTracks</th>\n",
       "      <th>dateModified</th>\n",
       "      <th>datePublished</th>\n",
       "      <th>albumRelease</th>\n",
       "      <th>Genre</th>\n",
       "      <th>inAlbum</th>\n",
       "      <th>tags</th>\n",
       "    </tr>\n",
       "  </thead>\n",
       "  <tbody>\n",
       "    <tr>\n",
       "      <th>0</th>\n",
       "      <td>a</td>\n",
       "      <td>1.601324e+09</td>\n",
       "      <td>us</td>\n",
       "      <td>10.0000</td>\n",
       "      <td>USD</td>\n",
       "      <td>11.0</td>\n",
       "      <td>1.592490e+09</td>\n",
       "      <td>1.586443e+09</td>\n",
       "      <td>4</td>\n",
       "      <td>folk</td>\n",
       "      <td>is</td>\n",
       "      <td>indie</td>\n",
       "    </tr>\n",
       "    <tr>\n",
       "      <th>1</th>\n",
       "      <td>t</td>\n",
       "      <td>1.601040e+09</td>\n",
       "      <td>gb</td>\n",
       "      <td>1.0800</td>\n",
       "      <td>CHF</td>\n",
       "      <td>1.0</td>\n",
       "      <td>1.601020e+09</td>\n",
       "      <td>1.600984e+09</td>\n",
       "      <td>1</td>\n",
       "      <td>electronic</td>\n",
       "      <td>not</td>\n",
       "      <td>berlin</td>\n",
       "    </tr>\n",
       "    <tr>\n",
       "      <th>2</th>\n",
       "      <td>a</td>\n",
       "      <td>1.600863e+09</td>\n",
       "      <td>ru</td>\n",
       "      <td>2.0000</td>\n",
       "      <td>USD</td>\n",
       "      <td>10.0</td>\n",
       "      <td>1.599186e+09</td>\n",
       "      <td>1.583545e+09</td>\n",
       "      <td>1</td>\n",
       "      <td>ambient</td>\n",
       "      <td>is</td>\n",
       "      <td>other</td>\n",
       "    </tr>\n",
       "    <tr>\n",
       "      <th>3</th>\n",
       "      <td>a</td>\n",
       "      <td>1.601557e+09</td>\n",
       "      <td>gb</td>\n",
       "      <td>8.2075</td>\n",
       "      <td>EUR</td>\n",
       "      <td>11.0</td>\n",
       "      <td>1.606497e+09</td>\n",
       "      <td>1.536095e+09</td>\n",
       "      <td>1</td>\n",
       "      <td>electronic</td>\n",
       "      <td>is</td>\n",
       "      <td>electro</td>\n",
       "    </tr>\n",
       "    <tr>\n",
       "      <th>4</th>\n",
       "      <td>t</td>\n",
       "      <td>1.601513e+09</td>\n",
       "      <td>au</td>\n",
       "      <td>1.0900</td>\n",
       "      <td>CHF</td>\n",
       "      <td>1.0</td>\n",
       "      <td>1.580825e+09</td>\n",
       "      <td>1.580579e+09</td>\n",
       "      <td>1</td>\n",
       "      <td>electronic</td>\n",
       "      <td>in</td>\n",
       "      <td>other</td>\n",
       "    </tr>\n",
       "  </tbody>\n",
       "</table>\n",
       "</div>"
      ],
      "text/plain": [
       "  item_type      utc_date country_code  item_price currency  numTracks  \\\n",
       "0         a  1.601324e+09           us     10.0000      USD       11.0   \n",
       "1         t  1.601040e+09           gb      1.0800      CHF        1.0   \n",
       "2         a  1.600863e+09           ru      2.0000      USD       10.0   \n",
       "3         a  1.601557e+09           gb      8.2075      EUR       11.0   \n",
       "4         t  1.601513e+09           au      1.0900      CHF        1.0   \n",
       "\n",
       "   dateModified  datePublished  albumRelease       Genre inAlbum     tags  \n",
       "0  1.592490e+09   1.586443e+09             4        folk      is    indie  \n",
       "1  1.601020e+09   1.600984e+09             1  electronic     not   berlin  \n",
       "2  1.599186e+09   1.583545e+09             1     ambient      is    other  \n",
       "3  1.606497e+09   1.536095e+09             1  electronic      is  electro  \n",
       "4  1.580825e+09   1.580579e+09             1  electronic      in    other  "
      ]
     },
     "execution_count": 156,
     "metadata": {},
     "output_type": "execute_result"
    }
   ],
   "source": [
    "X_test = pd.read_csv('X_test.csv')\n",
    "X_test = X_test.drop(['Unnamed: 0', 'Unnamed: 0.1'], axis = 1)\n",
    "X_test.head()"
   ]
  },
  {
   "cell_type": "code",
   "execution_count": 157,
   "id": "8e84c2fc-a28e-44de-8d8b-425ce89b11bc",
   "metadata": {},
   "outputs": [],
   "source": [
    "y_test = pd.read_csv('y_test.csv')\n",
    "y_test = y_test.drop('Unnamed: 0', axis = 1)"
   ]
  },
  {
   "cell_type": "code",
   "execution_count": 158,
   "id": "a2e121fd-4d85-43bf-acdd-14dcf8c8d794",
   "metadata": {},
   "outputs": [],
   "source": [
    "utc_datetime = [datetime.datetime.utcfromtimestamp(x) for x in X_test['utc_date']]\n",
    "day_month_year = [y.strftime(\"%a/%d\") for y in utc_datetime]"
   ]
  },
  {
   "cell_type": "code",
   "execution_count": 159,
   "id": "50cd2920-876e-46b8-98ef-9df495248ce9",
   "metadata": {},
   "outputs": [],
   "source": [
    "BC_fridays = [1 if day in fridays else 0 for day in day_month_year]"
   ]
  },
  {
   "cell_type": "code",
   "execution_count": 160,
   "id": "6a207ebb-b4ca-436a-91a9-3c533c582222",
   "metadata": {},
   "outputs": [],
   "source": [
    "X_test['BC_fridays'] = BC_fridays\n",
    "X_test = X_test.drop(['utc_date', 'dateModified', 'datePublished'], axis = 1)"
   ]
  },
  {
   "cell_type": "code",
   "execution_count": 161,
   "id": "74315c5d-1396-47d2-9537-1c541a5dca9d",
   "metadata": {},
   "outputs": [
    {
     "data": {
      "text/plain": [
       "((483876, 10), (120970, 10))"
      ]
     },
     "execution_count": 161,
     "metadata": {},
     "output_type": "execute_result"
    }
   ],
   "source": [
    "X.shape, X_test.shape"
   ]
  },
  {
   "cell_type": "code",
   "execution_count": 162,
   "id": "b4601e3f-3aaa-40d0-b5a5-540285c26513",
   "metadata": {},
   "outputs": [
    {
     "data": {
      "text/plain": [
       "((120970, 261), (483876, 261))"
      ]
     },
     "execution_count": 162,
     "metadata": {},
     "output_type": "execute_result"
    }
   ],
   "source": [
    "X_dummies = pd.concat([X, X_test])\n",
    "X_dummies = pd.get_dummies(X_dummies)\n",
    "\n",
    "X_test = X_dummies[483876:]\n",
    "X_d = X_dummies[:483876]\n",
    "X_test.shape, X_d.shape"
   ]
  },
  {
   "cell_type": "code",
   "execution_count": 163,
   "id": "50882422-c2b0-42f0-b2de-6f48db682239",
   "metadata": {},
   "outputs": [],
   "source": [
    "y_test = y_test['amount_paid_usd']\n",
    "y_test = (y_test - np.mean(y_test))/np.std(y_test)"
   ]
  },
  {
   "cell_type": "code",
   "execution_count": 164,
   "id": "971a72e0-2ac8-4714-b8c5-fb9fac4ff0aa",
   "metadata": {},
   "outputs": [
    {
     "data": {
      "text/plain": [
       "((120970,), (483876,), (120970, 261), (483876, 261))"
      ]
     },
     "execution_count": 164,
     "metadata": {},
     "output_type": "execute_result"
    }
   ],
   "source": [
    "y_test.shape, y.shape, X_test.shape, X_d.shape"
   ]
  },
  {
   "cell_type": "markdown",
   "id": "c70da2cc-7198-46c9-a9d3-c07ff06f6e15",
   "metadata": {},
   "source": [
    "#### random forest"
   ]
  },
  {
   "cell_type": "code",
   "execution_count": 48,
   "id": "adc64880-f665-462f-8f1e-069e69fb1b68",
   "metadata": {
    "tags": []
   },
   "outputs": [],
   "source": [
    "from sklearn.ensemble import RandomForestRegressor"
   ]
  },
  {
   "cell_type": "code",
   "execution_count": 49,
   "id": "c7e58825-e7fb-4809-a952-f5674b12a1e4",
   "metadata": {
    "tags": []
   },
   "outputs": [],
   "source": [
    "rfr = RandomForestRegressor(random_state = 42, n_estimators = 100, min_samples_split = 10, max_features = 0.5)"
   ]
  },
  {
   "cell_type": "code",
   "execution_count": 50,
   "id": "542354c2-a463-4b70-8dd7-ea95bc80a92c",
   "metadata": {
    "tags": []
   },
   "outputs": [
    {
     "data": {
      "text/plain": [
       "RandomForestRegressor(max_features=0.5, min_samples_split=10, random_state=42)"
      ]
     },
     "execution_count": 50,
     "metadata": {},
     "output_type": "execute_result"
    }
   ],
   "source": [
    "rfr.fit(X_d, y)"
   ]
  },
  {
   "cell_type": "code",
   "execution_count": 51,
   "id": "df2e261c-2020-498a-9ee9-6d40e8449399",
   "metadata": {},
   "outputs": [],
   "source": [
    "pred = rfr.predict(X_test)"
   ]
  },
  {
   "cell_type": "code",
   "execution_count": 43,
   "id": "5f8507ba-866c-444d-b851-a20015a56713",
   "metadata": {},
   "outputs": [],
   "source": [
    "from math import sqrt\n",
    "from sklearn.metrics import mean_squared_error"
   ]
  },
  {
   "cell_type": "code",
   "execution_count": 56,
   "id": "76b088b6-0418-4a67-b316-4c253bf38f66",
   "metadata": {},
   "outputs": [],
   "source": [
    "RMSE = sqrt(mean_squared_error(y_test, pred))"
   ]
  },
  {
   "cell_type": "code",
   "execution_count": 57,
   "id": "194371f4-40cf-4bde-9a0d-8def21c6259e",
   "metadata": {},
   "outputs": [
    {
     "data": {
      "text/plain": [
       "1.979522144942595"
      ]
     },
     "execution_count": 57,
     "metadata": {},
     "output_type": "execute_result"
    }
   ],
   "source": [
    "RMSE"
   ]
  },
  {
   "cell_type": "code",
   "execution_count": 66,
   "id": "250d43d7-ef33-4ce0-8f70-2030c4f7cd74",
   "metadata": {},
   "outputs": [],
   "source": [
    "import seaborn as sns\n",
    "import matplotlib.pyplot as plt"
   ]
  },
  {
   "cell_type": "code",
   "execution_count": 68,
   "id": "8e279ed1-5f0a-4b46-b374-6f0f1c12a5f2",
   "metadata": {},
   "outputs": [],
   "source": [
    "error_df = pd.DataFrame()"
   ]
  },
  {
   "cell_type": "code",
   "execution_count": 80,
   "id": "ce1ad0c1-6330-4691-b9a9-667a51c71492",
   "metadata": {},
   "outputs": [],
   "source": [
    "error_df['true'] = y_test\n",
    "error_df['pred'] = pred\n",
    "error_df['error'] = y_test - pred"
   ]
  },
  {
   "cell_type": "code",
   "execution_count": 89,
   "id": "39d508ef-90ee-43be-a05e-df65d6e99543",
   "metadata": {},
   "outputs": [
    {
     "data": {
      "image/png": "[encoded data removed]",
      "text/plain": [
       "<Figure size 432x288 with 1 Axes>"
      ]
     },
     "metadata": {
      "needs_background": "light"
     },
     "output_type": "display_data"
    }
   ],
   "source": [
    "sns.scatterplot(data = error_df, x = 'pred', y = 'error')\n",
    "plt.axhline(y = 0, color = 'r')\n",
    "plt.xlabel('predicted value')\n",
    "plt.ylabel('prediction error')\n",
    "plt.savefig('error_plot_rf.png', bbox_inches='tight', dpi=200)"
   ]
  },
  {
   "cell_type": "code",
   "execution_count": 64,
   "id": "b3633b62-41a3-46ce-b918-ba02122717ef",
   "metadata": {},
   "outputs": [
    {
     "data": {
      "text/plain": [
       "0         1.236321\n",
       "1        -0.932073\n",
       "2        -0.708427\n",
       "3         1.085603\n",
       "4        -0.929642\n",
       "            ...   \n",
       "120965    1.897536\n",
       "120966    0.020853\n",
       "120967   -0.881023\n",
       "120968    0.020853\n",
       "120969   -0.951521\n",
       "Name: amount_paid_usd, Length: 120970, dtype: float64"
      ]
     },
     "execution_count": 64,
     "metadata": {},
     "output_type": "execute_result"
    }
   ],
   "source": [
    "y_test"
   ]
  },
  {
   "cell_type": "code",
   "execution_count": 65,
   "id": "7482fbcd-7162-4b97-891a-10a63f3d542b",
   "metadata": {},
   "outputs": [
    {
     "data": {
      "text/plain": [
       "120970"
      ]
     },
     "execution_count": 65,
     "metadata": {},
     "output_type": "execute_result"
    }
   ],
   "source": [
    "len(pred)"
   ]
  },
  {
   "cell_type": "code",
   "execution_count": null,
   "id": "374b8a84-7cea-4ffd-85d4-557a0c38329f",
   "metadata": {},
   "outputs": [],
   "source": [
    "#retrain network with entity embeddings "
   ]
  },
  {
   "cell_type": "code",
   "execution_count": 165,
   "id": "ffaf0e49-ac4d-402d-a3b0-c277f9b73a16",
   "metadata": {},
   "outputs": [],
   "source": [
    "X_test = X_test[['item_price', 'numTracks', 'albumRelease', 'BC_fridays', 'item_type_a', 'item_type_t', 'inAlbum_in', 'inAlbum_is', 'inAlbum_not']]\n"
   ]
  },
  {
   "cell_type": "code",
   "execution_count": 166,
   "id": "9c5e1e22-9bd3-484f-9561-23010c46ce60",
   "metadata": {},
   "outputs": [],
   "source": [
    "X_d = X_d[['item_price', 'numTracks', 'albumRelease', 'BC_fridays', 'item_type_a', 'item_type_t', 'inAlbum_in', 'inAlbum_is', 'inAlbum_not']]"
   ]
  },
  {
   "cell_type": "code",
   "execution_count": 167,
   "id": "2b335f5a-ee96-4942-a003-a1450b7ed299",
   "metadata": {},
   "outputs": [
    {
     "data": {
      "text/plain": [
       "((120970, 9), (483876, 9))"
      ]
     },
     "execution_count": 167,
     "metadata": {},
     "output_type": "execute_result"
    }
   ],
   "source": [
    "X_test.shape, X_d.shape"
   ]
  },
  {
   "cell_type": "code",
   "execution_count": 168,
   "id": "14cff9cf-537e-4054-8930-e2f3096f15b7",
   "metadata": {},
   "outputs": [],
   "source": [
    "X_train = X_d.copy()\n",
    "X_test = X_test.copy()"
   ]
  },
  {
   "cell_type": "code",
   "execution_count": 169,
   "id": "c29d5132-6914-45d5-b05e-f5fc0b768650",
   "metadata": {},
   "outputs": [],
   "source": [
    "num_cols = ['item_price', 'numTracks', 'albumRelease']\n",
    "\n",
    "for c in num_cols:\n",
    "    X_test[c] = (X_test[c] - np.mean(X_test[c])) / np.std(X_test[c])\n",
    "    X_train[c] = (X_train[c] - np.mean(X_train[c])) / np.std(X_train[c]) "
   ]
  },
  {
   "cell_type": "code",
   "execution_count": 170,
   "id": "e148bc24-baf6-41ef-83f6-e1ae846ba911",
   "metadata": {},
   "outputs": [
    {
     "data": {
      "text/html": [
       "<div>\n",
       "<style scoped>\n",
       "    .dataframe tbody tr th:only-of-type {\n",
       "        vertical-align: middle;\n",
       "    }\n",
       "\n",
       "    .dataframe tbody tr th {\n",
       "        vertical-align: top;\n",
       "    }\n",
       "\n",
       "    .dataframe thead th {\n",
       "        text-align: right;\n",
       "    }\n",
       "</style>\n",
       "<table border=\"1\" class=\"dataframe\">\n",
       "  <thead>\n",
       "    <tr style=\"text-align: right;\">\n",
       "      <th></th>\n",
       "      <th>item_price</th>\n",
       "      <th>numTracks</th>\n",
       "      <th>albumRelease</th>\n",
       "      <th>BC_fridays</th>\n",
       "      <th>item_type_a</th>\n",
       "      <th>item_type_t</th>\n",
       "      <th>inAlbum_in</th>\n",
       "      <th>inAlbum_is</th>\n",
       "      <th>inAlbum_not</th>\n",
       "    </tr>\n",
       "  </thead>\n",
       "  <tbody>\n",
       "    <tr>\n",
       "      <th>0</th>\n",
       "      <td>-0.486443</td>\n",
       "      <td>-0.029680</td>\n",
       "      <td>-0.37912</td>\n",
       "      <td>0</td>\n",
       "      <td>1</td>\n",
       "      <td>0</td>\n",
       "      <td>0</td>\n",
       "      <td>1</td>\n",
       "      <td>0</td>\n",
       "    </tr>\n",
       "    <tr>\n",
       "      <th>1</th>\n",
       "      <td>-0.725651</td>\n",
       "      <td>-0.515869</td>\n",
       "      <td>-0.37912</td>\n",
       "      <td>0</td>\n",
       "      <td>0</td>\n",
       "      <td>1</td>\n",
       "      <td>1</td>\n",
       "      <td>0</td>\n",
       "      <td>0</td>\n",
       "    </tr>\n",
       "    <tr>\n",
       "      <th>2</th>\n",
       "      <td>-1.077429</td>\n",
       "      <td>-0.321394</td>\n",
       "      <td>-0.37912</td>\n",
       "      <td>0</td>\n",
       "      <td>1</td>\n",
       "      <td>0</td>\n",
       "      <td>0</td>\n",
       "      <td>1</td>\n",
       "      <td>0</td>\n",
       "    </tr>\n",
       "    <tr>\n",
       "      <th>3</th>\n",
       "      <td>-1.077429</td>\n",
       "      <td>1.817836</td>\n",
       "      <td>-0.37912</td>\n",
       "      <td>0</td>\n",
       "      <td>1</td>\n",
       "      <td>0</td>\n",
       "      <td>0</td>\n",
       "      <td>1</td>\n",
       "      <td>0</td>\n",
       "    </tr>\n",
       "    <tr>\n",
       "      <th>4</th>\n",
       "      <td>-1.077429</td>\n",
       "      <td>-0.029680</td>\n",
       "      <td>-0.37912</td>\n",
       "      <td>0</td>\n",
       "      <td>1</td>\n",
       "      <td>0</td>\n",
       "      <td>0</td>\n",
       "      <td>1</td>\n",
       "      <td>0</td>\n",
       "    </tr>\n",
       "  </tbody>\n",
       "</table>\n",
       "</div>"
      ],
      "text/plain": [
       "   item_price  numTracks  albumRelease  BC_fridays  item_type_a  item_type_t  \\\n",
       "0   -0.486443  -0.029680      -0.37912           0            1            0   \n",
       "1   -0.725651  -0.515869      -0.37912           0            0            1   \n",
       "2   -1.077429  -0.321394      -0.37912           0            1            0   \n",
       "3   -1.077429   1.817836      -0.37912           0            1            0   \n",
       "4   -1.077429  -0.029680      -0.37912           0            1            0   \n",
       "\n",
       "   inAlbum_in  inAlbum_is  inAlbum_not  \n",
       "0           0           1            0  \n",
       "1           1           0            0  \n",
       "2           0           1            0  \n",
       "3           0           1            0  \n",
       "4           0           1            0  "
      ]
     },
     "execution_count": 170,
     "metadata": {},
     "output_type": "execute_result"
    }
   ],
   "source": [
    "X_train.head()"
   ]
  },
  {
   "cell_type": "code",
   "execution_count": 171,
   "id": "d72a133a-3224-4d37-b410-8599d038db14",
   "metadata": {},
   "outputs": [
    {
     "data": {
      "text/html": [
       "<div>\n",
       "<style scoped>\n",
       "    .dataframe tbody tr th:only-of-type {\n",
       "        vertical-align: middle;\n",
       "    }\n",
       "\n",
       "    .dataframe tbody tr th {\n",
       "        vertical-align: top;\n",
       "    }\n",
       "\n",
       "    .dataframe thead th {\n",
       "        text-align: right;\n",
       "    }\n",
       "</style>\n",
       "<table border=\"1\" class=\"dataframe\">\n",
       "  <thead>\n",
       "    <tr style=\"text-align: right;\">\n",
       "      <th></th>\n",
       "      <th>item_price</th>\n",
       "      <th>numTracks</th>\n",
       "      <th>albumRelease</th>\n",
       "      <th>BC_fridays</th>\n",
       "      <th>item_type_a</th>\n",
       "      <th>item_type_t</th>\n",
       "      <th>inAlbum_in</th>\n",
       "      <th>inAlbum_is</th>\n",
       "      <th>inAlbum_not</th>\n",
       "    </tr>\n",
       "  </thead>\n",
       "  <tbody>\n",
       "    <tr>\n",
       "      <th>0</th>\n",
       "      <td>1.629203</td>\n",
       "      <td>0.436658</td>\n",
       "      <td>2.242001</td>\n",
       "      <td>0</td>\n",
       "      <td>1</td>\n",
       "      <td>0</td>\n",
       "      <td>0</td>\n",
       "      <td>1</td>\n",
       "      <td>0</td>\n",
       "    </tr>\n",
       "    <tr>\n",
       "      <th>1</th>\n",
       "      <td>-0.785942</td>\n",
       "      <td>-0.497934</td>\n",
       "      <td>-0.377800</td>\n",
       "      <td>0</td>\n",
       "      <td>0</td>\n",
       "      <td>1</td>\n",
       "      <td>0</td>\n",
       "      <td>0</td>\n",
       "      <td>1</td>\n",
       "    </tr>\n",
       "    <tr>\n",
       "      <th>2</th>\n",
       "      <td>-0.536847</td>\n",
       "      <td>0.343198</td>\n",
       "      <td>-0.377800</td>\n",
       "      <td>0</td>\n",
       "      <td>1</td>\n",
       "      <td>0</td>\n",
       "      <td>0</td>\n",
       "      <td>1</td>\n",
       "      <td>0</td>\n",
       "    </tr>\n",
       "    <tr>\n",
       "      <th>3</th>\n",
       "      <td>1.143872</td>\n",
       "      <td>0.436658</td>\n",
       "      <td>-0.377800</td>\n",
       "      <td>0</td>\n",
       "      <td>1</td>\n",
       "      <td>0</td>\n",
       "      <td>0</td>\n",
       "      <td>1</td>\n",
       "      <td>0</td>\n",
       "    </tr>\n",
       "    <tr>\n",
       "      <th>4</th>\n",
       "      <td>-0.783235</td>\n",
       "      <td>-0.497934</td>\n",
       "      <td>-0.377800</td>\n",
       "      <td>0</td>\n",
       "      <td>0</td>\n",
       "      <td>1</td>\n",
       "      <td>1</td>\n",
       "      <td>0</td>\n",
       "      <td>0</td>\n",
       "    </tr>\n",
       "  </tbody>\n",
       "</table>\n",
       "</div>"
      ],
      "text/plain": [
       "   item_price  numTracks  albumRelease  BC_fridays  item_type_a  item_type_t  \\\n",
       "0    1.629203   0.436658      2.242001           0            1            0   \n",
       "1   -0.785942  -0.497934     -0.377800           0            0            1   \n",
       "2   -0.536847   0.343198     -0.377800           0            1            0   \n",
       "3    1.143872   0.436658     -0.377800           0            1            0   \n",
       "4   -0.783235  -0.497934     -0.377800           0            0            1   \n",
       "\n",
       "   inAlbum_in  inAlbum_is  inAlbum_not  \n",
       "0           0           1            0  \n",
       "1           0           0            1  \n",
       "2           0           1            0  \n",
       "3           0           1            0  \n",
       "4           1           0            0  "
      ]
     },
     "execution_count": 171,
     "metadata": {},
     "output_type": "execute_result"
    }
   ],
   "source": [
    "X_test.head()"
   ]
  },
  {
   "cell_type": "code",
   "execution_count": 173,
   "id": "b680ccd4-031d-4418-9d2b-92c70e295ebc",
   "metadata": {},
   "outputs": [],
   "source": [
    "y_train = y_train['amount_paid_usd']\n",
    "y_train = (y_train - np.mean(y_train))/ np.std(y_train)"
   ]
  },
  {
   "cell_type": "code",
   "execution_count": 174,
   "id": "8a553fca-cc40-4577-a243-6dde81a694fc",
   "metadata": {},
   "outputs": [
    {
     "data": {
      "text/plain": [
       "(362907,)"
      ]
     },
     "execution_count": 174,
     "metadata": {},
     "output_type": "execute_result"
    }
   ],
   "source": [
    "y_train.shape"
   ]
  },
  {
   "cell_type": "code",
   "execution_count": 177,
   "id": "918ef3cc-5c33-4bd2-aa88-a304897fcec1",
   "metadata": {},
   "outputs": [
    {
     "data": {
      "text/plain": [
       "0         1.236321\n",
       "1        -0.932073\n",
       "2        -0.708427\n",
       "3         1.085603\n",
       "4        -0.929642\n",
       "            ...   \n",
       "120965    1.897536\n",
       "120966    0.020853\n",
       "120967   -0.881023\n",
       "120968    0.020853\n",
       "120969   -0.951521\n",
       "Name: amount_paid_usd, Length: 120970, dtype: float64"
      ]
     },
     "execution_count": 177,
     "metadata": {},
     "output_type": "execute_result"
    }
   ],
   "source": [
    "y_test"
   ]
  },
  {
   "cell_type": "code",
   "execution_count": 181,
   "id": "72a922e6-133b-4e26-a64f-75c8f071a1d5",
   "metadata": {},
   "outputs": [],
   "source": [
    "get_all_codes = pd.concat([X,X_test])"
   ]
  },
  {
   "cell_type": "code",
   "execution_count": 185,
   "id": "98f656c0-0f6f-48ed-8380-0213b0d6327d",
   "metadata": {},
   "outputs": [],
   "source": [
    "Xt = pd.read_csv('X_test.csv')"
   ]
  },
  {
   "cell_type": "code",
   "execution_count": 188,
   "id": "f88449e4-f90f-47dc-812a-cb8ad7a46688",
   "metadata": {},
   "outputs": [],
   "source": [
    "Xt = Xt.drop(['Unnamed: 0', 'Unnamed: 0.1'], axis = 1)"
   ]
  },
  {
   "cell_type": "code",
   "execution_count": null,
   "id": "ecdb87e3-6f20-438f-91cc-ea055bd6e0dd",
   "metadata": {},
   "outputs": [],
   "source": []
  }
 ],
 "metadata": {
  "kernelspec": {
   "display_name": "Python 3",
   "language": "python",
   "name": "python3"
  },
  "language_info": {
   "codemirror_mode": {
    "name": "ipython",
    "version": 3
   },
   "file_extension": ".py",
   "mimetype": "text/x-python",
   "name": "python",
   "nbconvert_exporter": "python",
   "pygments_lexer": "ipython3",
   "version": "3.7.12"
  }
 },
 "nbformat": 4,
 "nbformat_minor": 5
}
