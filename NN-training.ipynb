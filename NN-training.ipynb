{
 "cells": [
  {
   "cell_type": "code",
   "execution_count": 1,
   "id": "8b948767",
   "metadata": {},
   "outputs": [],
   "source": [
    "import numpy as np\n",
    "import pandas as pd\n",
    "from sklearn.metrics import mean_squared_error\n",
    "from math import sqrt"
   ]
  },
  {
   "cell_type": "code",
   "execution_count": 2,
   "id": "9cb87b37",
   "metadata": {},
   "outputs": [],
   "source": [
    "pd.set_option('display.max_rows', None)"
   ]
  },
  {
   "cell_type": "code",
   "execution_count": 3,
   "id": "832258ae",
   "metadata": {},
   "outputs": [],
   "source": [
    "X_train = pd.read_csv('X_train.csv')\n",
    "X_train = X_train.drop([\"Unnamed: 0.1\", \"Unnamed: 0\"], axis = 1)"
   ]
  },
  {
   "cell_type": "code",
   "execution_count": 4,
   "id": "17dd4609",
   "metadata": {},
   "outputs": [],
   "source": [
    "X_valid = pd.read_csv('X_valid.csv')\n",
    "X_valid = X_valid.drop([\"Unnamed: 0.1\", \"Unnamed: 0\"], axis = 1)"
   ]
  },
  {
   "cell_type": "code",
   "execution_count": 5,
   "id": "dcc036c0",
   "metadata": {
    "scrolled": true
   },
   "outputs": [
    {
     "data": {
      "text/html": [
       "<div>\n",
       "<style scoped>\n",
       "    .dataframe tbody tr th:only-of-type {\n",
       "        vertical-align: middle;\n",
       "    }\n",
       "\n",
       "    .dataframe tbody tr th {\n",
       "        vertical-align: top;\n",
       "    }\n",
       "\n",
       "    .dataframe thead th {\n",
       "        text-align: right;\n",
       "    }\n",
       "</style>\n",
       "<table border=\"1\" class=\"dataframe\">\n",
       "  <thead>\n",
       "    <tr style=\"text-align: right;\">\n",
       "      <th></th>\n",
       "      <th>item_type</th>\n",
       "      <th>utc_date</th>\n",
       "      <th>country_code</th>\n",
       "      <th>item_price</th>\n",
       "      <th>currency</th>\n",
       "      <th>numTracks</th>\n",
       "      <th>dateModified</th>\n",
       "      <th>datePublished</th>\n",
       "      <th>albumRelease</th>\n",
       "      <th>Genre</th>\n",
       "      <th>inAlbum</th>\n",
       "      <th>tags</th>\n",
       "    </tr>\n",
       "  </thead>\n",
       "  <tbody>\n",
       "    <tr>\n",
       "      <th>0</th>\n",
       "      <td>a</td>\n",
       "      <td>1.599956e+09</td>\n",
       "      <td>au</td>\n",
       "      <td>2.184</td>\n",
       "      <td>AUD</td>\n",
       "      <td>6.0</td>\n",
       "      <td>1.305590e+09</td>\n",
       "      <td>1.305518e+09</td>\n",
       "      <td>1</td>\n",
       "      <td>rock</td>\n",
       "      <td>is</td>\n",
       "      <td>other</td>\n",
       "    </tr>\n",
       "    <tr>\n",
       "      <th>1</th>\n",
       "      <td>t</td>\n",
       "      <td>1.600334e+09</td>\n",
       "      <td>nz</td>\n",
       "      <td>1.300</td>\n",
       "      <td>GBP</td>\n",
       "      <td>1.0</td>\n",
       "      <td>1.574759e+09</td>\n",
       "      <td>1.574760e+09</td>\n",
       "      <td>1</td>\n",
       "      <td>electronic</td>\n",
       "      <td>in</td>\n",
       "      <td>house</td>\n",
       "    </tr>\n",
       "    <tr>\n",
       "      <th>2</th>\n",
       "      <td>a</td>\n",
       "      <td>1.600598e+09</td>\n",
       "      <td>de</td>\n",
       "      <td>0.000</td>\n",
       "      <td>USD</td>\n",
       "      <td>3.0</td>\n",
       "      <td>1.376506e+09</td>\n",
       "      <td>1.359491e+09</td>\n",
       "      <td>1</td>\n",
       "      <td>electronic</td>\n",
       "      <td>is</td>\n",
       "      <td>80s</td>\n",
       "    </tr>\n",
       "    <tr>\n",
       "      <th>3</th>\n",
       "      <td>a</td>\n",
       "      <td>1.601296e+09</td>\n",
       "      <td>nz</td>\n",
       "      <td>0.000</td>\n",
       "      <td>USD</td>\n",
       "      <td>25.0</td>\n",
       "      <td>1.606288e+09</td>\n",
       "      <td>1.567251e+09</td>\n",
       "      <td>1</td>\n",
       "      <td>experimental</td>\n",
       "      <td>is</td>\n",
       "      <td>disco</td>\n",
       "    </tr>\n",
       "    <tr>\n",
       "      <th>4</th>\n",
       "      <td>a</td>\n",
       "      <td>1.601310e+09</td>\n",
       "      <td>fr</td>\n",
       "      <td>0.000</td>\n",
       "      <td>USD</td>\n",
       "      <td>6.0</td>\n",
       "      <td>1.586739e+09</td>\n",
       "      <td>1.413672e+09</td>\n",
       "      <td>1</td>\n",
       "      <td>metal</td>\n",
       "      <td>is</td>\n",
       "      <td>other</td>\n",
       "    </tr>\n",
       "  </tbody>\n",
       "</table>\n",
       "</div>"
      ],
      "text/plain": [
       "  item_type      utc_date country_code  item_price currency  numTracks  \\\n",
       "0         a  1.599956e+09           au       2.184      AUD        6.0   \n",
       "1         t  1.600334e+09           nz       1.300      GBP        1.0   \n",
       "2         a  1.600598e+09           de       0.000      USD        3.0   \n",
       "3         a  1.601296e+09           nz       0.000      USD       25.0   \n",
       "4         a  1.601310e+09           fr       0.000      USD        6.0   \n",
       "\n",
       "   dateModified  datePublished  albumRelease         Genre inAlbum   tags  \n",
       "0  1.305590e+09   1.305518e+09             1          rock      is  other  \n",
       "1  1.574759e+09   1.574760e+09             1    electronic      in  house  \n",
       "2  1.376506e+09   1.359491e+09             1    electronic      is    80s  \n",
       "3  1.606288e+09   1.567251e+09             1  experimental      is  disco  \n",
       "4  1.586739e+09   1.413672e+09             1         metal      is  other  "
      ]
     },
     "execution_count": 5,
     "metadata": {},
     "output_type": "execute_result"
    }
   ],
   "source": [
    "X_train.head()"
   ]
  },
  {
   "cell_type": "code",
   "execution_count": 6,
   "id": "9e57bf4f",
   "metadata": {},
   "outputs": [],
   "source": [
    "import datetime"
   ]
  },
  {
   "cell_type": "code",
   "execution_count": 7,
   "id": "5cbbe15c",
   "metadata": {},
   "outputs": [],
   "source": [
    "utc_datetime = [datetime.datetime.utcfromtimestamp(x) for x in X_train['utc_date']]\n",
    "utc_datetime_valid = [datetime.datetime.utcfromtimestamp(x) for x in X_valid['utc_date']]"
   ]
  },
  {
   "cell_type": "code",
   "execution_count": 8,
   "id": "5c076d9f",
   "metadata": {},
   "outputs": [],
   "source": [
    "day_month_year = [y.strftime('%a/%d') for y in utc_datetime]\n",
    "day_month_year_valid = [y.strftime('%a/%d') for y in utc_datetime_valid]"
   ]
  },
  {
   "cell_type": "code",
   "execution_count": 9,
   "id": "96631e97",
   "metadata": {},
   "outputs": [],
   "source": [
    "fridays = ['Fri/01', 'Fri/02', 'Fri/03', 'Fri/04', 'Fri/05', 'Fri/06', 'Fri/07']"
   ]
  },
  {
   "cell_type": "code",
   "execution_count": 10,
   "id": "569850d5",
   "metadata": {},
   "outputs": [],
   "source": [
    "BC_fridays = [1 if day in fridays else 0 for day in day_month_year]\n",
    "BC_fridays_valid = [1 if day in fridays else 0 for day in day_month_year_valid]"
   ]
  },
  {
   "cell_type": "code",
   "execution_count": 11,
   "id": "e8d935d4",
   "metadata": {},
   "outputs": [],
   "source": [
    "X_train['BC_fridays'] = BC_fridays\n",
    "X_valid['BC_fridays'] = BC_fridays_valid"
   ]
  },
  {
   "cell_type": "code",
   "execution_count": 12,
   "id": "f327bf4f",
   "metadata": {},
   "outputs": [],
   "source": [
    "X_train = X_train.drop(['utc_date', 'dateModified', 'datePublished'], axis = 1)\n",
    "X_valid = X_valid.drop(['utc_date', 'dateModified', 'datePublished'], axis = 1)"
   ]
  },
  {
   "cell_type": "code",
   "execution_count": 13,
   "id": "c1ef15b8",
   "metadata": {
    "scrolled": true
   },
   "outputs": [],
   "source": [
    "cols = num_cols = ['item_price', 'numTracks', 'albumRelease']\n",
    "\n",
    "for c in cols:\n",
    "    X_train[c] = (X_train[c] - np.mean(X_train[c]))/ np.std(X_train[c])\n",
    "    X_valid[c] = (X_valid[c] - np.mean(X_valid[c]))/ np.std(X_valid[c])"
   ]
  },
  {
   "cell_type": "code",
   "execution_count": 14,
   "id": "68d99240",
   "metadata": {},
   "outputs": [],
   "source": [
    "X_comb = pd.concat([X_train, X_valid])\n",
    "X_comb_d = pd.get_dummies(X_comb)"
   ]
  },
  {
   "cell_type": "code",
   "execution_count": 15,
   "id": "b705d2db",
   "metadata": {},
   "outputs": [],
   "source": [
    "X_train_d2 = X_comb_d[0:362907]\n",
    "X_valid_d2 = X_comb_d[362907:]"
   ]
  },
  {
   "cell_type": "code",
   "execution_count": 16,
   "id": "74b15c80",
   "metadata": {},
   "outputs": [
    {
     "data": {
      "text/plain": [
       "Index(['item_price', 'numTracks', 'albumRelease', 'BC_fridays', 'item_type_a',\n",
       "       'item_type_t', 'country_code_ad', 'country_code_ae', 'country_code_af',\n",
       "       'country_code_ag',\n",
       "       ...\n",
       "       'tags_folk', 'tags_hiphop', 'tags_hiphop/rap', 'tags_house',\n",
       "       'tags_indie', 'tags_london', 'tags_newyork', 'tags_other',\n",
       "       'tags_spokenword', 'tags_techno'],\n",
       "      dtype='object', length=258)"
      ]
     },
     "execution_count": 16,
     "metadata": {},
     "output_type": "execute_result"
    }
   ],
   "source": [
    "X_train_d2.columns"
   ]
  },
  {
   "cell_type": "code",
   "execution_count": 17,
   "id": "e5c4d537",
   "metadata": {},
   "outputs": [],
   "source": [
    "y_train = pd.read_csv('y_train.csv')"
   ]
  },
  {
   "cell_type": "code",
   "execution_count": 18,
   "id": "7643dfb9",
   "metadata": {},
   "outputs": [],
   "source": [
    "y_train = y_train['amount_paid_usd']"
   ]
  },
  {
   "cell_type": "code",
   "execution_count": 19,
   "id": "239d91c0",
   "metadata": {},
   "outputs": [],
   "source": [
    "y_train = (y_train - np.mean(y_train))/np.std(y_train)"
   ]
  },
  {
   "cell_type": "code",
   "execution_count": 20,
   "id": "56b0dcce",
   "metadata": {},
   "outputs": [],
   "source": [
    "y_valid = pd.read_csv('y_valid.csv')\n",
    "y_valid = y_valid['amount_paid_usd']\n",
    "y_valid = (y_valid - np.mean(y_valid))/np.std(y_valid)"
   ]
  },
  {
   "cell_type": "code",
   "execution_count": 21,
   "id": "a9b18061",
   "metadata": {},
   "outputs": [],
   "source": [
    "X_comb = pd.concat([X_train, X_valid])\n",
    "X_comb_d = pd.get_dummies(X_comb)"
   ]
  },
  {
   "cell_type": "code",
   "execution_count": 22,
   "id": "238a3c5d",
   "metadata": {},
   "outputs": [],
   "source": [
    "X_train_d2 = X_comb_d[0:362907]\n",
    "X_valid_d2 = X_comb_d[362907:]"
   ]
  },
  {
   "cell_type": "code",
   "execution_count": 23,
   "id": "ee7aeb11",
   "metadata": {},
   "outputs": [
    {
     "data": {
      "text/plain": [
       "((362907, 258), (120969, 258))"
      ]
     },
     "execution_count": 23,
     "metadata": {},
     "output_type": "execute_result"
    }
   ],
   "source": [
    "X_train_d2.shape, X_valid_d2.shape"
   ]
  },
  {
   "cell_type": "code",
   "execution_count": 24,
   "id": "6a8d03af",
   "metadata": {},
   "outputs": [],
   "source": [
    "from tensorflow.keras.models import Sequential\n",
    "from tensorflow.keras.layers import Dense\n",
    "from tensorflow import keras\n",
    "from tensorflow.keras.callbacks import EarlyStopping"
   ]
  },
  {
   "cell_type": "code",
   "execution_count": 25,
   "id": "74cbd24a",
   "metadata": {},
   "outputs": [],
   "source": [
    "#defining the model\n",
    "def nn_model(neurons):\n",
    "    model = Sequential()\n",
    "    model.add(Dense(neurons, input_dim=X_train_d2.shape[1], activation = 'relu'))\n",
    "    neurons = neurons / 2\n",
    "    model.add(Dense(neurons, activation = 'relu'))\n",
    "    neurons = neurons / 2\n",
    "    model.add(Dense(neurons, activation = 'relu'))\n",
    "    model.add(Dense(units=1, activation = 'linear'))\n",
    "    model.compile(loss='mse', optimizer= 'adam')\n",
    "    return model"
   ]
  },
  {
   "cell_type": "code",
   "execution_count": 26,
   "id": "e32f94bf",
   "metadata": {},
   "outputs": [],
   "source": [
    "neurons = [64, 128, 256]"
   ]
  },
  {
   "cell_type": "code",
   "execution_count": 27,
   "id": "df173a82",
   "metadata": {},
   "outputs": [],
   "source": [
    "def train_nn(neurons, batch):\n",
    "    es = EarlyStopping(monitor = 'val_loss', mode='min', patience = 8, restore_best_weights = True)\n",
    "    for n in neurons:\n",
    "        nn_mod = nn_model(n)\n",
    "        print(nn_mod.summary())\n",
    "        nn_mod.fit(X_train_d2, y_train, batch_size = batch, epochs = 50, validation_data=(X_valid_d2, y_valid), callbacks=[es])\n",
    "        pred = nn_mod.predict(X_valid_d2)\n",
    "        print(sqrt(mean_squared_error(y_valid, pred)))"
   ]
  },
  {
   "cell_type": "code",
   "execution_count": 28,
   "id": "1949f68e",
   "metadata": {
    "scrolled": false
   },
   "outputs": [
    {
     "name": "stdout",
     "output_type": "stream",
     "text": [
      "Model: \"sequential\"\n",
      "_________________________________________________________________\n",
      " Layer (type)                Output Shape              Param #   \n",
      "=================================================================\n",
      " dense (Dense)               (None, 64)                16576     \n",
      "                                                                 \n",
      " dense_1 (Dense)             (None, 32)                2080      \n",
      "                                                                 \n",
      " dense_2 (Dense)             (None, 16)                528       \n",
      "                                                                 \n",
      " dense_3 (Dense)             (None, 1)                 17        \n",
      "                                                                 \n",
      "=================================================================\n",
      "Total params: 19,201\n",
      "Trainable params: 19,201\n",
      "Non-trainable params: 0\n",
      "_________________________________________________________________\n",
      "None\n",
      "Epoch 1/50\n",
      "14517/14517 [==============================] - 19s 1ms/step - loss: 0.2994 - val_loss: 0.2983\n",
      "Epoch 2/50\n",
      "14517/14517 [==============================] - 12s 842us/step - loss: 0.2902 - val_loss: 0.2928\n",
      "Epoch 3/50\n",
      "14517/14517 [==============================] - 12s 808us/step - loss: 0.2872 - val_loss: 0.2906\n",
      "Epoch 4/50\n",
      "14517/14517 [==============================] - 13s 888us/step - loss: 0.2848 - val_loss: 0.2917\n",
      "Epoch 5/50\n",
      "14517/14517 [==============================] - 12s 826us/step - loss: 0.2832 - val_loss: 0.2931\n",
      "Epoch 6/50\n",
      "14517/14517 [==============================] - 12s 816us/step - loss: 0.2819 - val_loss: 0.2898\n",
      "Epoch 7/50\n",
      "14517/14517 [==============================] - 12s 822us/step - loss: 0.2809 - val_loss: 0.2880\n",
      "Epoch 8/50\n",
      "14517/14517 [==============================] - 12s 823us/step - loss: 0.2797 - val_loss: 0.2895\n",
      "Epoch 9/50\n",
      "14517/14517 [==============================] - 12s 852us/step - loss: 0.2787 - val_loss: 0.2880\n",
      "Epoch 10/50\n",
      "14517/14517 [==============================] - 12s 833us/step - loss: 0.2777 - val_loss: 0.2895\n",
      "Epoch 11/50\n",
      "14517/14517 [==============================] - 12s 807us/step - loss: 0.2771 - val_loss: 0.2922\n",
      "Epoch 12/50\n",
      "14517/14517 [==============================] - 12s 804us/step - loss: 0.2764 - val_loss: 0.2901\n",
      "Epoch 13/50\n",
      "14517/14517 [==============================] - 12s 813us/step - loss: 0.2758 - val_loss: 0.2896\n",
      "Epoch 14/50\n",
      "14517/14517 [==============================] - 12s 812us/step - loss: 0.2752 - val_loss: 0.2893\n",
      "Epoch 15/50\n",
      "14517/14517 [==============================] - 12s 816us/step - loss: 0.2747 - val_loss: 0.2892\n",
      "3781/3781 [==============================] - 2s 508us/step\n",
      "0.5366397717728807\n",
      "Model: \"sequential_1\"\n",
      "_________________________________________________________________\n",
      " Layer (type)                Output Shape              Param #   \n",
      "=================================================================\n",
      " dense_4 (Dense)             (None, 128)               33152     \n",
      "                                                                 \n",
      " dense_5 (Dense)             (None, 64)                8256      \n",
      "                                                                 \n",
      " dense_6 (Dense)             (None, 32)                2080      \n",
      "                                                                 \n",
      " dense_7 (Dense)             (None, 1)                 33        \n",
      "                                                                 \n",
      "=================================================================\n",
      "Total params: 43,521\n",
      "Trainable params: 43,521\n",
      "Non-trainable params: 0\n",
      "_________________________________________________________________\n",
      "None\n",
      "Epoch 1/50\n",
      "14517/14517 [==============================] - 21s 1ms/step - loss: 0.2993 - val_loss: 0.2963\n",
      "Epoch 2/50\n",
      "14517/14517 [==============================] - 13s 924us/step - loss: 0.2896 - val_loss: 0.2916\n",
      "Epoch 3/50\n",
      "14517/14517 [==============================] - 13s 926us/step - loss: 0.2859 - val_loss: 0.2953\n",
      "Epoch 4/50\n",
      "14517/14517 [==============================] - 14s 931us/step - loss: 0.2837 - val_loss: 0.2894\n",
      "Epoch 5/50\n",
      "14517/14517 [==============================] - 14s 935us/step - loss: 0.2813 - val_loss: 0.2923\n",
      "Epoch 6/50\n",
      "14517/14517 [==============================] - 14s 936us/step - loss: 0.2799 - val_loss: 0.2887\n",
      "Epoch 7/50\n",
      "14517/14517 [==============================] - 13s 928us/step - loss: 0.2783 - val_loss: 0.2907\n",
      "Epoch 8/50\n",
      "14517/14517 [==============================] - 13s 920us/step - loss: 0.2768 - val_loss: 0.2885\n",
      "Epoch 9/50\n",
      "14517/14517 [==============================] - 13s 921us/step - loss: 0.2760 - val_loss: 0.2883\n",
      "Epoch 10/50\n",
      "14517/14517 [==============================] - 13s 924us/step - loss: 0.2746 - val_loss: 0.2875\n",
      "Epoch 11/50\n",
      "14517/14517 [==============================] - 13s 928us/step - loss: 0.2741 - val_loss: 0.2877\n",
      "Epoch 12/50\n",
      "14517/14517 [==============================] - 13s 929us/step - loss: 0.2729 - val_loss: 0.2885\n",
      "Epoch 13/50\n",
      "14517/14517 [==============================] - 14s 943us/step - loss: 0.2721 - val_loss: 0.2863\n",
      "Epoch 14/50\n",
      "14517/14517 [==============================] - 13s 926us/step - loss: 0.2714 - val_loss: 0.2885\n",
      "Epoch 15/50\n",
      "14517/14517 [==============================] - 13s 921us/step - loss: 0.2703 - val_loss: 0.2879\n",
      "Epoch 16/50\n",
      "14517/14517 [==============================] - 13s 927us/step - loss: 0.2699 - val_loss: 0.2861\n",
      "Epoch 17/50\n",
      "14517/14517 [==============================] - 13s 928us/step - loss: 0.2693 - val_loss: 0.2871\n",
      "Epoch 18/50\n",
      "14517/14517 [==============================] - 13s 928us/step - loss: 0.2684 - val_loss: 0.2895\n",
      "Epoch 19/50\n",
      "14517/14517 [==============================] - 13s 929us/step - loss: 0.2679 - val_loss: 0.2903\n",
      "Epoch 20/50\n",
      "14517/14517 [==============================] - 13s 924us/step - loss: 0.2674 - val_loss: 0.2914\n",
      "Epoch 21/50\n",
      "14517/14517 [==============================] - 14s 935us/step - loss: 0.2669 - val_loss: 0.2907\n",
      "Epoch 22/50\n",
      "14517/14517 [==============================] - 13s 928us/step - loss: 0.2662 - val_loss: 0.2893\n",
      "Epoch 23/50\n",
      "14517/14517 [==============================] - 13s 925us/step - loss: 0.2656 - val_loss: 0.2902\n",
      "Epoch 24/50\n",
      "14517/14517 [==============================] - 13s 927us/step - loss: 0.2651 - val_loss: 0.2888\n",
      "3781/3781 [==============================] - 2s 544us/step\n",
      "0.5349120644960234\n",
      "Model: \"sequential_2\"\n",
      "_________________________________________________________________\n",
      " Layer (type)                Output Shape              Param #   \n",
      "=================================================================\n",
      " dense_8 (Dense)             (None, 256)               66304     \n",
      "                                                                 \n",
      " dense_9 (Dense)             (None, 128)               32896     \n",
      "                                                                 \n",
      " dense_10 (Dense)            (None, 64)                8256      \n",
      "                                                                 \n",
      " dense_11 (Dense)            (None, 1)                 65        \n",
      "                                                                 \n",
      "=================================================================\n",
      "Total params: 107,521\n",
      "Trainable params: 107,521\n",
      "Non-trainable params: 0\n",
      "_________________________________________________________________\n",
      "None\n",
      "Epoch 1/50\n",
      "14517/14517 [==============================] - 24s 2ms/step - loss: 0.2995 - val_loss: 0.2950\n",
      "Epoch 2/50\n",
      "14517/14517 [==============================] - 17s 1ms/step - loss: 0.2894 - val_loss: 0.2922\n",
      "Epoch 3/50\n",
      "14517/14517 [==============================] - 17s 1ms/step - loss: 0.2858 - val_loss: 0.2889\n",
      "Epoch 4/50\n",
      "14517/14517 [==============================] - 17s 1ms/step - loss: 0.2830 - val_loss: 0.2883\n",
      "Epoch 5/50\n",
      "14517/14517 [==============================] - 18s 1ms/step - loss: 0.2809 - val_loss: 0.2897\n",
      "Epoch 6/50\n",
      "14517/14517 [==============================] - 18s 1ms/step - loss: 0.2788 - val_loss: 0.2890\n",
      "Epoch 7/50\n",
      "14517/14517 [==============================] - 17s 1ms/step - loss: 0.2773 - val_loss: 0.2895\n",
      "Epoch 8/50\n",
      "14517/14517 [==============================] - 18s 1ms/step - loss: 0.2757 - val_loss: 0.2890\n",
      "Epoch 9/50\n",
      "14517/14517 [==============================] - 18s 1ms/step - loss: 0.2741 - val_loss: 0.2883\n",
      "Epoch 10/50\n"
     ]
    },
    {
     "name": "stdout",
     "output_type": "stream",
     "text": [
      "14517/14517 [==============================] - 17s 1ms/step - loss: 0.2728 - val_loss: 0.2872\n",
      "Epoch 11/50\n",
      "14517/14517 [==============================] - 17s 1ms/step - loss: 0.2716 - val_loss: 0.2877\n",
      "Epoch 12/50\n",
      "14517/14517 [==============================] - 17s 1ms/step - loss: 0.2706 - val_loss: 0.2870\n",
      "Epoch 13/50\n",
      "14517/14517 [==============================] - 17s 1ms/step - loss: 0.2693 - val_loss: 0.2877\n",
      "Epoch 14/50\n",
      "14517/14517 [==============================] - 17s 1ms/step - loss: 0.2685 - val_loss: 0.2896\n",
      "Epoch 15/50\n",
      "14517/14517 [==============================] - 18s 1ms/step - loss: 0.2674 - val_loss: 0.2887\n",
      "Epoch 16/50\n",
      "14517/14517 [==============================] - 18s 1ms/step - loss: 0.2664 - val_loss: 0.2873\n",
      "Epoch 17/50\n",
      "14517/14517 [==============================] - 18s 1ms/step - loss: 0.2655 - val_loss: 0.2906\n",
      "Epoch 18/50\n",
      "14517/14517 [==============================] - 17s 1ms/step - loss: 0.2650 - val_loss: 0.2868\n",
      "Epoch 19/50\n",
      "14517/14517 [==============================] - 17s 1ms/step - loss: 0.2640 - val_loss: 0.2885\n",
      "Epoch 20/50\n",
      "14517/14517 [==============================] - 17s 1ms/step - loss: 0.2631 - val_loss: 0.2893\n",
      "Epoch 21/50\n",
      "14517/14517 [==============================] - 17s 1ms/step - loss: 0.2626 - val_loss: 0.2870\n",
      "Epoch 22/50\n",
      "14517/14517 [==============================] - 17s 1ms/step - loss: 0.2618 - val_loss: 0.2876\n",
      "Epoch 23/50\n",
      "14517/14517 [==============================] - 18s 1ms/step - loss: 0.2612 - val_loss: 0.2894\n",
      "Epoch 24/50\n",
      "14517/14517 [==============================] - 17s 1ms/step - loss: 0.2608 - val_loss: 0.2884\n",
      "Epoch 25/50\n",
      "14517/14517 [==============================] - 17s 1ms/step - loss: 0.2606 - val_loss: 0.2908\n",
      "Epoch 26/50\n",
      "14517/14517 [==============================] - 18s 1ms/step - loss: 0.2600 - val_loss: 0.2930\n",
      "3781/3781 [==============================] - 2s 560us/step\n",
      "0.5354948941553808\n"
     ]
    }
   ],
   "source": [
    "mod1 = train_nn(neurons, batch=25)"
   ]
  },
  {
   "cell_type": "code",
   "execution_count": 29,
   "id": "a063f5f4",
   "metadata": {
    "scrolled": false
   },
   "outputs": [
    {
     "name": "stdout",
     "output_type": "stream",
     "text": [
      "Model: \"sequential_3\"\n",
      "_________________________________________________________________\n",
      " Layer (type)                Output Shape              Param #   \n",
      "=================================================================\n",
      " dense_12 (Dense)            (None, 64)                16576     \n",
      "                                                                 \n",
      " dense_13 (Dense)            (None, 32)                2080      \n",
      "                                                                 \n",
      " dense_14 (Dense)            (None, 16)                528       \n",
      "                                                                 \n",
      " dense_15 (Dense)            (None, 1)                 17        \n",
      "                                                                 \n",
      "=================================================================\n",
      "Total params: 19,201\n",
      "Trainable params: 19,201\n",
      "Non-trainable params: 0\n",
      "_________________________________________________________________\n",
      "None\n",
      "Epoch 1/50\n",
      "7259/7259 [==============================] - 14s 2ms/step - loss: 0.3001 - val_loss: 0.2967\n",
      "Epoch 2/50\n",
      "7259/7259 [==============================] - 7s 960us/step - loss: 0.2901 - val_loss: 0.2939\n",
      "Epoch 3/50\n",
      "7259/7259 [==============================] - 7s 944us/step - loss: 0.2868 - val_loss: 0.2937\n",
      "Epoch 4/50\n",
      "7259/7259 [==============================] - 7s 963us/step - loss: 0.2846 - val_loss: 0.2924\n",
      "Epoch 5/50\n",
      "7259/7259 [==============================] - 7s 945us/step - loss: 0.2829 - val_loss: 0.2902\n",
      "Epoch 6/50\n",
      "7259/7259 [==============================] - 7s 952us/step - loss: 0.2813 - val_loss: 0.2894\n",
      "Epoch 7/50\n",
      "7259/7259 [==============================] - 7s 944us/step - loss: 0.2799 - val_loss: 0.2886\n",
      "Epoch 8/50\n",
      "7259/7259 [==============================] - 7s 948us/step - loss: 0.2790 - val_loss: 0.2906\n",
      "Epoch 9/50\n",
      "7259/7259 [==============================] - 7s 948us/step - loss: 0.2779 - val_loss: 0.2879\n",
      "Epoch 10/50\n",
      "7259/7259 [==============================] - 7s 943us/step - loss: 0.2769 - val_loss: 0.2893\n",
      "Epoch 11/50\n",
      "7259/7259 [==============================] - 7s 951us/step - loss: 0.2760 - val_loss: 0.2881\n",
      "Epoch 12/50\n",
      "7259/7259 [==============================] - 7s 947us/step - loss: 0.2753 - val_loss: 0.2879\n",
      "Epoch 13/50\n",
      "7259/7259 [==============================] - 7s 956us/step - loss: 0.2745 - val_loss: 0.2892\n",
      "Epoch 14/50\n",
      "7259/7259 [==============================] - 7s 954us/step - loss: 0.2738 - val_loss: 0.2899\n",
      "Epoch 15/50\n",
      "7259/7259 [==============================] - 7s 946us/step - loss: 0.2735 - val_loss: 0.2869\n",
      "Epoch 16/50\n",
      "7259/7259 [==============================] - 7s 951us/step - loss: 0.2727 - val_loss: 0.2885\n",
      "Epoch 17/50\n",
      "7259/7259 [==============================] - 7s 947us/step - loss: 0.2720 - val_loss: 0.2881\n",
      "Epoch 18/50\n",
      "7259/7259 [==============================] - 7s 956us/step - loss: 0.2715 - val_loss: 0.2899\n",
      "Epoch 19/50\n",
      "7259/7259 [==============================] - 7s 950us/step - loss: 0.2712 - val_loss: 0.2901\n",
      "Epoch 20/50\n",
      "7259/7259 [==============================] - 7s 955us/step - loss: 0.2705 - val_loss: 0.2903\n",
      "Epoch 21/50\n",
      "7259/7259 [==============================] - 7s 940us/step - loss: 0.2702 - val_loss: 0.2878\n",
      "Epoch 22/50\n",
      "7259/7259 [==============================] - 7s 951us/step - loss: 0.2696 - val_loss: 0.2887\n",
      "Epoch 23/50\n",
      "7259/7259 [==============================] - 7s 948us/step - loss: 0.2693 - val_loss: 0.2897\n",
      "3781/3781 [==============================] - 2s 497us/step\n",
      "0.5356363638387652\n",
      "Model: \"sequential_4\"\n",
      "_________________________________________________________________\n",
      " Layer (type)                Output Shape              Param #   \n",
      "=================================================================\n",
      " dense_16 (Dense)            (None, 128)               33152     \n",
      "                                                                 \n",
      " dense_17 (Dense)            (None, 64)                8256      \n",
      "                                                                 \n",
      " dense_18 (Dense)            (None, 32)                2080      \n",
      "                                                                 \n",
      " dense_19 (Dense)            (None, 1)                 33        \n",
      "                                                                 \n",
      "=================================================================\n",
      "Total params: 43,521\n",
      "Trainable params: 43,521\n",
      "Non-trainable params: 0\n",
      "_________________________________________________________________\n",
      "None\n",
      "Epoch 1/50\n",
      "7259/7259 [==============================] - 14s 2ms/step - loss: 0.2996 - val_loss: 0.2943\n",
      "Epoch 2/50\n",
      "7259/7259 [==============================] - 8s 1ms/step - loss: 0.2890 - val_loss: 0.2935\n",
      "Epoch 3/50\n",
      "7259/7259 [==============================] - 7s 993us/step - loss: 0.2854 - val_loss: 0.2930\n",
      "Epoch 4/50\n",
      "7259/7259 [==============================] - 7s 989us/step - loss: 0.2827 - val_loss: 0.2895\n",
      "Epoch 5/50\n",
      "7259/7259 [==============================] - 7s 986us/step - loss: 0.2804 - val_loss: 0.2884\n",
      "Epoch 6/50\n",
      "7259/7259 [==============================] - 7s 991us/step - loss: 0.2786 - val_loss: 0.2906\n",
      "Epoch 7/50\n",
      "7259/7259 [==============================] - 7s 989us/step - loss: 0.2771 - val_loss: 0.2882\n",
      "Epoch 8/50\n",
      "7259/7259 [==============================] - 7s 998us/step - loss: 0.2752 - val_loss: 0.2900\n",
      "Epoch 9/50\n",
      "7259/7259 [==============================] - 7s 992us/step - loss: 0.2741 - val_loss: 0.2875\n",
      "Epoch 10/50\n",
      "7259/7259 [==============================] - 7s 999us/step - loss: 0.2730 - val_loss: 0.2875\n",
      "Epoch 11/50\n",
      "7259/7259 [==============================] - 7s 990us/step - loss: 0.2717 - val_loss: 0.2895\n",
      "Epoch 12/50\n",
      "7259/7259 [==============================] - 7s 997us/step - loss: 0.2709 - val_loss: 0.2889\n",
      "Epoch 13/50\n",
      "7259/7259 [==============================] - 7s 990us/step - loss: 0.2698 - val_loss: 0.2871\n",
      "Epoch 14/50\n",
      "7259/7259 [==============================] - 7s 997us/step - loss: 0.2690 - val_loss: 0.2875\n",
      "Epoch 15/50\n",
      "7259/7259 [==============================] - 7s 988us/step - loss: 0.2679 - val_loss: 0.2890\n",
      "Epoch 16/50\n",
      "7259/7259 [==============================] - 7s 991us/step - loss: 0.2671 - val_loss: 0.2889\n",
      "Epoch 17/50\n",
      "7259/7259 [==============================] - 7s 996us/step - loss: 0.2666 - val_loss: 0.2901\n",
      "Epoch 18/50\n",
      "7259/7259 [==============================] - 7s 986us/step - loss: 0.2655 - val_loss: 0.2881\n",
      "Epoch 19/50\n",
      "7259/7259 [==============================] - 7s 997us/step - loss: 0.2650 - val_loss: 0.2906\n",
      "Epoch 20/50\n",
      "7259/7259 [==============================] - 7s 988us/step - loss: 0.2641 - val_loss: 0.2917\n",
      "Epoch 21/50\n",
      "7259/7259 [==============================] - 7s 995us/step - loss: 0.2635 - val_loss: 0.2906\n",
      "3781/3781 [==============================] - 2s 523us/step\n",
      "0.5358191408399534\n",
      "Model: \"sequential_5\"\n",
      "_________________________________________________________________\n",
      " Layer (type)                Output Shape              Param #   \n",
      "=================================================================\n",
      " dense_20 (Dense)            (None, 256)               66304     \n",
      "                                                                 \n",
      " dense_21 (Dense)            (None, 128)               32896     \n",
      "                                                                 \n",
      " dense_22 (Dense)            (None, 64)                8256      \n",
      "                                                                 \n",
      " dense_23 (Dense)            (None, 1)                 65        \n",
      "                                                                 \n",
      "=================================================================\n",
      "Total params: 107,521\n",
      "Trainable params: 107,521\n",
      "Non-trainable params: 0\n",
      "_________________________________________________________________\n",
      "None\n",
      "Epoch 1/50\n",
      "7259/7259 [==============================] - 17s 2ms/step - loss: 0.2989 - val_loss: 0.2961\n",
      "Epoch 2/50\n",
      "7259/7259 [==============================] - 9s 1ms/step - loss: 0.2890 - val_loss: 0.2954\n",
      "Epoch 3/50\n",
      "7259/7259 [==============================] - 9s 1ms/step - loss: 0.2850 - val_loss: 0.2897\n",
      "Epoch 4/50\n",
      "7259/7259 [==============================] - 9s 1ms/step - loss: 0.2819 - val_loss: 0.2883\n",
      "Epoch 5/50\n",
      "7259/7259 [==============================] - 9s 1ms/step - loss: 0.2796 - val_loss: 0.2873\n",
      "Epoch 6/50\n"
     ]
    },
    {
     "name": "stdout",
     "output_type": "stream",
     "text": [
      "7259/7259 [==============================] - 9s 1ms/step - loss: 0.2776 - val_loss: 0.2876\n",
      "Epoch 7/50\n",
      "7259/7259 [==============================] - 9s 1ms/step - loss: 0.2756 - val_loss: 0.2865\n",
      "Epoch 8/50\n",
      "7259/7259 [==============================] - 9s 1ms/step - loss: 0.2741 - val_loss: 0.2864\n",
      "Epoch 9/50\n",
      "7259/7259 [==============================] - 9s 1ms/step - loss: 0.2722 - val_loss: 0.2870\n",
      "Epoch 10/50\n",
      "7259/7259 [==============================] - 9s 1ms/step - loss: 0.2706 - val_loss: 0.2870\n",
      "Epoch 11/50\n",
      "7259/7259 [==============================] - 9s 1ms/step - loss: 0.2691 - val_loss: 0.2892\n",
      "Epoch 12/50\n",
      "7259/7259 [==============================] - 9s 1ms/step - loss: 0.2674 - val_loss: 0.2908\n",
      "Epoch 13/50\n",
      "7259/7259 [==============================] - 9s 1ms/step - loss: 0.2663 - val_loss: 0.2881\n",
      "Epoch 14/50\n",
      "7259/7259 [==============================] - 9s 1ms/step - loss: 0.2648 - val_loss: 0.2881\n",
      "Epoch 15/50\n",
      "7259/7259 [==============================] - 9s 1ms/step - loss: 0.2639 - val_loss: 0.2888\n",
      "Epoch 16/50\n",
      "7259/7259 [==============================] - 9s 1ms/step - loss: 0.2628 - val_loss: 0.2871\n",
      "3781/3781 [==============================] - 2s 563us/step\n",
      "0.5351367036483681\n"
     ]
    }
   ],
   "source": [
    "mod2 = train_nn(neurons, batch=50)"
   ]
  },
  {
   "cell_type": "code",
   "execution_count": 30,
   "id": "b673279c",
   "metadata": {
    "scrolled": false
   },
   "outputs": [
    {
     "name": "stdout",
     "output_type": "stream",
     "text": [
      "Model: \"sequential_6\"\n",
      "_________________________________________________________________\n",
      " Layer (type)                Output Shape              Param #   \n",
      "=================================================================\n",
      " dense_24 (Dense)            (None, 64)                16576     \n",
      "                                                                 \n",
      " dense_25 (Dense)            (None, 32)                2080      \n",
      "                                                                 \n",
      " dense_26 (Dense)            (None, 16)                528       \n",
      "                                                                 \n",
      " dense_27 (Dense)            (None, 1)                 17        \n",
      "                                                                 \n",
      "=================================================================\n",
      "Total params: 19,201\n",
      "Trainable params: 19,201\n",
      "Non-trainable params: 0\n",
      "_________________________________________________________________\n",
      "None\n",
      "Epoch 1/50\n",
      "3630/3630 [==============================] - 11s 3ms/step - loss: 0.3010 - val_loss: 0.2952\n",
      "Epoch 2/50\n",
      "3630/3630 [==============================] - 4s 1ms/step - loss: 0.2901 - val_loss: 0.2922\n",
      "Epoch 3/50\n",
      "3630/3630 [==============================] - 4s 1ms/step - loss: 0.2871 - val_loss: 0.2933\n",
      "Epoch 4/50\n",
      "3630/3630 [==============================] - 4s 1ms/step - loss: 0.2851 - val_loss: 0.2906\n",
      "Epoch 5/50\n",
      "3630/3630 [==============================] - 4s 1ms/step - loss: 0.2834 - val_loss: 0.2897\n",
      "Epoch 6/50\n",
      "3630/3630 [==============================] - 4s 1ms/step - loss: 0.2819 - val_loss: 0.2891\n",
      "Epoch 7/50\n",
      "3630/3630 [==============================] - 4s 1ms/step - loss: 0.2807 - val_loss: 0.2894\n",
      "Epoch 8/50\n",
      "3630/3630 [==============================] - 4s 1ms/step - loss: 0.2795 - val_loss: 0.2971\n",
      "Epoch 9/50\n",
      "3630/3630 [==============================] - 4s 1ms/step - loss: 0.2783 - val_loss: 0.2912\n",
      "Epoch 10/50\n",
      "3630/3630 [==============================] - 4s 1ms/step - loss: 0.2777 - val_loss: 0.2876\n",
      "Epoch 11/50\n",
      "3630/3630 [==============================] - 4s 1ms/step - loss: 0.2764 - val_loss: 0.2911\n",
      "Epoch 12/50\n",
      "3630/3630 [==============================] - 4s 1ms/step - loss: 0.2753 - val_loss: 0.2895\n",
      "Epoch 13/50\n",
      "3630/3630 [==============================] - 4s 1ms/step - loss: 0.2745 - val_loss: 0.2882\n",
      "Epoch 14/50\n",
      "3630/3630 [==============================] - 4s 1ms/step - loss: 0.2737 - val_loss: 0.2894\n",
      "Epoch 15/50\n",
      "3630/3630 [==============================] - 4s 1ms/step - loss: 0.2730 - val_loss: 0.2881\n",
      "Epoch 16/50\n",
      "3630/3630 [==============================] - 4s 1ms/step - loss: 0.2724 - val_loss: 0.2907\n",
      "Epoch 17/50\n",
      "3630/3630 [==============================] - 4s 1ms/step - loss: 0.2717 - val_loss: 0.2899\n",
      "Epoch 18/50\n",
      "3630/3630 [==============================] - 4s 1ms/step - loss: 0.2713 - val_loss: 0.2891\n",
      "3781/3781 [==============================] - 2s 512us/step\n",
      "0.5363216269526763\n",
      "Model: \"sequential_7\"\n",
      "_________________________________________________________________\n",
      " Layer (type)                Output Shape              Param #   \n",
      "=================================================================\n",
      " dense_28 (Dense)            (None, 128)               33152     \n",
      "                                                                 \n",
      " dense_29 (Dense)            (None, 64)                8256      \n",
      "                                                                 \n",
      " dense_30 (Dense)            (None, 32)                2080      \n",
      "                                                                 \n",
      " dense_31 (Dense)            (None, 1)                 33        \n",
      "                                                                 \n",
      "=================================================================\n",
      "Total params: 43,521\n",
      "Trainable params: 43,521\n",
      "Non-trainable params: 0\n",
      "_________________________________________________________________\n",
      "None\n",
      "Epoch 1/50\n",
      "3630/3630 [==============================] - 12s 3ms/step - loss: 0.2996 - val_loss: 0.2941\n",
      "Epoch 2/50\n",
      "3630/3630 [==============================] - 5s 1ms/step - loss: 0.2890 - val_loss: 0.2942\n",
      "Epoch 3/50\n",
      "3630/3630 [==============================] - 5s 1ms/step - loss: 0.2855 - val_loss: 0.2905\n",
      "Epoch 4/50\n",
      "3630/3630 [==============================] - 5s 1ms/step - loss: 0.2832 - val_loss: 0.2892\n",
      "Epoch 5/50\n",
      "3630/3630 [==============================] - 5s 1ms/step - loss: 0.2808 - val_loss: 0.2880\n",
      "Epoch 6/50\n",
      "3630/3630 [==============================] - 5s 1ms/step - loss: 0.2788 - val_loss: 0.2886\n",
      "Epoch 7/50\n",
      "3630/3630 [==============================] - 5s 1ms/step - loss: 0.2770 - val_loss: 0.2874\n",
      "Epoch 8/50\n",
      "3630/3630 [==============================] - 5s 1ms/step - loss: 0.2755 - val_loss: 0.2921\n",
      "Epoch 9/50\n",
      "3630/3630 [==============================] - 5s 1ms/step - loss: 0.2740 - val_loss: 0.2918\n",
      "Epoch 10/50\n",
      "3630/3630 [==============================] - 5s 1ms/step - loss: 0.2728 - val_loss: 0.2872\n",
      "Epoch 11/50\n",
      "3630/3630 [==============================] - 5s 1ms/step - loss: 0.2713 - val_loss: 0.2888\n",
      "Epoch 12/50\n",
      "3630/3630 [==============================] - 5s 1ms/step - loss: 0.2700 - val_loss: 0.2882\n",
      "Epoch 13/50\n",
      "3630/3630 [==============================] - 5s 1ms/step - loss: 0.2693 - val_loss: 0.2911\n",
      "Epoch 14/50\n",
      "3630/3630 [==============================] - 5s 1ms/step - loss: 0.2678 - val_loss: 0.2862\n",
      "Epoch 15/50\n",
      "3630/3630 [==============================] - 5s 1ms/step - loss: 0.2668 - val_loss: 0.2885\n",
      "Epoch 16/50\n",
      "3630/3630 [==============================] - 5s 1ms/step - loss: 0.2659 - val_loss: 0.2883\n",
      "Epoch 17/50\n",
      "3630/3630 [==============================] - 5s 1ms/step - loss: 0.2650 - val_loss: 0.2876\n",
      "Epoch 18/50\n",
      "3630/3630 [==============================] - 5s 1ms/step - loss: 0.2641 - val_loss: 0.2889\n",
      "Epoch 19/50\n",
      "3630/3630 [==============================] - 5s 1ms/step - loss: 0.2630 - val_loss: 0.2915\n",
      "Epoch 20/50\n",
      "3630/3630 [==============================] - 5s 1ms/step - loss: 0.2625 - val_loss: 0.2895\n",
      "Epoch 21/50\n",
      "3630/3630 [==============================] - 5s 1ms/step - loss: 0.2613 - val_loss: 0.2888\n",
      "Epoch 22/50\n",
      "3630/3630 [==============================] - 5s 1ms/step - loss: 0.2611 - val_loss: 0.2903\n",
      "3781/3781 [==============================] - 2s 595us/step\n",
      "0.5350048474506992\n",
      "Model: \"sequential_8\"\n",
      "_________________________________________________________________\n",
      " Layer (type)                Output Shape              Param #   \n",
      "=================================================================\n",
      " dense_32 (Dense)            (None, 256)               66304     \n",
      "                                                                 \n",
      " dense_33 (Dense)            (None, 128)               32896     \n",
      "                                                                 \n",
      " dense_34 (Dense)            (None, 64)                8256      \n",
      "                                                                 \n",
      " dense_35 (Dense)            (None, 1)                 65        \n",
      "                                                                 \n",
      "=================================================================\n",
      "Total params: 107,521\n",
      "Trainable params: 107,521\n",
      "Non-trainable params: 0\n",
      "_________________________________________________________________\n",
      "None\n",
      "Epoch 1/50\n",
      "3630/3630 [==============================] - 14s 4ms/step - loss: 0.2986 - val_loss: 0.2932\n",
      "Epoch 2/50\n",
      "3630/3630 [==============================] - 7s 2ms/step - loss: 0.2885 - val_loss: 0.2912\n",
      "Epoch 3/50\n",
      "3630/3630 [==============================] - 7s 2ms/step - loss: 0.2844 - val_loss: 0.2888\n",
      "Epoch 4/50\n",
      "3630/3630 [==============================] - 7s 2ms/step - loss: 0.2812 - val_loss: 0.2894\n",
      "Epoch 5/50\n",
      "3630/3630 [==============================] - 7s 2ms/step - loss: 0.2786 - val_loss: 0.2866\n",
      "Epoch 6/50\n",
      "3630/3630 [==============================] - 7s 2ms/step - loss: 0.2760 - val_loss: 0.2863\n",
      "Epoch 7/50\n",
      "3630/3630 [==============================] - 7s 2ms/step - loss: 0.2740 - val_loss: 0.2884\n",
      "Epoch 8/50\n",
      "3630/3630 [==============================] - 7s 2ms/step - loss: 0.2720 - val_loss: 0.2879\n",
      "Epoch 9/50\n",
      "3630/3630 [==============================] - 7s 2ms/step - loss: 0.2698 - val_loss: 0.2897\n",
      "Epoch 10/50\n",
      "3630/3630 [==============================] - 7s 2ms/step - loss: 0.2686 - val_loss: 0.2867\n",
      "Epoch 11/50\n"
     ]
    },
    {
     "name": "stdout",
     "output_type": "stream",
     "text": [
      "3630/3630 [==============================] - 7s 2ms/step - loss: 0.2666 - val_loss: 0.2880\n",
      "Epoch 12/50\n",
      "3630/3630 [==============================] - 7s 2ms/step - loss: 0.2651 - val_loss: 0.2897\n",
      "Epoch 13/50\n",
      "3630/3630 [==============================] - 7s 2ms/step - loss: 0.2637 - val_loss: 0.2882\n",
      "Epoch 14/50\n",
      "3630/3630 [==============================] - 7s 2ms/step - loss: 0.2624 - val_loss: 0.2863\n",
      "3781/3781 [==============================] - 2s 621us/step\n",
      "0.5350576476599244\n"
     ]
    }
   ],
   "source": [
    "mod3 = train_nn(neurons, batch=100)"
   ]
  },
  {
   "cell_type": "code",
   "execution_count": 31,
   "id": "82498308",
   "metadata": {
    "scrolled": false
   },
   "outputs": [
    {
     "name": "stdout",
     "output_type": "stream",
     "text": [
      "Model: \"sequential_9\"\n",
      "_________________________________________________________________\n",
      " Layer (type)                Output Shape              Param #   \n",
      "=================================================================\n",
      " dense_36 (Dense)            (None, 64)                16576     \n",
      "                                                                 \n",
      " dense_37 (Dense)            (None, 32)                2080      \n",
      "                                                                 \n",
      " dense_38 (Dense)            (None, 16)                528       \n",
      "                                                                 \n",
      " dense_39 (Dense)            (None, 1)                 17        \n",
      "                                                                 \n",
      "=================================================================\n",
      "Total params: 19,201\n",
      "Trainable params: 19,201\n",
      "Non-trainable params: 0\n",
      "_________________________________________________________________\n",
      "None\n",
      "Epoch 1/50\n",
      "2420/2420 [==============================] - 10s 4ms/step - loss: 0.3096 - val_loss: 0.2981\n",
      "Epoch 2/50\n",
      "2420/2420 [==============================] - 2s 1ms/step - loss: 0.2905 - val_loss: 0.2918\n",
      "Epoch 3/50\n",
      "2420/2420 [==============================] - 2s 1ms/step - loss: 0.2870 - val_loss: 0.2911\n",
      "Epoch 4/50\n",
      "2420/2420 [==============================] - 3s 1ms/step - loss: 0.2848 - val_loss: 0.2908\n",
      "Epoch 5/50\n",
      "2420/2420 [==============================] - 3s 1ms/step - loss: 0.2834 - val_loss: 0.2900\n",
      "Epoch 6/50\n",
      "2420/2420 [==============================] - 3s 1ms/step - loss: 0.2818 - val_loss: 0.2913\n",
      "Epoch 7/50\n",
      "2420/2420 [==============================] - 2s 1ms/step - loss: 0.2806 - val_loss: 0.2891\n",
      "Epoch 8/50\n",
      "2420/2420 [==============================] - 2s 1ms/step - loss: 0.2794 - val_loss: 0.2885\n",
      "Epoch 9/50\n",
      "2420/2420 [==============================] - 2s 1ms/step - loss: 0.2788 - val_loss: 0.2887\n",
      "Epoch 10/50\n",
      "2420/2420 [==============================] - 3s 1ms/step - loss: 0.2776 - val_loss: 0.2885\n",
      "Epoch 11/50\n",
      "2420/2420 [==============================] - 2s 1ms/step - loss: 0.2767 - val_loss: 0.2879\n",
      "Epoch 12/50\n",
      "2420/2420 [==============================] - 2s 1ms/step - loss: 0.2759 - val_loss: 0.2878\n",
      "Epoch 13/50\n",
      "2420/2420 [==============================] - 2s 1ms/step - loss: 0.2753 - val_loss: 0.2884\n",
      "Epoch 14/50\n",
      "2420/2420 [==============================] - 2s 1ms/step - loss: 0.2746 - val_loss: 0.2916\n",
      "Epoch 15/50\n",
      "2420/2420 [==============================] - 2s 1ms/step - loss: 0.2736 - val_loss: 0.2889\n",
      "Epoch 16/50\n",
      "2420/2420 [==============================] - 2s 1ms/step - loss: 0.2729 - val_loss: 0.2903\n",
      "Epoch 17/50\n",
      "2420/2420 [==============================] - 2s 1ms/step - loss: 0.2724 - val_loss: 0.2901\n",
      "Epoch 18/50\n",
      "2420/2420 [==============================] - 2s 1ms/step - loss: 0.2717 - val_loss: 0.2886\n",
      "Epoch 19/50\n",
      "2420/2420 [==============================] - 3s 1ms/step - loss: 0.2710 - val_loss: 0.2901\n",
      "Epoch 20/50\n",
      "2420/2420 [==============================] - 3s 1ms/step - loss: 0.2704 - val_loss: 0.2891\n",
      "3781/3781 [==============================] - 2s 498us/step\n",
      "0.5364417276902953\n",
      "Model: \"sequential_10\"\n",
      "_________________________________________________________________\n",
      " Layer (type)                Output Shape              Param #   \n",
      "=================================================================\n",
      " dense_40 (Dense)            (None, 128)               33152     \n",
      "                                                                 \n",
      " dense_41 (Dense)            (None, 64)                8256      \n",
      "                                                                 \n",
      " dense_42 (Dense)            (None, 32)                2080      \n",
      "                                                                 \n",
      " dense_43 (Dense)            (None, 1)                 33        \n",
      "                                                                 \n",
      "=================================================================\n",
      "Total params: 43,521\n",
      "Trainable params: 43,521\n",
      "Non-trainable params: 0\n",
      "_________________________________________________________________\n",
      "None\n",
      "Epoch 1/50\n",
      "2420/2420 [==============================] - 10s 4ms/step - loss: 0.3005 - val_loss: 0.2959\n",
      "Epoch 2/50\n",
      "2420/2420 [==============================] - 3s 1ms/step - loss: 0.2888 - val_loss: 0.2912\n",
      "Epoch 3/50\n",
      "2420/2420 [==============================] - 3s 1ms/step - loss: 0.2856 - val_loss: 0.2917\n",
      "Epoch 4/50\n",
      "2420/2420 [==============================] - 3s 1ms/step - loss: 0.2829 - val_loss: 0.2886\n",
      "Epoch 5/50\n",
      "2420/2420 [==============================] - 3s 1ms/step - loss: 0.2806 - val_loss: 0.2882\n",
      "Epoch 6/50\n",
      "2420/2420 [==============================] - 3s 1ms/step - loss: 0.2787 - val_loss: 0.2885\n",
      "Epoch 7/50\n",
      "2420/2420 [==============================] - 3s 1ms/step - loss: 0.2769 - val_loss: 0.2879\n",
      "Epoch 8/50\n",
      "2420/2420 [==============================] - 3s 1ms/step - loss: 0.2753 - val_loss: 0.2873\n",
      "Epoch 9/50\n",
      "2420/2420 [==============================] - 3s 1ms/step - loss: 0.2739 - val_loss: 0.2884\n",
      "Epoch 10/50\n",
      "2420/2420 [==============================] - 3s 1ms/step - loss: 0.2724 - val_loss: 0.2873\n",
      "Epoch 11/50\n",
      "2420/2420 [==============================] - 3s 1ms/step - loss: 0.2712 - val_loss: 0.2869\n",
      "Epoch 12/50\n",
      "2420/2420 [==============================] - 3s 1ms/step - loss: 0.2699 - val_loss: 0.2891\n",
      "Epoch 13/50\n",
      "2420/2420 [==============================] - 3s 1ms/step - loss: 0.2690 - val_loss: 0.2871\n",
      "Epoch 14/50\n",
      "2420/2420 [==============================] - 3s 1ms/step - loss: 0.2682 - val_loss: 0.2859\n",
      "Epoch 15/50\n",
      "2420/2420 [==============================] - 3s 1ms/step - loss: 0.2669 - val_loss: 0.2900\n",
      "Epoch 16/50\n",
      "2420/2420 [==============================] - 3s 1ms/step - loss: 0.2661 - val_loss: 0.2870\n",
      "Epoch 17/50\n",
      "2420/2420 [==============================] - 3s 1ms/step - loss: 0.2651 - val_loss: 0.2889\n",
      "Epoch 18/50\n",
      "2420/2420 [==============================] - 3s 1ms/step - loss: 0.2643 - val_loss: 0.2865\n",
      "Epoch 19/50\n",
      "2420/2420 [==============================] - 3s 1ms/step - loss: 0.2636 - val_loss: 0.2904\n",
      "Epoch 20/50\n",
      "2420/2420 [==============================] - 3s 1ms/step - loss: 0.2627 - val_loss: 0.2897\n",
      "Epoch 21/50\n",
      "2420/2420 [==============================] - 3s 1ms/step - loss: 0.2621 - val_loss: 0.2879\n",
      "Epoch 22/50\n",
      "2420/2420 [==============================] - 3s 1ms/step - loss: 0.2612 - val_loss: 0.2886\n",
      "3781/3781 [==============================] - 2s 529us/step\n",
      "0.5347086334112591\n",
      "Model: \"sequential_11\"\n",
      "_________________________________________________________________\n",
      " Layer (type)                Output Shape              Param #   \n",
      "=================================================================\n",
      " dense_44 (Dense)            (None, 256)               66304     \n",
      "                                                                 \n",
      " dense_45 (Dense)            (None, 128)               32896     \n",
      "                                                                 \n",
      " dense_46 (Dense)            (None, 64)                8256      \n",
      "                                                                 \n",
      " dense_47 (Dense)            (None, 1)                 65        \n",
      "                                                                 \n",
      "=================================================================\n",
      "Total params: 107,521\n",
      "Trainable params: 107,521\n",
      "Non-trainable params: 0\n",
      "_________________________________________________________________\n",
      "None\n",
      "Epoch 1/50\n",
      "2420/2420 [==============================] - 11s 4ms/step - loss: 0.2997 - val_loss: 0.2969\n",
      "Epoch 2/50\n",
      "2420/2420 [==============================] - 4s 2ms/step - loss: 0.2885 - val_loss: 0.3002\n",
      "Epoch 3/50\n",
      "2420/2420 [==============================] - 4s 2ms/step - loss: 0.2847 - val_loss: 0.2896\n",
      "Epoch 4/50\n",
      "2420/2420 [==============================] - 4s 2ms/step - loss: 0.2812 - val_loss: 0.2912\n",
      "Epoch 5/50\n",
      "2420/2420 [==============================] - 4s 2ms/step - loss: 0.2785 - val_loss: 0.2870\n",
      "Epoch 6/50\n",
      "2420/2420 [==============================] - 4s 2ms/step - loss: 0.2759 - val_loss: 0.2905\n",
      "Epoch 7/50\n",
      "2420/2420 [==============================] - 4s 2ms/step - loss: 0.2737 - val_loss: 0.2865\n",
      "Epoch 8/50\n",
      "2420/2420 [==============================] - 4s 2ms/step - loss: 0.2714 - val_loss: 0.2889\n",
      "Epoch 9/50\n"
     ]
    },
    {
     "name": "stdout",
     "output_type": "stream",
     "text": [
      "2420/2420 [==============================] - 4s 2ms/step - loss: 0.2698 - val_loss: 0.2899\n",
      "Epoch 10/50\n",
      "2420/2420 [==============================] - 4s 2ms/step - loss: 0.2677 - val_loss: 0.2879\n",
      "Epoch 11/50\n",
      "2420/2420 [==============================] - 4s 2ms/step - loss: 0.2660 - val_loss: 0.2875\n",
      "Epoch 12/50\n",
      "2420/2420 [==============================] - 4s 2ms/step - loss: 0.2644 - val_loss: 0.2875\n",
      "Epoch 13/50\n",
      "2420/2420 [==============================] - 4s 2ms/step - loss: 0.2628 - val_loss: 0.2908\n",
      "Epoch 14/50\n",
      "2420/2420 [==============================] - 4s 2ms/step - loss: 0.2614 - val_loss: 0.2908\n",
      "Epoch 15/50\n",
      "2420/2420 [==============================] - 4s 2ms/step - loss: 0.2602 - val_loss: 0.2905\n",
      "3781/3781 [==============================] - 2s 584us/step\n",
      "0.5352310207768269\n"
     ]
    }
   ],
   "source": [
    "mod4 = train_nn(neurons, batch=150)"
   ]
  },
  {
   "cell_type": "code",
   "execution_count": 32,
   "id": "637e5afa",
   "metadata": {
    "scrolled": false
   },
   "outputs": [
    {
     "name": "stdout",
     "output_type": "stream",
     "text": [
      "Model: \"sequential_12\"\n",
      "_________________________________________________________________\n",
      " Layer (type)                Output Shape              Param #   \n",
      "=================================================================\n",
      " dense_48 (Dense)            (None, 64)                16576     \n",
      "                                                                 \n",
      " dense_49 (Dense)            (None, 32)                2080      \n",
      "                                                                 \n",
      " dense_50 (Dense)            (None, 16)                528       \n",
      "                                                                 \n",
      " dense_51 (Dense)            (None, 1)                 17        \n",
      "                                                                 \n",
      "=================================================================\n",
      "Total params: 19,201\n",
      "Trainable params: 19,201\n",
      "Non-trainable params: 0\n",
      "_________________________________________________________________\n",
      "None\n",
      "Epoch 1/50\n",
      "1815/1815 [==============================] - 9s 5ms/step - loss: 0.3080 - val_loss: 0.2960\n",
      "Epoch 2/50\n",
      "1815/1815 [==============================] - 2s 1ms/step - loss: 0.2907 - val_loss: 0.2923\n",
      "Epoch 3/50\n",
      "1815/1815 [==============================] - 2s 1ms/step - loss: 0.2874 - val_loss: 0.2906\n",
      "Epoch 4/50\n",
      "1815/1815 [==============================] - 2s 1ms/step - loss: 0.2851 - val_loss: 0.2916\n",
      "Epoch 5/50\n",
      "1815/1815 [==============================] - 2s 1ms/step - loss: 0.2834 - val_loss: 0.2897\n",
      "Epoch 6/50\n",
      "1815/1815 [==============================] - 2s 1ms/step - loss: 0.2824 - val_loss: 0.2912\n",
      "Epoch 7/50\n",
      "1815/1815 [==============================] - 2s 1ms/step - loss: 0.2810 - val_loss: 0.2891\n",
      "Epoch 8/50\n",
      "1815/1815 [==============================] - 2s 1ms/step - loss: 0.2801 - val_loss: 0.2889\n",
      "Epoch 9/50\n",
      "1815/1815 [==============================] - 2s 1ms/step - loss: 0.2790 - val_loss: 0.2924\n",
      "Epoch 10/50\n",
      "1815/1815 [==============================] - 2s 1ms/step - loss: 0.2782 - val_loss: 0.2898\n",
      "Epoch 11/50\n",
      "1815/1815 [==============================] - 2s 1ms/step - loss: 0.2773 - val_loss: 0.2893\n",
      "Epoch 12/50\n",
      "1815/1815 [==============================] - 2s 1ms/step - loss: 0.2765 - val_loss: 0.2935\n",
      "Epoch 13/50\n",
      "1815/1815 [==============================] - 2s 1ms/step - loss: 0.2756 - val_loss: 0.2888\n",
      "Epoch 14/50\n",
      "1815/1815 [==============================] - 2s 1ms/step - loss: 0.2753 - val_loss: 0.2871\n",
      "Epoch 15/50\n",
      "1815/1815 [==============================] - 2s 1ms/step - loss: 0.2744 - val_loss: 0.2882\n",
      "Epoch 16/50\n",
      "1815/1815 [==============================] - 2s 1ms/step - loss: 0.2737 - val_loss: 0.2892\n",
      "Epoch 17/50\n",
      "1815/1815 [==============================] - 2s 1ms/step - loss: 0.2732 - val_loss: 0.2890\n",
      "Epoch 18/50\n",
      "1815/1815 [==============================] - 2s 1ms/step - loss: 0.2729 - val_loss: 0.2887\n",
      "Epoch 19/50\n",
      "1815/1815 [==============================] - 2s 1ms/step - loss: 0.2719 - val_loss: 0.2877\n",
      "Epoch 20/50\n",
      "1815/1815 [==============================] - 2s 1ms/step - loss: 0.2717 - val_loss: 0.2885\n",
      "Epoch 21/50\n",
      "1815/1815 [==============================] - 2s 1ms/step - loss: 0.2710 - val_loss: 0.2885\n",
      "Epoch 22/50\n",
      "1815/1815 [==============================] - 2s 1ms/step - loss: 0.2706 - val_loss: 0.2913\n",
      "3781/3781 [==============================] - 2s 490us/step\n",
      "0.53579528686405\n",
      "Model: \"sequential_13\"\n",
      "_________________________________________________________________\n",
      " Layer (type)                Output Shape              Param #   \n",
      "=================================================================\n",
      " dense_52 (Dense)            (None, 128)               33152     \n",
      "                                                                 \n",
      " dense_53 (Dense)            (None, 64)                8256      \n",
      "                                                                 \n",
      " dense_54 (Dense)            (None, 32)                2080      \n",
      "                                                                 \n",
      " dense_55 (Dense)            (None, 1)                 33        \n",
      "                                                                 \n",
      "=================================================================\n",
      "Total params: 43,521\n",
      "Trainable params: 43,521\n",
      "Non-trainable params: 0\n",
      "_________________________________________________________________\n",
      "None\n",
      "Epoch 1/50\n",
      "1815/1815 [==============================] - 11s 6ms/step - loss: 0.3020 - val_loss: 0.2954\n",
      "Epoch 2/50\n",
      "1815/1815 [==============================] - 3s 2ms/step - loss: 0.2884 - val_loss: 0.2911\n",
      "Epoch 3/50\n",
      "1815/1815 [==============================] - 3s 2ms/step - loss: 0.2854 - val_loss: 0.2887\n",
      "Epoch 4/50\n",
      "1815/1815 [==============================] - 3s 2ms/step - loss: 0.2826 - val_loss: 0.2921\n",
      "Epoch 5/50\n",
      "1815/1815 [==============================] - 3s 2ms/step - loss: 0.2806 - val_loss: 0.2874\n",
      "Epoch 6/50\n",
      "1815/1815 [==============================] - 4s 2ms/step - loss: 0.2790 - val_loss: 0.2870\n",
      "Epoch 7/50\n",
      "1815/1815 [==============================] - 3s 2ms/step - loss: 0.2773 - val_loss: 0.2869\n",
      "Epoch 8/50\n",
      "1815/1815 [==============================] - 3s 2ms/step - loss: 0.2758 - val_loss: 0.2869\n",
      "Epoch 9/50\n",
      "1815/1815 [==============================] - 3s 2ms/step - loss: 0.2740 - val_loss: 0.2889\n",
      "Epoch 10/50\n",
      "1815/1815 [==============================] - 3s 2ms/step - loss: 0.2728 - val_loss: 0.2876\n",
      "Epoch 11/50\n",
      "1815/1815 [==============================] - 4s 2ms/step - loss: 0.2716 - val_loss: 0.2884\n",
      "Epoch 12/50\n",
      "1815/1815 [==============================] - 3s 2ms/step - loss: 0.2703 - val_loss: 0.2872\n",
      "Epoch 13/50\n",
      "1815/1815 [==============================] - 4s 2ms/step - loss: 0.2694 - val_loss: 0.2865\n",
      "Epoch 14/50\n",
      "1815/1815 [==============================] - 4s 2ms/step - loss: 0.2682 - val_loss: 0.2880\n",
      "Epoch 15/50\n",
      "1815/1815 [==============================] - 4s 2ms/step - loss: 0.2671 - val_loss: 0.2896\n",
      "Epoch 16/50\n",
      "1815/1815 [==============================] - 4s 2ms/step - loss: 0.2661 - val_loss: 0.2880\n",
      "Epoch 17/50\n",
      "1815/1815 [==============================] - 4s 2ms/step - loss: 0.2656 - val_loss: 0.2892\n",
      "Epoch 18/50\n",
      "1815/1815 [==============================] - 4s 2ms/step - loss: 0.2646 - val_loss: 0.2919\n",
      "Epoch 19/50\n",
      "1815/1815 [==============================] - 4s 2ms/step - loss: 0.2638 - val_loss: 0.2896\n",
      "Epoch 20/50\n",
      "1815/1815 [==============================] - 4s 2ms/step - loss: 0.2630 - val_loss: 0.2874\n",
      "Epoch 21/50\n",
      "1815/1815 [==============================] - 4s 2ms/step - loss: 0.2623 - val_loss: 0.2885\n",
      "3781/3781 [==============================] - 3s 665us/step\n",
      "0.5352381074744837\n",
      "Model: \"sequential_14\"\n",
      "_________________________________________________________________\n",
      " Layer (type)                Output Shape              Param #   \n",
      "=================================================================\n",
      " dense_56 (Dense)            (None, 256)               66304     \n",
      "                                                                 \n",
      " dense_57 (Dense)            (None, 128)               32896     \n",
      "                                                                 \n",
      " dense_58 (Dense)            (None, 64)                8256      \n",
      "                                                                 \n",
      " dense_59 (Dense)            (None, 1)                 65        \n",
      "                                                                 \n",
      "=================================================================\n",
      "Total params: 107,521\n",
      "Trainable params: 107,521\n",
      "Non-trainable params: 0\n",
      "_________________________________________________________________\n",
      "None\n",
      "Epoch 1/50\n",
      "1815/1815 [==============================] - 13s 7ms/step - loss: 0.3000 - val_loss: 0.2925\n",
      "Epoch 2/50\n",
      "1815/1815 [==============================] - 6s 3ms/step - loss: 0.2880 - val_loss: 0.2924\n",
      "Epoch 3/50\n",
      "1815/1815 [==============================] - 6s 3ms/step - loss: 0.2838 - val_loss: 0.2894\n",
      "Epoch 4/50\n",
      "1815/1815 [==============================] - 6s 3ms/step - loss: 0.2808 - val_loss: 0.2894\n",
      "Epoch 5/50\n",
      "1815/1815 [==============================] - 6s 3ms/step - loss: 0.2781 - val_loss: 0.2900\n",
      "Epoch 6/50\n",
      "1815/1815 [==============================] - 6s 4ms/step - loss: 0.2755 - val_loss: 0.2888\n",
      "Epoch 7/50\n",
      "1815/1815 [==============================] - 6s 3ms/step - loss: 0.2736 - val_loss: 0.2899\n",
      "Epoch 8/50\n"
     ]
    },
    {
     "name": "stdout",
     "output_type": "stream",
     "text": [
      "1815/1815 [==============================] - 6s 3ms/step - loss: 0.2711 - val_loss: 0.2876\n",
      "Epoch 9/50\n",
      "1815/1815 [==============================] - 6s 3ms/step - loss: 0.2695 - val_loss: 0.2914\n",
      "Epoch 10/50\n",
      "1815/1815 [==============================] - 6s 3ms/step - loss: 0.2676 - val_loss: 0.2881\n",
      "Epoch 11/50\n",
      "1815/1815 [==============================] - 6s 3ms/step - loss: 0.2656 - val_loss: 0.2872\n",
      "Epoch 12/50\n",
      "1815/1815 [==============================] - 6s 3ms/step - loss: 0.2642 - val_loss: 0.2882\n",
      "Epoch 13/50\n",
      "1815/1815 [==============================] - 6s 4ms/step - loss: 0.2628 - val_loss: 0.2889\n",
      "Epoch 14/50\n",
      "1815/1815 [==============================] - 6s 3ms/step - loss: 0.2610 - val_loss: 0.2877\n",
      "Epoch 15/50\n",
      "1815/1815 [==============================] - 6s 3ms/step - loss: 0.2599 - val_loss: 0.2868\n",
      "Epoch 16/50\n",
      "1815/1815 [==============================] - 6s 3ms/step - loss: 0.2582 - val_loss: 0.2891\n",
      "Epoch 17/50\n",
      "1815/1815 [==============================] - 6s 3ms/step - loss: 0.2569 - val_loss: 0.2925\n",
      "Epoch 18/50\n",
      "1815/1815 [==============================] - 6s 3ms/step - loss: 0.2554 - val_loss: 0.2923\n",
      "Epoch 19/50\n",
      "1815/1815 [==============================] - 6s 3ms/step - loss: 0.2549 - val_loss: 0.2896\n",
      "Epoch 20/50\n",
      "1815/1815 [==============================] - 6s 3ms/step - loss: 0.2534 - val_loss: 0.2926\n",
      "Epoch 21/50\n",
      "1815/1815 [==============================] - 6s 3ms/step - loss: 0.2524 - val_loss: 0.2921\n",
      "Epoch 22/50\n",
      "1815/1815 [==============================] - 6s 3ms/step - loss: 0.2517 - val_loss: 0.2936\n",
      "Epoch 23/50\n",
      "1815/1815 [==============================] - 6s 3ms/step - loss: 0.2504 - val_loss: 0.2902\n",
      "3781/3781 [==============================] - 3s 691us/step\n",
      "0.5355491352480501\n"
     ]
    }
   ],
   "source": [
    "mod5 = train_nn(neurons, batch=200)"
   ]
  },
  {
   "cell_type": "code",
   "execution_count": 34,
   "id": "a0e4a19e",
   "metadata": {},
   "outputs": [],
   "source": [
    "#retrain network\n",
    "\n",
    "#X_train = pd.concat([X_train_d2, X_valid_d2])\n",
    "y_train_d = pd.concat([y_train, y_valid])"
   ]
  },
  {
   "cell_type": "code",
   "execution_count": null,
   "id": "76c12884",
   "metadata": {},
   "outputs": [],
   "source": [
    "X_train.shape"
   ]
  },
  {
   "cell_type": "code",
   "execution_count": 35,
   "id": "2b25f0e7",
   "metadata": {},
   "outputs": [],
   "source": [
    "X_test = pd.read_csv('X_test.csv')\n",
    "X_test = X_test.drop([\"Unnamed: 0.1\", \"Unnamed: 0\"], axis = 1)"
   ]
  },
  {
   "cell_type": "code",
   "execution_count": 36,
   "id": "07fc32be",
   "metadata": {},
   "outputs": [],
   "source": [
    "utc_datetime = [datetime.datetime.utcfromtimestamp(x) for x in X_test['utc_date']]\n",
    "day_month_year = [y.strftime('%a/%d') for y in utc_datetime]\n",
    "BC_fridays = [1 if day in fridays else 0 for day in day_month_year]\n",
    "X_test['BC_fridays'] = BC_fridays\n",
    "X_test = X_test.drop(['utc_date', 'dateModified', 'datePublished'], axis = 1)\n",
    "\n",
    "for c in cols:\n",
    "    X_test[c] = (X_test[c] - np.mean(X_test[c]))/ np.std(X_test[c])\n",
    "    \n"
   ]
  },
  {
   "cell_type": "code",
   "execution_count": 37,
   "id": "a172178a",
   "metadata": {},
   "outputs": [
    {
     "data": {
      "text/plain": [
       "((120970, 10), (362907, 10))"
      ]
     },
     "execution_count": 37,
     "metadata": {},
     "output_type": "execute_result"
    }
   ],
   "source": [
    "X_test.shape, X_train.shape"
   ]
  },
  {
   "cell_type": "code",
   "execution_count": 38,
   "id": "db8a07e6",
   "metadata": {},
   "outputs": [
    {
     "data": {
      "text/plain": [
       "(120969, 10)"
      ]
     },
     "execution_count": 38,
     "metadata": {},
     "output_type": "execute_result"
    }
   ],
   "source": [
    "X_valid.shape"
   ]
  },
  {
   "cell_type": "code",
   "execution_count": 39,
   "id": "c0754f65",
   "metadata": {},
   "outputs": [],
   "source": [
    "X_comb = pd.concat([X_train, X_valid, X_test])\n",
    "X_comb_d = pd.get_dummies(X_comb)\n",
    "\n",
    "#X_test_d2 = X_comb_d[483876:]"
   ]
  },
  {
   "cell_type": "code",
   "execution_count": 40,
   "id": "e73784c7",
   "metadata": {},
   "outputs": [],
   "source": [
    "X_train_d2 = X_comb_d[0:483876]\n",
    "X_test_d2 = X_comb_d[483876:]"
   ]
  },
  {
   "cell_type": "code",
   "execution_count": 41,
   "id": "96456cba",
   "metadata": {},
   "outputs": [
    {
     "data": {
      "text/plain": [
       "(120970, 261)"
      ]
     },
     "execution_count": 41,
     "metadata": {},
     "output_type": "execute_result"
    }
   ],
   "source": [
    "X_test_d2.shape"
   ]
  },
  {
   "cell_type": "code",
   "execution_count": 42,
   "id": "a7143b87",
   "metadata": {},
   "outputs": [
    {
     "data": {
      "text/plain": [
       "((483876, 261), (120970, 261))"
      ]
     },
     "execution_count": 42,
     "metadata": {},
     "output_type": "execute_result"
    }
   ],
   "source": [
    "X_train_d2.shape, X_test_d2.shape"
   ]
  },
  {
   "cell_type": "code",
   "execution_count": 43,
   "id": "3ae7435a",
   "metadata": {},
   "outputs": [
    {
     "data": {
      "text/plain": [
       "Index(['item_price', 'numTracks', 'albumRelease', 'BC_fridays', 'item_type_a',\n",
       "       'item_type_t', 'country_code_ad', 'country_code_ae', 'country_code_af',\n",
       "       'country_code_ag',\n",
       "       ...\n",
       "       'tags_folk', 'tags_hiphop', 'tags_hiphop/rap', 'tags_house',\n",
       "       'tags_indie', 'tags_london', 'tags_newyork', 'tags_other',\n",
       "       'tags_spokenword', 'tags_techno'],\n",
       "      dtype='object', length=261)"
      ]
     },
     "execution_count": 43,
     "metadata": {},
     "output_type": "execute_result"
    }
   ],
   "source": [
    "X_test_d2.columns"
   ]
  },
  {
   "cell_type": "code",
   "execution_count": 46,
   "id": "565f724a",
   "metadata": {
    "scrolled": true
   },
   "outputs": [
    {
     "data": {
      "text/plain": [
       "((483876,), (120970,))"
      ]
     },
     "execution_count": 46,
     "metadata": {},
     "output_type": "execute_result"
    }
   ],
   "source": [
    "y_train_d.shape, y_test.shape"
   ]
  },
  {
   "cell_type": "code",
   "execution_count": 47,
   "id": "fa5850e7",
   "metadata": {},
   "outputs": [],
   "source": [
    "def nn_model():\n",
    "    model = Sequential()\n",
    "    model.add(Dense(128, input_dim=X_train_d2.shape[1], activation = 'relu'))\n",
    "    model.add(Dense(64, activation = 'relu'))\n",
    "    model.add(Dense(32, activation = 'relu'))\n",
    "    model.add(Dense(units=1, activation = 'linear'))\n",
    "    model.compile(loss='mse', optimizer= 'adam')\n",
    "    return model"
   ]
  },
  {
   "cell_type": "code",
   "execution_count": 45,
   "id": "dc41adb7",
   "metadata": {},
   "outputs": [],
   "source": [
    "y_test = pd.read_csv('y_test.csv')\n",
    "y_test = y_test['amount_paid_usd']\n",
    "y_test = (y_test - np.mean(y_test))/np.std(y_test)"
   ]
  },
  {
   "cell_type": "code",
   "execution_count": 48,
   "id": "ac7f9bc0",
   "metadata": {
    "scrolled": false
   },
   "outputs": [
    {
     "name": "stdout",
     "output_type": "stream",
     "text": [
      "Model: \"sequential_15\"\n",
      "_________________________________________________________________\n",
      " Layer (type)                Output Shape              Param #   \n",
      "=================================================================\n",
      " dense_60 (Dense)            (None, 128)               33536     \n",
      "                                                                 \n",
      " dense_61 (Dense)            (None, 64)                8256      \n",
      "                                                                 \n",
      " dense_62 (Dense)            (None, 32)                2080      \n",
      "                                                                 \n",
      " dense_63 (Dense)            (None, 1)                 33        \n",
      "                                                                 \n",
      "=================================================================\n",
      "Total params: 43,905\n",
      "Trainable params: 43,905\n",
      "Non-trainable params: 0\n",
      "_________________________________________________________________\n",
      "None\n",
      "Epoch 1/100\n",
      "3226/3226 [==============================] - 12s 3ms/step - loss: 0.2989 - val_loss: 0.2891\n",
      "Epoch 2/100\n",
      "3226/3226 [==============================] - 5s 1ms/step - loss: 0.2889 - val_loss: 0.2873\n",
      "Epoch 3/100\n",
      "3226/3226 [==============================] - 5s 1ms/step - loss: 0.2853 - val_loss: 0.2840\n",
      "Epoch 4/100\n",
      "3226/3226 [==============================] - 5s 1ms/step - loss: 0.2828 - val_loss: 0.2841\n",
      "Epoch 5/100\n",
      "3226/3226 [==============================] - 5s 1ms/step - loss: 0.2808 - val_loss: 0.2835\n",
      "Epoch 6/100\n",
      "3226/3226 [==============================] - 5s 1ms/step - loss: 0.2787 - val_loss: 0.2832\n",
      "Epoch 7/100\n",
      "3226/3226 [==============================] - 5s 1ms/step - loss: 0.2771 - val_loss: 0.2816\n",
      "Epoch 8/100\n",
      "3226/3226 [==============================] - 5s 1ms/step - loss: 0.2756 - val_loss: 0.2811\n",
      "Epoch 9/100\n",
      "3226/3226 [==============================] - 5s 1ms/step - loss: 0.2741 - val_loss: 0.2817\n",
      "Epoch 10/100\n",
      "3226/3226 [==============================] - 5s 1ms/step - loss: 0.2731 - val_loss: 0.2824\n",
      "Epoch 11/100\n",
      "3226/3226 [==============================] - 5s 1ms/step - loss: 0.2718 - val_loss: 0.2820\n",
      "Epoch 12/100\n",
      "3226/3226 [==============================] - 5s 2ms/step - loss: 0.2708 - val_loss: 0.2828\n",
      "Epoch 13/100\n",
      "3226/3226 [==============================] - 5s 2ms/step - loss: 0.2700 - val_loss: 0.2819\n",
      "Epoch 14/100\n",
      "3226/3226 [==============================] - 5s 2ms/step - loss: 0.2687 - val_loss: 0.2819\n",
      "Epoch 15/100\n",
      "3226/3226 [==============================] - 5s 2ms/step - loss: 0.2682 - val_loss: 0.2815\n",
      "3781/3781 [==============================] - 2s 616us/step\n",
      "0.5301780416713414\n"
     ]
    }
   ],
   "source": [
    "es = EarlyStopping(monitor = 'val_loss', mode='min', patience = 7, restore_best_weights = True)\n",
    "nn_mod = nn_model()\n",
    "print(nn_mod.summary())\n",
    "nn_mod.fit(X_train_d2, y_train_d, batch_size = 150, epochs = 100, validation_data=(X_test_d2, y_test), callbacks=[es])\n",
    "pred = nn_mod.predict(X_test_d2)\n",
    "print(sqrt(mean_squared_error(y_test, pred)))"
   ]
  },
  {
   "cell_type": "code",
   "execution_count": 49,
   "id": "70e6f024",
   "metadata": {},
   "outputs": [],
   "source": [
    "error_df = pd.DataFrame()"
   ]
  },
  {
   "cell_type": "code",
   "execution_count": 50,
   "id": "be674514",
   "metadata": {},
   "outputs": [
    {
     "data": {
      "text/plain": [
       "(120970,)"
      ]
     },
     "execution_count": 50,
     "metadata": {},
     "output_type": "execute_result"
    }
   ],
   "source": [
    "y_test.shape"
   ]
  },
  {
   "cell_type": "code",
   "execution_count": 51,
   "id": "3fa5b173",
   "metadata": {},
   "outputs": [
    {
     "data": {
      "text/plain": [
       "(120970, 1)"
      ]
     },
     "execution_count": 51,
     "metadata": {},
     "output_type": "execute_result"
    }
   ],
   "source": [
    "pred.shape"
   ]
  },
  {
   "cell_type": "code",
   "execution_count": 52,
   "id": "fd046c14",
   "metadata": {},
   "outputs": [],
   "source": [
    "error_df['true'] = y_test\n",
    "error_df['pred'] = pred"
   ]
  },
  {
   "cell_type": "code",
   "execution_count": 53,
   "id": "2261a28d",
   "metadata": {},
   "outputs": [
    {
     "data": {
      "text/html": [
       "<div>\n",
       "<style scoped>\n",
       "    .dataframe tbody tr th:only-of-type {\n",
       "        vertical-align: middle;\n",
       "    }\n",
       "\n",
       "    .dataframe tbody tr th {\n",
       "        vertical-align: top;\n",
       "    }\n",
       "\n",
       "    .dataframe thead th {\n",
       "        text-align: right;\n",
       "    }\n",
       "</style>\n",
       "<table border=\"1\" class=\"dataframe\">\n",
       "  <thead>\n",
       "    <tr style=\"text-align: right;\">\n",
       "      <th></th>\n",
       "      <th>true</th>\n",
       "      <th>pred</th>\n",
       "    </tr>\n",
       "  </thead>\n",
       "  <tbody>\n",
       "    <tr>\n",
       "      <th>0</th>\n",
       "      <td>1.236321</td>\n",
       "      <td>1.403226</td>\n",
       "    </tr>\n",
       "    <tr>\n",
       "      <th>1</th>\n",
       "      <td>-0.932073</td>\n",
       "      <td>-0.708241</td>\n",
       "    </tr>\n",
       "    <tr>\n",
       "      <th>2</th>\n",
       "      <td>-0.708427</td>\n",
       "      <td>-0.676174</td>\n",
       "    </tr>\n",
       "    <tr>\n",
       "      <th>3</th>\n",
       "      <td>1.085603</td>\n",
       "      <td>0.878245</td>\n",
       "    </tr>\n",
       "    <tr>\n",
       "      <th>4</th>\n",
       "      <td>-0.929642</td>\n",
       "      <td>-0.878404</td>\n",
       "    </tr>\n",
       "  </tbody>\n",
       "</table>\n",
       "</div>"
      ],
      "text/plain": [
       "       true      pred\n",
       "0  1.236321  1.403226\n",
       "1 -0.932073 -0.708241\n",
       "2 -0.708427 -0.676174\n",
       "3  1.085603  0.878245\n",
       "4 -0.929642 -0.878404"
      ]
     },
     "execution_count": 53,
     "metadata": {},
     "output_type": "execute_result"
    }
   ],
   "source": [
    "error_df.head()"
   ]
  },
  {
   "cell_type": "code",
   "execution_count": 54,
   "id": "49bedd01",
   "metadata": {},
   "outputs": [],
   "source": [
    "error_df['error'] = error_df['true'] - error_df['pred']"
   ]
  },
  {
   "cell_type": "code",
   "execution_count": 55,
   "id": "03863807",
   "metadata": {},
   "outputs": [],
   "source": [
    "import seaborn as sns\n",
    "import matplotlib.pyplot as plt"
   ]
  },
  {
   "cell_type": "code",
   "execution_count": 56,
   "id": "217d46a5",
   "metadata": {},
   "outputs": [
    {
     "data": {
      "text/plain": [
       "Text(0, 0.5, 'prediction error')"
      ]
     },
     "execution_count": 56,
     "metadata": {},
     "output_type": "execute_result"
    },
    {
     "data": {
      "image/png": "[encoded data removed]",
      "text/plain": [
       "<Figure size 640x480 with 1 Axes>"
      ]
     },
     "metadata": {},
     "output_type": "display_data"
    }
   ],
   "source": [
    "sns.scatterplot(data = error_df, x = 'pred', y = 'error')\n",
    "plt.axhline(y = 0, color = 'r')\n",
    "plt.xlabel('predicted value')\n",
    "plt.ylabel('prediction error')"
   ]
  },
  {
   "cell_type": "code",
   "execution_count": null,
   "id": "f6c6b07b",
   "metadata": {},
   "outputs": [],
   "source": []
  }
 ],
 "metadata": {
  "kernelspec": {
   "display_name": "Python 3 (ipykernel)",
   "language": "python",
   "name": "python3"
  },
  "language_info": {
   "codemirror_mode": {
    "name": "ipython",
    "version": 3
   },
   "file_extension": ".py",
   "mimetype": "text/x-python",
   "name": "python",
   "nbconvert_exporter": "python",
   "pygments_lexer": "ipython3",
   "version": "3.10.9"
  }
 },
 "nbformat": 4,
 "nbformat_minor": 5
}
