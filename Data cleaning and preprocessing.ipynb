{
 "cells": [
  {
   "cell_type": "code",
   "execution_count": 1,
   "id": "79a92da7",
   "metadata": {},
   "outputs": [],
   "source": [
    "import pandas as pd\n",
    "import ast\n",
    "from datetime import timezone\n",
    "import math\n",
    "import numpy as np\n",
    "import seaborn as sns\n",
    "import matplotlib.pyplot as plt\n",
    "import datetime\n",
    "\n",
    "%matplotlib inline\n",
    "pd.set_option('display.max_columns', None)"
   ]
  },
  {
   "cell_type": "code",
   "execution_count": 2,
   "id": "d23ba89d",
   "metadata": {},
   "outputs": [],
   "source": [
    "df = pd.read_csv('complete_set.csv')"
   ]
  },
  {
   "cell_type": "code",
   "execution_count": 3,
   "id": "c945c779",
   "metadata": {},
   "outputs": [
    {
     "data": {
      "text/plain": [
       "664427"
      ]
     },
     "execution_count": 3,
     "metadata": {},
     "output_type": "execute_result"
    }
   ],
   "source": [
    "#removing all the sales of the products that were not found in the product data set \n",
    "df = df[df['_id_y'].notna()]\n",
    "df = df.reset_index()\n",
    "len(df)"
   ]
  },
  {
   "cell_type": "code",
   "execution_count": 4,
   "id": "753d2ae7",
   "metadata": {},
   "outputs": [
    {
     "name": "stdout",
     "output_type": "stream",
     "text": [
      "<class 'pandas.core.frame.DataFrame'>\n",
      "RangeIndex: 664427 entries, 0 to 664426\n",
      "Data columns (total 49 columns):\n",
      " #   Column                 Non-Null Count   Dtype  \n",
      "---  ------                 --------------   -----  \n",
      " 0   index                  664427 non-null  int64  \n",
      " 1   Unnamed: 0.1           664427 non-null  int64  \n",
      " 2   _id_x                  664427 non-null  object \n",
      " 3   art_url                664427 non-null  object \n",
      " 4   item_type              664427 non-null  object \n",
      " 5   utc_date               664427 non-null  float64\n",
      " 6   country_code           664427 non-null  object \n",
      " 7   track_album_slug_text  2125 non-null    object \n",
      " 8   country                664427 non-null  object \n",
      " 9   slug_type              664427 non-null  object \n",
      " 10  amount_paid_fmt        664427 non-null  object \n",
      " 11  item_price             664427 non-null  float64\n",
      " 12  item_description       664421 non-null  object \n",
      " 13  art_id                 664293 non-null  float64\n",
      " 14  join_key               664427 non-null  object \n",
      " 15  amount_paid            664427 non-null  float64\n",
      " 16  releases               0 non-null       float64\n",
      " 17  artist_name            664426 non-null  object \n",
      " 18  currency               664427 non-null  object \n",
      " 19  album_title            158993 non-null  object \n",
      " 20  amount_paid_usd        664427 non-null  float64\n",
      " 21  package_image_id       0 non-null       float64\n",
      " 22  amount_over_fmt        84624 non-null   object \n",
      " 23  item_slug              20535 non-null   object \n",
      " 24  addl_count             20535 non-null   float64\n",
      " 25  Unnamed: 0             664427 non-null  float64\n",
      " 26  _id_y                  664427 non-null  object \n",
      " 27  albumRelease           415031 non-null  object \n",
      " 28  numTracks              415031 non-null  float64\n",
      " 29  name                   664421 non-null  object \n",
      " 30  dateModified           664427 non-null  object \n",
      " 31  @id                    664427 non-null  object \n",
      " 32  keywords               664088 non-null  object \n",
      " 33  image                  664392 non-null  object \n",
      " 34  comment                269082 non-null  object \n",
      " 35  byArtist               664427 non-null  object \n",
      " 36  track                  415031 non-null  object \n",
      " 37  @type                  664427 non-null  object \n",
      " 38  datePublished          664427 non-null  object \n",
      " 39  @context               664427 non-null  object \n",
      " 40  duration               249396 non-null  object \n",
      " 41  offers                 249396 non-null  object \n",
      " 42  duration_secs          249396 non-null  float64\n",
      " 43  inAlbum                160435 non-null  object \n",
      " 44  url                    249396 non-null  object \n",
      " 45  description            351052 non-null  object \n",
      " 46  isrcCode               62359 non-null   object \n",
      " 47  recordingOf            26872 non-null   object \n",
      " 48  @graph                 0 non-null       float64\n",
      "dtypes: float64(12), int64(2), object(35)\n",
      "memory usage: 248.4+ MB\n"
     ]
    }
   ],
   "source": [
    "df.info()"
   ]
  },
  {
   "cell_type": "code",
   "execution_count": 5,
   "id": "1915e657",
   "metadata": {
    "scrolled": true
   },
   "outputs": [
    {
     "data": {
      "text/html": [
       "<div>\n",
       "<style scoped>\n",
       "    .dataframe tbody tr th:only-of-type {\n",
       "        vertical-align: middle;\n",
       "    }\n",
       "\n",
       "    .dataframe tbody tr th {\n",
       "        vertical-align: top;\n",
       "    }\n",
       "\n",
       "    .dataframe thead th {\n",
       "        text-align: right;\n",
       "    }\n",
       "</style>\n",
       "<table border=\"1\" class=\"dataframe\">\n",
       "  <thead>\n",
       "    <tr style=\"text-align: right;\">\n",
       "      <th></th>\n",
       "      <th>index</th>\n",
       "      <th>Unnamed: 0.1</th>\n",
       "      <th>_id_x</th>\n",
       "      <th>art_url</th>\n",
       "      <th>item_type</th>\n",
       "      <th>utc_date</th>\n",
       "      <th>country_code</th>\n",
       "      <th>track_album_slug_text</th>\n",
       "      <th>country</th>\n",
       "      <th>slug_type</th>\n",
       "      <th>amount_paid_fmt</th>\n",
       "      <th>item_price</th>\n",
       "      <th>item_description</th>\n",
       "      <th>art_id</th>\n",
       "      <th>join_key</th>\n",
       "      <th>amount_paid</th>\n",
       "      <th>releases</th>\n",
       "      <th>artist_name</th>\n",
       "      <th>currency</th>\n",
       "      <th>album_title</th>\n",
       "      <th>amount_paid_usd</th>\n",
       "      <th>package_image_id</th>\n",
       "      <th>amount_over_fmt</th>\n",
       "      <th>item_slug</th>\n",
       "      <th>addl_count</th>\n",
       "      <th>Unnamed: 0</th>\n",
       "      <th>_id_y</th>\n",
       "      <th>albumRelease</th>\n",
       "      <th>numTracks</th>\n",
       "      <th>name</th>\n",
       "      <th>dateModified</th>\n",
       "      <th>@id</th>\n",
       "      <th>keywords</th>\n",
       "      <th>image</th>\n",
       "      <th>comment</th>\n",
       "      <th>byArtist</th>\n",
       "      <th>track</th>\n",
       "      <th>@type</th>\n",
       "      <th>datePublished</th>\n",
       "      <th>@context</th>\n",
       "      <th>duration</th>\n",
       "      <th>offers</th>\n",
       "      <th>duration_secs</th>\n",
       "      <th>inAlbum</th>\n",
       "      <th>url</th>\n",
       "      <th>description</th>\n",
       "      <th>isrcCode</th>\n",
       "      <th>recordingOf</th>\n",
       "      <th>@graph</th>\n",
       "    </tr>\n",
       "  </thead>\n",
       "  <tbody>\n",
       "    <tr>\n",
       "      <th>0</th>\n",
       "      <td>0</td>\n",
       "      <td>0</td>\n",
       "      <td>1599688803.5175&amp;//girlbanddublin.bandcamp.com/...</td>\n",
       "      <td>https://f4.bcbits.com/img/a0206405257_7.jpg</td>\n",
       "      <td>a</td>\n",
       "      <td>1.599689e+09</td>\n",
       "      <td>gb</td>\n",
       "      <td>NaN</td>\n",
       "      <td>United Kingdom</td>\n",
       "      <td>a</td>\n",
       "      <td>$9.99</td>\n",
       "      <td>9.99</td>\n",
       "      <td>Live at Vicar Street</td>\n",
       "      <td>2.064053e+08</td>\n",
       "      <td>//girlbanddublin.bandcamp.com/album/live-at-vi...</td>\n",
       "      <td>9.99</td>\n",
       "      <td>NaN</td>\n",
       "      <td>Girl Band</td>\n",
       "      <td>USD</td>\n",
       "      <td>NaN</td>\n",
       "      <td>9.99</td>\n",
       "      <td>NaN</td>\n",
       "      <td>NaN</td>\n",
       "      <td>NaN</td>\n",
       "      <td>NaN</td>\n",
       "      <td>260024.0</td>\n",
       "      <td>https://girlbanddublin.bandcamp.com/album/live...</td>\n",
       "      <td>[{'@id': 'https://girlbanddublin.bandcamp.com/...</td>\n",
       "      <td>14.0</td>\n",
       "      <td>Live at Vicar Street</td>\n",
       "      <td>02 Sep 2020 13:45:09 GMT</td>\n",
       "      <td>https://girlbanddublin.bandcamp.com/album/live...</td>\n",
       "      <td>Alternative, noise, post-punk, Ireland</td>\n",
       "      <td>https://f4.bcbits.com/img/a0206405257_10.jpg</td>\n",
       "      <td>[{'text': [\"Possibly the greatest live album s...</td>\n",
       "      <td>{'@id': 'https://girlbanddublin.bandcamp.com',...</td>\n",
       "      <td>{'numberOfItems': 14, 'itemListElement': [{'po...</td>\n",
       "      <td>MusicAlbum</td>\n",
       "      <td>02 Sep 2020 13:45:09 GMT</td>\n",
       "      <td>https://schema.org</td>\n",
       "      <td>NaN</td>\n",
       "      <td>NaN</td>\n",
       "      <td>NaN</td>\n",
       "      <td>NaN</td>\n",
       "      <td>NaN</td>\n",
       "      <td>In November 2019, Girl Band played back to bac...</td>\n",
       "      <td>NaN</td>\n",
       "      <td>NaN</td>\n",
       "      <td>NaN</td>\n",
       "    </tr>\n",
       "    <tr>\n",
       "      <th>1</th>\n",
       "      <td>1</td>\n",
       "      <td>1</td>\n",
       "      <td>1599688805.27838&amp;//maharettarecords.bandcamp.c...</td>\n",
       "      <td>https://f4.bcbits.com/img/a2984241552_7.jpg</td>\n",
       "      <td>a</td>\n",
       "      <td>1.599689e+09</td>\n",
       "      <td>fi</td>\n",
       "      <td>NaN</td>\n",
       "      <td>Finland</td>\n",
       "      <td>a</td>\n",
       "      <td>£1</td>\n",
       "      <td>1.00</td>\n",
       "      <td>Neurogen</td>\n",
       "      <td>2.984242e+09</td>\n",
       "      <td>//maharettarecords.bandcamp.com/album/neurogen</td>\n",
       "      <td>1.00</td>\n",
       "      <td>NaN</td>\n",
       "      <td>Jirah</td>\n",
       "      <td>GBP</td>\n",
       "      <td>NaN</td>\n",
       "      <td>1.30</td>\n",
       "      <td>NaN</td>\n",
       "      <td>NaN</td>\n",
       "      <td>NaN</td>\n",
       "      <td>NaN</td>\n",
       "      <td>344826.0</td>\n",
       "      <td>https://maharettarecords.bandcamp.com/album/ne...</td>\n",
       "      <td>[{'@type': ['Product', 'MusicRelease'], 'offer...</td>\n",
       "      <td>1.0</td>\n",
       "      <td>Neurogen</td>\n",
       "      <td>28 Mar 2020 15:10:47 GMT</td>\n",
       "      <td>https://maharettarecords.bandcamp.com/album/ne...</td>\n",
       "      <td>Electronic, Psychedelic Trance, psytrance, London</td>\n",
       "      <td>https://f4.bcbits.com/img/a2984241552_10.jpg</td>\n",
       "      <td>NaN</td>\n",
       "      <td>{'@type': 'MusicGroup', 'sameAs': ['http://www...</td>\n",
       "      <td>{'@type': 'ItemList', 'numberOfItems': 1, 'ite...</td>\n",
       "      <td>MusicAlbum</td>\n",
       "      <td>28 Mar 2020 15:10:13 GMT</td>\n",
       "      <td>https://schema.org</td>\n",
       "      <td>NaN</td>\n",
       "      <td>NaN</td>\n",
       "      <td>NaN</td>\n",
       "      <td>NaN</td>\n",
       "      <td>NaN</td>\n",
       "      <td>NaN</td>\n",
       "      <td>NaN</td>\n",
       "      <td>NaN</td>\n",
       "      <td>NaN</td>\n",
       "    </tr>\n",
       "    <tr>\n",
       "      <th>2</th>\n",
       "      <td>2</td>\n",
       "      <td>2</td>\n",
       "      <td>1599688805.90646&amp;//maharettarecords.bandcamp.c...</td>\n",
       "      <td>https://f4.bcbits.com/img/a3320494770_7.jpg</td>\n",
       "      <td>a</td>\n",
       "      <td>1.599689e+09</td>\n",
       "      <td>fi</td>\n",
       "      <td>NaN</td>\n",
       "      <td>Finland</td>\n",
       "      <td>a</td>\n",
       "      <td>£3</td>\n",
       "      <td>3.00</td>\n",
       "      <td>The Last Snare Bender</td>\n",
       "      <td>3.320495e+09</td>\n",
       "      <td>//maharettarecords.bandcamp.com/album/the-last...</td>\n",
       "      <td>3.00</td>\n",
       "      <td>NaN</td>\n",
       "      <td>D-Ther</td>\n",
       "      <td>GBP</td>\n",
       "      <td>NaN</td>\n",
       "      <td>3.90</td>\n",
       "      <td>NaN</td>\n",
       "      <td>NaN</td>\n",
       "      <td>NaN</td>\n",
       "      <td>NaN</td>\n",
       "      <td>310238.0</td>\n",
       "      <td>https://maharettarecords.bandcamp.com/album/th...</td>\n",
       "      <td>[{'url': 'https://maharettarecords.bandcamp.co...</td>\n",
       "      <td>2.0</td>\n",
       "      <td>The Last Snare Bender</td>\n",
       "      <td>21 Aug 2020 08:55:39 GMT</td>\n",
       "      <td>https://maharettarecords.bandcamp.com/album/th...</td>\n",
       "      <td>Electronic, Psychedelic Trance, psytrance, London</td>\n",
       "      <td>https://f4.bcbits.com/img/a3320494770_10.jpg</td>\n",
       "      <td>NaN</td>\n",
       "      <td>{'sameAs': ['http://www.maharettarecords.com',...</td>\n",
       "      <td>{'itemListElement': [{'@type': 'ListItem', 'po...</td>\n",
       "      <td>MusicAlbum</td>\n",
       "      <td>21 Aug 2020 08:55:39 GMT</td>\n",
       "      <td>https://schema.org</td>\n",
       "      <td>NaN</td>\n",
       "      <td>NaN</td>\n",
       "      <td>NaN</td>\n",
       "      <td>NaN</td>\n",
       "      <td>NaN</td>\n",
       "      <td>Maharetta Records proudly presents 'The Last S...</td>\n",
       "      <td>NaN</td>\n",
       "      <td>NaN</td>\n",
       "      <td>NaN</td>\n",
       "    </tr>\n",
       "    <tr>\n",
       "      <th>3</th>\n",
       "      <td>3</td>\n",
       "      <td>3</td>\n",
       "      <td>1599688809.07942&amp;//linguaignota.bandcamp.com/t...</td>\n",
       "      <td>https://f4.bcbits.com/img/a3428873396_7.jpg</td>\n",
       "      <td>t</td>\n",
       "      <td>1.599689e+09</td>\n",
       "      <td>us</td>\n",
       "      <td>NaN</td>\n",
       "      <td>United States</td>\n",
       "      <td>t</td>\n",
       "      <td>$1</td>\n",
       "      <td>1.00</td>\n",
       "      <td>O Ruthless Great Divine Director</td>\n",
       "      <td>3.428873e+09</td>\n",
       "      <td>//linguaignota.bandcamp.com/track/o-ruthless-g...</td>\n",
       "      <td>1.00</td>\n",
       "      <td>NaN</td>\n",
       "      <td>LINGUA IGNOTA</td>\n",
       "      <td>USD</td>\n",
       "      <td>NaN</td>\n",
       "      <td>1.00</td>\n",
       "      <td>NaN</td>\n",
       "      <td>NaN</td>\n",
       "      <td>NaN</td>\n",
       "      <td>NaN</td>\n",
       "      <td>16820.0</td>\n",
       "      <td>https://linguaignota.bandcamp.com/track/o-ruth...</td>\n",
       "      <td>NaN</td>\n",
       "      <td>NaN</td>\n",
       "      <td>O Ruthless Great Divine Director</td>\n",
       "      <td>26 Mar 2020 05:27:55 GMT</td>\n",
       "      <td>https://linguaignota.bandcamp.com/track/o-ruth...</td>\n",
       "      <td>Experimental, retribution, United States</td>\n",
       "      <td>['https://f4.bcbits.com/img/a3428873396_10.jpg']</td>\n",
       "      <td>[{'author': {'image': 'https://f4.bcbits.com/i...</td>\n",
       "      <td>{'image': 'https://f4.bcbits.com/img/001206732...</td>\n",
       "      <td>NaN</td>\n",
       "      <td>['MusicRecording', 'Product']</td>\n",
       "      <td>26 Mar 2020 05:27:56 GMT</td>\n",
       "      <td>https://schema.org</td>\n",
       "      <td>P00H05M13S</td>\n",
       "      <td>{'price': 1.0, 'priceCurrency': 'USD', 'availa...</td>\n",
       "      <td>313.914</td>\n",
       "      <td>NaN</td>\n",
       "      <td>https://linguaignota.bandcamp.com/track/o-ruth...</td>\n",
       "      <td>NaN</td>\n",
       "      <td>USA2P2009256</td>\n",
       "      <td>{'lyrics': {'text': 'EVERYONE I KNOW’S A FUCKI...</td>\n",
       "      <td>NaN</td>\n",
       "    </tr>\n",
       "    <tr>\n",
       "      <th>4</th>\n",
       "      <td>4</td>\n",
       "      <td>4</td>\n",
       "      <td>1599688812.69267&amp;//sofiefatouretchi.bandcamp.c...</td>\n",
       "      <td>https://f4.bcbits.com/img/a0772371002_7.jpg</td>\n",
       "      <td>t</td>\n",
       "      <td>1.599689e+09</td>\n",
       "      <td>us</td>\n",
       "      <td>NaN</td>\n",
       "      <td>United States</td>\n",
       "      <td>t</td>\n",
       "      <td>$1.29</td>\n",
       "      <td>1.29</td>\n",
       "      <td>Try to Reach Me</td>\n",
       "      <td>7.723710e+08</td>\n",
       "      <td>//sofiefatouretchi.bandcamp.com/track/try-to-r...</td>\n",
       "      <td>1.29</td>\n",
       "      <td>NaN</td>\n",
       "      <td>Sofie</td>\n",
       "      <td>USD</td>\n",
       "      <td>Cult Survivor</td>\n",
       "      <td>1.29</td>\n",
       "      <td>NaN</td>\n",
       "      <td>NaN</td>\n",
       "      <td>NaN</td>\n",
       "      <td>NaN</td>\n",
       "      <td>93592.0</td>\n",
       "      <td>https://sofiefatouretchi.bandcamp.com/track/tr...</td>\n",
       "      <td>NaN</td>\n",
       "      <td>NaN</td>\n",
       "      <td>Try to Reach Me</td>\n",
       "      <td>19 May 2020 23:55:06 GMT</td>\n",
       "      <td>https://sofiefatouretchi.bandcamp.com/track/tr...</td>\n",
       "      <td>Alternative, alternative, Vienna</td>\n",
       "      <td>['https://s4.bcbits.com/img/blank.gif']</td>\n",
       "      <td>NaN</td>\n",
       "      <td>{'image': 'https://f4.bcbits.com/img/001805937...</td>\n",
       "      <td>NaN</td>\n",
       "      <td>['MusicRecording', 'Product']</td>\n",
       "      <td>19 May 2020 23:50:24 GMT</td>\n",
       "      <td>https://schema.org</td>\n",
       "      <td>P00H03M01S</td>\n",
       "      <td>{'url': 'https://sofiefatouretchi.bandcamp.com...</td>\n",
       "      <td>181.191</td>\n",
       "      <td>{'name': 'Cult Survivor', '@id': 'https://sofi...</td>\n",
       "      <td>https://sofiefatouretchi.bandcamp.com/track/tr...</td>\n",
       "      <td>NaN</td>\n",
       "      <td>US2S72021004</td>\n",
       "      <td>NaN</td>\n",
       "      <td>NaN</td>\n",
       "    </tr>\n",
       "  </tbody>\n",
       "</table>\n",
       "</div>"
      ],
      "text/plain": [
       "   index  Unnamed: 0.1                                              _id_x  \\\n",
       "0      0             0  1599688803.5175&//girlbanddublin.bandcamp.com/...   \n",
       "1      1             1  1599688805.27838&//maharettarecords.bandcamp.c...   \n",
       "2      2             2  1599688805.90646&//maharettarecords.bandcamp.c...   \n",
       "3      3             3  1599688809.07942&//linguaignota.bandcamp.com/t...   \n",
       "4      4             4  1599688812.69267&//sofiefatouretchi.bandcamp.c...   \n",
       "\n",
       "                                       art_url item_type      utc_date  \\\n",
       "0  https://f4.bcbits.com/img/a0206405257_7.jpg         a  1.599689e+09   \n",
       "1  https://f4.bcbits.com/img/a2984241552_7.jpg         a  1.599689e+09   \n",
       "2  https://f4.bcbits.com/img/a3320494770_7.jpg         a  1.599689e+09   \n",
       "3  https://f4.bcbits.com/img/a3428873396_7.jpg         t  1.599689e+09   \n",
       "4  https://f4.bcbits.com/img/a0772371002_7.jpg         t  1.599689e+09   \n",
       "\n",
       "  country_code track_album_slug_text         country slug_type  \\\n",
       "0           gb                   NaN  United Kingdom         a   \n",
       "1           fi                   NaN         Finland         a   \n",
       "2           fi                   NaN         Finland         a   \n",
       "3           us                   NaN   United States         t   \n",
       "4           us                   NaN   United States         t   \n",
       "\n",
       "  amount_paid_fmt  item_price                  item_description        art_id  \\\n",
       "0           $9.99        9.99              Live at Vicar Street  2.064053e+08   \n",
       "1              £1        1.00                          Neurogen  2.984242e+09   \n",
       "2              £3        3.00             The Last Snare Bender  3.320495e+09   \n",
       "3              $1        1.00  O Ruthless Great Divine Director  3.428873e+09   \n",
       "4           $1.29        1.29                   Try to Reach Me  7.723710e+08   \n",
       "\n",
       "                                            join_key  amount_paid  releases  \\\n",
       "0  //girlbanddublin.bandcamp.com/album/live-at-vi...         9.99       NaN   \n",
       "1     //maharettarecords.bandcamp.com/album/neurogen         1.00       NaN   \n",
       "2  //maharettarecords.bandcamp.com/album/the-last...         3.00       NaN   \n",
       "3  //linguaignota.bandcamp.com/track/o-ruthless-g...         1.00       NaN   \n",
       "4  //sofiefatouretchi.bandcamp.com/track/try-to-r...         1.29       NaN   \n",
       "\n",
       "     artist_name currency    album_title  amount_paid_usd  package_image_id  \\\n",
       "0      Girl Band      USD            NaN             9.99               NaN   \n",
       "1          Jirah      GBP            NaN             1.30               NaN   \n",
       "2         D-Ther      GBP            NaN             3.90               NaN   \n",
       "3  LINGUA IGNOTA      USD            NaN             1.00               NaN   \n",
       "4          Sofie      USD  Cult Survivor             1.29               NaN   \n",
       "\n",
       "  amount_over_fmt item_slug  addl_count  Unnamed: 0  \\\n",
       "0             NaN       NaN         NaN    260024.0   \n",
       "1             NaN       NaN         NaN    344826.0   \n",
       "2             NaN       NaN         NaN    310238.0   \n",
       "3             NaN       NaN         NaN     16820.0   \n",
       "4             NaN       NaN         NaN     93592.0   \n",
       "\n",
       "                                               _id_y  \\\n",
       "0  https://girlbanddublin.bandcamp.com/album/live...   \n",
       "1  https://maharettarecords.bandcamp.com/album/ne...   \n",
       "2  https://maharettarecords.bandcamp.com/album/th...   \n",
       "3  https://linguaignota.bandcamp.com/track/o-ruth...   \n",
       "4  https://sofiefatouretchi.bandcamp.com/track/tr...   \n",
       "\n",
       "                                        albumRelease  numTracks  \\\n",
       "0  [{'@id': 'https://girlbanddublin.bandcamp.com/...       14.0   \n",
       "1  [{'@type': ['Product', 'MusicRelease'], 'offer...        1.0   \n",
       "2  [{'url': 'https://maharettarecords.bandcamp.co...        2.0   \n",
       "3                                                NaN        NaN   \n",
       "4                                                NaN        NaN   \n",
       "\n",
       "                               name              dateModified  \\\n",
       "0              Live at Vicar Street  02 Sep 2020 13:45:09 GMT   \n",
       "1                          Neurogen  28 Mar 2020 15:10:47 GMT   \n",
       "2             The Last Snare Bender  21 Aug 2020 08:55:39 GMT   \n",
       "3  O Ruthless Great Divine Director  26 Mar 2020 05:27:55 GMT   \n",
       "4                   Try to Reach Me  19 May 2020 23:55:06 GMT   \n",
       "\n",
       "                                                 @id  \\\n",
       "0  https://girlbanddublin.bandcamp.com/album/live...   \n",
       "1  https://maharettarecords.bandcamp.com/album/ne...   \n",
       "2  https://maharettarecords.bandcamp.com/album/th...   \n",
       "3  https://linguaignota.bandcamp.com/track/o-ruth...   \n",
       "4  https://sofiefatouretchi.bandcamp.com/track/tr...   \n",
       "\n",
       "                                            keywords  \\\n",
       "0             Alternative, noise, post-punk, Ireland   \n",
       "1  Electronic, Psychedelic Trance, psytrance, London   \n",
       "2  Electronic, Psychedelic Trance, psytrance, London   \n",
       "3           Experimental, retribution, United States   \n",
       "4                   Alternative, alternative, Vienna   \n",
       "\n",
       "                                              image  \\\n",
       "0      https://f4.bcbits.com/img/a0206405257_10.jpg   \n",
       "1      https://f4.bcbits.com/img/a2984241552_10.jpg   \n",
       "2      https://f4.bcbits.com/img/a3320494770_10.jpg   \n",
       "3  ['https://f4.bcbits.com/img/a3428873396_10.jpg']   \n",
       "4           ['https://s4.bcbits.com/img/blank.gif']   \n",
       "\n",
       "                                             comment  \\\n",
       "0  [{'text': [\"Possibly the greatest live album s...   \n",
       "1                                                NaN   \n",
       "2                                                NaN   \n",
       "3  [{'author': {'image': 'https://f4.bcbits.com/i...   \n",
       "4                                                NaN   \n",
       "\n",
       "                                            byArtist  \\\n",
       "0  {'@id': 'https://girlbanddublin.bandcamp.com',...   \n",
       "1  {'@type': 'MusicGroup', 'sameAs': ['http://www...   \n",
       "2  {'sameAs': ['http://www.maharettarecords.com',...   \n",
       "3  {'image': 'https://f4.bcbits.com/img/001206732...   \n",
       "4  {'image': 'https://f4.bcbits.com/img/001805937...   \n",
       "\n",
       "                                               track  \\\n",
       "0  {'numberOfItems': 14, 'itemListElement': [{'po...   \n",
       "1  {'@type': 'ItemList', 'numberOfItems': 1, 'ite...   \n",
       "2  {'itemListElement': [{'@type': 'ListItem', 'po...   \n",
       "3                                                NaN   \n",
       "4                                                NaN   \n",
       "\n",
       "                           @type             datePublished  \\\n",
       "0                     MusicAlbum  02 Sep 2020 13:45:09 GMT   \n",
       "1                     MusicAlbum  28 Mar 2020 15:10:13 GMT   \n",
       "2                     MusicAlbum  21 Aug 2020 08:55:39 GMT   \n",
       "3  ['MusicRecording', 'Product']  26 Mar 2020 05:27:56 GMT   \n",
       "4  ['MusicRecording', 'Product']  19 May 2020 23:50:24 GMT   \n",
       "\n",
       "             @context    duration  \\\n",
       "0  https://schema.org         NaN   \n",
       "1  https://schema.org         NaN   \n",
       "2  https://schema.org         NaN   \n",
       "3  https://schema.org  P00H05M13S   \n",
       "4  https://schema.org  P00H03M01S   \n",
       "\n",
       "                                              offers  duration_secs  \\\n",
       "0                                                NaN            NaN   \n",
       "1                                                NaN            NaN   \n",
       "2                                                NaN            NaN   \n",
       "3  {'price': 1.0, 'priceCurrency': 'USD', 'availa...        313.914   \n",
       "4  {'url': 'https://sofiefatouretchi.bandcamp.com...        181.191   \n",
       "\n",
       "                                             inAlbum  \\\n",
       "0                                                NaN   \n",
       "1                                                NaN   \n",
       "2                                                NaN   \n",
       "3                                                NaN   \n",
       "4  {'name': 'Cult Survivor', '@id': 'https://sofi...   \n",
       "\n",
       "                                                 url  \\\n",
       "0                                                NaN   \n",
       "1                                                NaN   \n",
       "2                                                NaN   \n",
       "3  https://linguaignota.bandcamp.com/track/o-ruth...   \n",
       "4  https://sofiefatouretchi.bandcamp.com/track/tr...   \n",
       "\n",
       "                                         description      isrcCode  \\\n",
       "0  In November 2019, Girl Band played back to bac...           NaN   \n",
       "1                                                NaN           NaN   \n",
       "2  Maharetta Records proudly presents 'The Last S...           NaN   \n",
       "3                                                NaN  USA2P2009256   \n",
       "4                                                NaN  US2S72021004   \n",
       "\n",
       "                                         recordingOf  @graph  \n",
       "0                                                NaN     NaN  \n",
       "1                                                NaN     NaN  \n",
       "2                                                NaN     NaN  \n",
       "3  {'lyrics': {'text': 'EVERYONE I KNOW’S A FUCKI...     NaN  \n",
       "4                                                NaN     NaN  "
      ]
     },
     "execution_count": 5,
     "metadata": {},
     "output_type": "execute_result"
    }
   ],
   "source": [
    "df.head()"
   ]
  },
  {
   "cell_type": "code",
   "execution_count": 6,
   "id": "69676501",
   "metadata": {},
   "outputs": [],
   "source": [
    "#removing insignificant columns\n",
    "df = df.drop(['index', 'Unnamed: 0.1', '_id_x', 'art_url', 'art_id', 'join_key', 'Unnamed: 0',\n",
    "              '_id_y', '@id', 'image' ,'@context', 'package_image_id', 'isrcCode', 'url',\n",
    "              'track_album_slug_text', 'releases', '@graph', 'datePublished', 'dateModified',\n",
    "             'addl_count', 'item_slug', '@type'], axis = 1)\n",
    "#removing double columns\n",
    "df =  df.drop(['country', 'slug_type', 'amount_paid_fmt', 'duration', 'amount_over_fmt'], axis = 1)\n",
    "\n",
    "#removing text columns\n",
    "df = df.drop(['item_description', 'artist_name', 'album_title', 'name', 'comment', 'description', 'recordingOf'], axis = 1)"
   ]
  },
  {
   "cell_type": "code",
   "execution_count": 7,
   "id": "2fbbd2a0",
   "metadata": {},
   "outputs": [
    {
     "data": {
      "text/html": [
       "<div>\n",
       "<style scoped>\n",
       "    .dataframe tbody tr th:only-of-type {\n",
       "        vertical-align: middle;\n",
       "    }\n",
       "\n",
       "    .dataframe tbody tr th {\n",
       "        vertical-align: top;\n",
       "    }\n",
       "\n",
       "    .dataframe thead th {\n",
       "        text-align: right;\n",
       "    }\n",
       "</style>\n",
       "<table border=\"1\" class=\"dataframe\">\n",
       "  <thead>\n",
       "    <tr style=\"text-align: right;\">\n",
       "      <th></th>\n",
       "      <th>item_type</th>\n",
       "      <th>utc_date</th>\n",
       "      <th>country_code</th>\n",
       "      <th>item_price</th>\n",
       "      <th>amount_paid</th>\n",
       "      <th>currency</th>\n",
       "      <th>amount_paid_usd</th>\n",
       "      <th>albumRelease</th>\n",
       "      <th>numTracks</th>\n",
       "      <th>keywords</th>\n",
       "      <th>byArtist</th>\n",
       "      <th>track</th>\n",
       "      <th>offers</th>\n",
       "      <th>duration_secs</th>\n",
       "      <th>inAlbum</th>\n",
       "    </tr>\n",
       "  </thead>\n",
       "  <tbody>\n",
       "    <tr>\n",
       "      <th>0</th>\n",
       "      <td>a</td>\n",
       "      <td>1.599689e+09</td>\n",
       "      <td>gb</td>\n",
       "      <td>9.99</td>\n",
       "      <td>9.99</td>\n",
       "      <td>USD</td>\n",
       "      <td>9.99</td>\n",
       "      <td>[{'@id': 'https://girlbanddublin.bandcamp.com/...</td>\n",
       "      <td>14.0</td>\n",
       "      <td>Alternative, noise, post-punk, Ireland</td>\n",
       "      <td>{'@id': 'https://girlbanddublin.bandcamp.com',...</td>\n",
       "      <td>{'numberOfItems': 14, 'itemListElement': [{'po...</td>\n",
       "      <td>NaN</td>\n",
       "      <td>NaN</td>\n",
       "      <td>NaN</td>\n",
       "    </tr>\n",
       "    <tr>\n",
       "      <th>1</th>\n",
       "      <td>a</td>\n",
       "      <td>1.599689e+09</td>\n",
       "      <td>fi</td>\n",
       "      <td>1.00</td>\n",
       "      <td>1.00</td>\n",
       "      <td>GBP</td>\n",
       "      <td>1.30</td>\n",
       "      <td>[{'@type': ['Product', 'MusicRelease'], 'offer...</td>\n",
       "      <td>1.0</td>\n",
       "      <td>Electronic, Psychedelic Trance, psytrance, London</td>\n",
       "      <td>{'@type': 'MusicGroup', 'sameAs': ['http://www...</td>\n",
       "      <td>{'@type': 'ItemList', 'numberOfItems': 1, 'ite...</td>\n",
       "      <td>NaN</td>\n",
       "      <td>NaN</td>\n",
       "      <td>NaN</td>\n",
       "    </tr>\n",
       "    <tr>\n",
       "      <th>2</th>\n",
       "      <td>a</td>\n",
       "      <td>1.599689e+09</td>\n",
       "      <td>fi</td>\n",
       "      <td>3.00</td>\n",
       "      <td>3.00</td>\n",
       "      <td>GBP</td>\n",
       "      <td>3.90</td>\n",
       "      <td>[{'url': 'https://maharettarecords.bandcamp.co...</td>\n",
       "      <td>2.0</td>\n",
       "      <td>Electronic, Psychedelic Trance, psytrance, London</td>\n",
       "      <td>{'sameAs': ['http://www.maharettarecords.com',...</td>\n",
       "      <td>{'itemListElement': [{'@type': 'ListItem', 'po...</td>\n",
       "      <td>NaN</td>\n",
       "      <td>NaN</td>\n",
       "      <td>NaN</td>\n",
       "    </tr>\n",
       "    <tr>\n",
       "      <th>3</th>\n",
       "      <td>t</td>\n",
       "      <td>1.599689e+09</td>\n",
       "      <td>us</td>\n",
       "      <td>1.00</td>\n",
       "      <td>1.00</td>\n",
       "      <td>USD</td>\n",
       "      <td>1.00</td>\n",
       "      <td>NaN</td>\n",
       "      <td>NaN</td>\n",
       "      <td>Experimental, retribution, United States</td>\n",
       "      <td>{'image': 'https://f4.bcbits.com/img/001206732...</td>\n",
       "      <td>NaN</td>\n",
       "      <td>{'price': 1.0, 'priceCurrency': 'USD', 'availa...</td>\n",
       "      <td>313.914</td>\n",
       "      <td>NaN</td>\n",
       "    </tr>\n",
       "    <tr>\n",
       "      <th>4</th>\n",
       "      <td>t</td>\n",
       "      <td>1.599689e+09</td>\n",
       "      <td>us</td>\n",
       "      <td>1.29</td>\n",
       "      <td>1.29</td>\n",
       "      <td>USD</td>\n",
       "      <td>1.29</td>\n",
       "      <td>NaN</td>\n",
       "      <td>NaN</td>\n",
       "      <td>Alternative, alternative, Vienna</td>\n",
       "      <td>{'image': 'https://f4.bcbits.com/img/001805937...</td>\n",
       "      <td>NaN</td>\n",
       "      <td>{'url': 'https://sofiefatouretchi.bandcamp.com...</td>\n",
       "      <td>181.191</td>\n",
       "      <td>{'name': 'Cult Survivor', '@id': 'https://sofi...</td>\n",
       "    </tr>\n",
       "  </tbody>\n",
       "</table>\n",
       "</div>"
      ],
      "text/plain": [
       "  item_type      utc_date country_code  item_price  amount_paid currency  \\\n",
       "0         a  1.599689e+09           gb        9.99         9.99      USD   \n",
       "1         a  1.599689e+09           fi        1.00         1.00      GBP   \n",
       "2         a  1.599689e+09           fi        3.00         3.00      GBP   \n",
       "3         t  1.599689e+09           us        1.00         1.00      USD   \n",
       "4         t  1.599689e+09           us        1.29         1.29      USD   \n",
       "\n",
       "   amount_paid_usd                                       albumRelease  \\\n",
       "0             9.99  [{'@id': 'https://girlbanddublin.bandcamp.com/...   \n",
       "1             1.30  [{'@type': ['Product', 'MusicRelease'], 'offer...   \n",
       "2             3.90  [{'url': 'https://maharettarecords.bandcamp.co...   \n",
       "3             1.00                                                NaN   \n",
       "4             1.29                                                NaN   \n",
       "\n",
       "   numTracks                                           keywords  \\\n",
       "0       14.0             Alternative, noise, post-punk, Ireland   \n",
       "1        1.0  Electronic, Psychedelic Trance, psytrance, London   \n",
       "2        2.0  Electronic, Psychedelic Trance, psytrance, London   \n",
       "3        NaN           Experimental, retribution, United States   \n",
       "4        NaN                   Alternative, alternative, Vienna   \n",
       "\n",
       "                                            byArtist  \\\n",
       "0  {'@id': 'https://girlbanddublin.bandcamp.com',...   \n",
       "1  {'@type': 'MusicGroup', 'sameAs': ['http://www...   \n",
       "2  {'sameAs': ['http://www.maharettarecords.com',...   \n",
       "3  {'image': 'https://f4.bcbits.com/img/001206732...   \n",
       "4  {'image': 'https://f4.bcbits.com/img/001805937...   \n",
       "\n",
       "                                               track  \\\n",
       "0  {'numberOfItems': 14, 'itemListElement': [{'po...   \n",
       "1  {'@type': 'ItemList', 'numberOfItems': 1, 'ite...   \n",
       "2  {'itemListElement': [{'@type': 'ListItem', 'po...   \n",
       "3                                                NaN   \n",
       "4                                                NaN   \n",
       "\n",
       "                                              offers  duration_secs  \\\n",
       "0                                                NaN            NaN   \n",
       "1                                                NaN            NaN   \n",
       "2                                                NaN            NaN   \n",
       "3  {'price': 1.0, 'priceCurrency': 'USD', 'availa...        313.914   \n",
       "4  {'url': 'https://sofiefatouretchi.bandcamp.com...        181.191   \n",
       "\n",
       "                                             inAlbum  \n",
       "0                                                NaN  \n",
       "1                                                NaN  \n",
       "2                                                NaN  \n",
       "3                                                NaN  \n",
       "4  {'name': 'Cult Survivor', '@id': 'https://sofi...  "
      ]
     },
     "execution_count": 7,
     "metadata": {},
     "output_type": "execute_result"
    }
   ],
   "source": [
    "df.head()"
   ]
  },
  {
   "cell_type": "markdown",
   "id": "f53593d5",
   "metadata": {},
   "source": [
    "### Missing Values"
   ]
  },
  {
   "cell_type": "code",
   "execution_count": 8,
   "id": "a8d325d6",
   "metadata": {},
   "outputs": [
    {
     "data": {
      "image/png": "[encoded data removed]",
      "text/plain": [
       "<Figure size 600x1200 with 1 Axes>"
      ]
     },
     "metadata": {},
     "output_type": "display_data"
    }
   ],
   "source": [
    "plt.figure(figsize=(6,12))\n",
    "\n",
    "ax = plt.axes()\n",
    "sns.heatmap(df.isna().transpose(), cbar=False, ax=ax)\n",
    "\n",
    "plt.title('')\n",
    "plt.xlabel('')\n",
    "plt.ylabel('Column name') \n",
    "ax.set_xticks([])\n",
    "\n",
    "plt.savefig('heatmap.png', bbox_inches='tight', dpi=150)\n",
    "plt.show()"
   ]
  },
  {
   "cell_type": "markdown",
   "id": "a13f4141",
   "metadata": {},
   "source": [
    "### Missing values  and feature transformation/removal"
   ]
  },
  {
   "cell_type": "markdown",
   "id": "c4c53c0a",
   "metadata": {},
   "source": [
    "#### 1. albumRelease"
   ]
  },
  {
   "cell_type": "code",
   "execution_count": 9,
   "id": "211931f8",
   "metadata": {},
   "outputs": [],
   "source": [
    "albumRelease = df['albumRelease']"
   ]
  },
  {
   "cell_type": "code",
   "execution_count": 10,
   "id": "bc7b381b",
   "metadata": {},
   "outputs": [],
   "source": [
    "albumRelease_count = []\n",
    "\n",
    "def album_release_count(lst):\n",
    "    for x in range(0, len(lst)): \n",
    "        if df['item_type'][x] == 'a':\n",
    "            dic = ast.literal_eval(lst[x])\n",
    "            albumRelease_count.append(len(dic))\n",
    "\n",
    "        elif df['item_type'][x] == 't': \n",
    "            albumRelease_count.append(1)\n",
    "        else:\n",
    "            continue"
   ]
  },
  {
   "cell_type": "code",
   "execution_count": 11,
   "id": "c70f9e18",
   "metadata": {
    "scrolled": true
   },
   "outputs": [],
   "source": [
    "albumReleases = album_release_count(albumRelease)"
   ]
  },
  {
   "cell_type": "code",
   "execution_count": 12,
   "id": "5ac24e83",
   "metadata": {},
   "outputs": [],
   "source": [
    "df = df.drop('albumRelease', axis = 1)"
   ]
  },
  {
   "cell_type": "code",
   "execution_count": 13,
   "id": "edc3c90a",
   "metadata": {},
   "outputs": [],
   "source": [
    "df['albumRelease'] = albumRelease_count"
   ]
  },
  {
   "cell_type": "markdown",
   "id": "a441a536",
   "metadata": {},
   "source": [
    "#### 2. numTracks"
   ]
  },
  {
   "cell_type": "code",
   "execution_count": 14,
   "id": "019f27e1",
   "metadata": {},
   "outputs": [],
   "source": [
    "numtracks = df['numTracks']\n",
    "num_tracks = [] \n",
    "\n",
    "def num_tracks_track(lst):\n",
    "    for x in lst:\n",
    "        if math.isnan(x) == True:\n",
    "            num_tracks.append(1)\n",
    "        else:\n",
    "            num_tracks.append(x)\n",
    "\n",
    "num_tracks_track(numtracks)\n",
    "df['numTracks'] = num_tracks"
   ]
  },
  {
   "cell_type": "markdown",
   "id": "a269a580",
   "metadata": {},
   "source": [
    "#### 3. inAlbum"
   ]
  },
  {
   "cell_type": "code",
   "execution_count": 15,
   "id": "4759375b",
   "metadata": {},
   "outputs": [],
   "source": [
    "inAlbum = df['inAlbum']\n",
    "item_type = df['item_type']\n",
    "mod_inAlbum = []\n",
    "\n",
    "def new_inalbum(lst):\n",
    "    for x in range(0, len(lst)):\n",
    "        if item_type[x] == 'a':\n",
    "            mod_inAlbum.append('is')\n",
    "        elif item_type[x] == 't':\n",
    "            if type(lst[x]) == str:\n",
    "                mod_inAlbum.append('in')\n",
    "            else:\n",
    "                mod_inAlbum.append('not')\n",
    "\n",
    "                \n",
    "new_inalbum(inAlbum)"
   ]
  },
  {
   "cell_type": "code",
   "execution_count": 16,
   "id": "6a73b9db",
   "metadata": {},
   "outputs": [],
   "source": [
    "df = df.drop('inAlbum', axis = 1)  \n",
    "df['inAlbum'] = mod_inAlbum"
   ]
  },
  {
   "cell_type": "markdown",
   "id": "94326f41",
   "metadata": {},
   "source": [
    "#### 4. track, offers & duration secs"
   ]
  },
  {
   "cell_type": "code",
   "execution_count": 17,
   "id": "f1ce8eda",
   "metadata": {},
   "outputs": [
    {
     "data": {
      "text/plain": [
       "\"{'price': 1.0, 'priceCurrency': 'USD', 'availability': 'OnlineOnly', '@type': 'Offer', 'priceSpecification': {'minPrice': 1.0}, 'url': 'https://linguaignota.bandcamp.com/track/o-ruthless-great-divine-director#buy'}\""
      ]
     },
     "execution_count": 17,
     "metadata": {},
     "output_type": "execute_result"
    }
   ],
   "source": [
    "offers = df['offers']\n",
    "offers[3]"
   ]
  },
  {
   "cell_type": "code",
   "execution_count": 18,
   "id": "6059d00a",
   "metadata": {},
   "outputs": [
    {
     "data": {
      "text/plain": [
       "\"{'numberOfItems': 14, 'itemListElement': [{'position': 1, '@type': 'ListItem', 'item': {'@id': 'https://girlbanddublin.bandcamp.com/track/pears-for-lunch-live-at-vicar-street', 'url': 'https://girlbanddublin.bandcamp.com/track/pears-for-lunch-live-at-vicar-street', 'duration': 'P00H04M27S', '@type': ['MusicRecording'], 'name': 'Pears for Lunch (Live at Vicar Street)', 'duration_secs': 267.26}}, {'position': 2, '@type': 'ListItem', 'item': {'@id': 'https://girlbanddublin.bandcamp.com/track/fucking-butter-live-at-vicar-street', 'url': 'https://girlbanddublin.bandcamp.com/track/fucking-butter-live-at-vicar-street', 'duration': 'P00H07M49S', '@type': ['MusicRecording'], 'name': 'Fucking Butter (Live at Vicar Street)', 'duration_secs': 469.2}}, {'position': 3, '@type': 'ListItem', 'item': {'@id': 'https://girlbanddublin.bandcamp.com/track/lawman-live-at-vicar-street', 'url': 'https://girlbanddublin.bandcamp.com/track/lawman-live-at-vicar-street', 'duration': 'P00H06M51S', '@type': ['MusicRecording'], 'name': 'Lawman (Live at Vicar Street)', 'duration_secs': 411.357}}, {'position': 4, '@type': 'ListItem', 'item': {'@id': 'https://girlbanddublin.bandcamp.com/track/heckle-the-frames-live-at-vicar-street', 'url': 'https://girlbanddublin.bandcamp.com/track/heckle-the-frames-live-at-vicar-street', 'duration': 'P00H01M42S', '@type': ['MusicRecording'], 'name': 'Heckle the Frames (Live at Vicar Street)', 'duration_secs': 102.23}}, {'position': 5, '@type': 'ListItem', 'item': {'@id': 'https://girlbanddublin.bandcamp.com/track/the-last-riddler-live-at-vicar-street', 'url': 'https://girlbanddublin.bandcamp.com/track/the-last-riddler-live-at-vicar-street', 'duration': 'P00H01M33S', '@type': ['MusicRecording'], 'name': 'The Last Riddler (Live at Vicar Street)', 'duration_secs': 93.1818}}, {'position': 6, '@type': 'ListItem', 'item': {'@id': 'https://girlbanddublin.bandcamp.com/track/laggard-live-at-vicar-street', 'url': 'https://girlbanddublin.bandcamp.com/track/laggard-live-at-vicar-street', 'duration': 'P00H05M47S', '@type': ['MusicRecording'], 'name': 'Laggard (Live at Vicar Street)', 'duration_secs': 347.278}}, {'position': 7, '@type': 'ListItem', 'item': {'@id': 'https://girlbanddublin.bandcamp.com/track/salmon-of-knowledge-live-at-vicar-street', 'url': 'https://girlbanddublin.bandcamp.com/track/salmon-of-knowledge-live-at-vicar-street', 'duration': 'P00H06M23S', '@type': ['MusicRecording'], 'name': 'Salmon of Knowledge (Live at Vicar Street)', 'duration_secs': 383.511}}, {'position': 8, '@type': 'ListItem', 'item': {'@id': 'https://girlbanddublin.bandcamp.com/track/amygdala-live-at-vicar-street-1', 'url': 'https://girlbanddublin.bandcamp.com/track/amygdala-live-at-vicar-street-1', 'duration': 'P00H01M31S', '@type': ['MusicRecording'], 'name': 'Amygdala (Live at Vicar Street)', 'duration_secs': 91.7357}}, {'position': 9, '@type': 'ListItem', 'item': {'@id': 'https://girlbanddublin.bandcamp.com/track/the-cha-cha-cha-live-at-vicar-street', 'url': 'https://girlbanddublin.bandcamp.com/track/the-cha-cha-cha-live-at-vicar-street', 'duration': 'P00H00M43S', '@type': ['MusicRecording'], 'name': 'The Cha Cha Cha (Live at Vicar Street)', 'duration_secs': 43.5024}}, {'position': 10, '@type': 'ListItem', 'item': {'@id': 'https://girlbanddublin.bandcamp.com/track/shoulderblades-live-at-vicar-street', 'url': 'https://girlbanddublin.bandcamp.com/track/shoulderblades-live-at-vicar-street', 'duration': 'P00H06M22S', '@type': ['MusicRecording'], 'name': 'Shoulderblades (Live at Vicar Street)', 'duration_secs': 382.932}}, {'position': 11, '@type': 'ListItem', 'item': {'@id': 'https://girlbanddublin.bandcamp.com/track/prefab-castle-live-at-vicar-street', 'url': 'https://girlbanddublin.bandcamp.com/track/prefab-castle-live-at-vicar-street', 'duration': 'P00H08M20S', '@type': ['MusicRecording'], 'name': 'Prefab Castle (Live at Vicar Street)', 'duration_secs': 500.305}}, {'position': 12, '@type': 'ListItem', 'item': {'@id': 'https://girlbanddublin.bandcamp.com/track/why-they-hide-their-bodies-under-my-garage-live-at-vicar-street', 'url': 'https://girlbanddublin.bandcamp.com/track/why-they-hide-their-bodies-under-my-garage-live-at-vicar-street', 'duration': 'P00H08M21S', '@type': ['MusicRecording'], 'name': 'Why They Hide Their Bodies Under My Garage (Live at Vicar Street)', 'duration_secs': 501.062}}, {'position': 13, '@type': 'ListItem', 'item': {'@id': 'https://girlbanddublin.bandcamp.com/track/going-norway-live-at-vicar-street', 'url': 'https://girlbanddublin.bandcamp.com/track/going-norway-live-at-vicar-street', 'duration': 'P00H04M14S', '@type': ['MusicRecording'], 'name': 'Going Norway (Live at Vicar Street)', 'duration_secs': 254.423}}, {'position': 14, '@type': 'ListItem', 'item': {'@id': 'https://girlbanddublin.bandcamp.com/track/paul-live-at-vicar-street', 'url': 'https://girlbanddublin.bandcamp.com/track/paul-live-at-vicar-street', 'duration': 'P00H09M15S', '@type': ['MusicRecording'], 'name': 'Paul (Live at Vicar Street)', 'duration_secs': 555.547}}], '@type': 'ItemList'}\""
      ]
     },
     "execution_count": 18,
     "metadata": {},
     "output_type": "execute_result"
    }
   ],
   "source": [
    "tracks = df['track']\n",
    "tracks[0]"
   ]
  },
  {
   "cell_type": "code",
   "execution_count": 19,
   "id": "c858da86",
   "metadata": {},
   "outputs": [],
   "source": [
    "df = df.drop(['track', 'offers', 'duration_secs'], axis = 1)"
   ]
  },
  {
   "cell_type": "code",
   "execution_count": 20,
   "id": "c1f93ba2",
   "metadata": {
    "scrolled": true
   },
   "outputs": [
    {
     "data": {
      "text/html": [
       "<div>\n",
       "<style scoped>\n",
       "    .dataframe tbody tr th:only-of-type {\n",
       "        vertical-align: middle;\n",
       "    }\n",
       "\n",
       "    .dataframe tbody tr th {\n",
       "        vertical-align: top;\n",
       "    }\n",
       "\n",
       "    .dataframe thead th {\n",
       "        text-align: right;\n",
       "    }\n",
       "</style>\n",
       "<table border=\"1\" class=\"dataframe\">\n",
       "  <thead>\n",
       "    <tr style=\"text-align: right;\">\n",
       "      <th></th>\n",
       "      <th>item_type</th>\n",
       "      <th>utc_date</th>\n",
       "      <th>country_code</th>\n",
       "      <th>item_price</th>\n",
       "      <th>amount_paid</th>\n",
       "      <th>currency</th>\n",
       "      <th>amount_paid_usd</th>\n",
       "      <th>numTracks</th>\n",
       "      <th>keywords</th>\n",
       "      <th>byArtist</th>\n",
       "      <th>albumRelease</th>\n",
       "      <th>inAlbum</th>\n",
       "    </tr>\n",
       "  </thead>\n",
       "  <tbody>\n",
       "    <tr>\n",
       "      <th>0</th>\n",
       "      <td>a</td>\n",
       "      <td>1.599689e+09</td>\n",
       "      <td>gb</td>\n",
       "      <td>9.99</td>\n",
       "      <td>9.99</td>\n",
       "      <td>USD</td>\n",
       "      <td>9.99</td>\n",
       "      <td>14.0</td>\n",
       "      <td>Alternative, noise, post-punk, Ireland</td>\n",
       "      <td>{'@id': 'https://girlbanddublin.bandcamp.com',...</td>\n",
       "      <td>1</td>\n",
       "      <td>is</td>\n",
       "    </tr>\n",
       "    <tr>\n",
       "      <th>1</th>\n",
       "      <td>a</td>\n",
       "      <td>1.599689e+09</td>\n",
       "      <td>fi</td>\n",
       "      <td>1.00</td>\n",
       "      <td>1.00</td>\n",
       "      <td>GBP</td>\n",
       "      <td>1.30</td>\n",
       "      <td>1.0</td>\n",
       "      <td>Electronic, Psychedelic Trance, psytrance, London</td>\n",
       "      <td>{'@type': 'MusicGroup', 'sameAs': ['http://www...</td>\n",
       "      <td>1</td>\n",
       "      <td>is</td>\n",
       "    </tr>\n",
       "    <tr>\n",
       "      <th>2</th>\n",
       "      <td>a</td>\n",
       "      <td>1.599689e+09</td>\n",
       "      <td>fi</td>\n",
       "      <td>3.00</td>\n",
       "      <td>3.00</td>\n",
       "      <td>GBP</td>\n",
       "      <td>3.90</td>\n",
       "      <td>2.0</td>\n",
       "      <td>Electronic, Psychedelic Trance, psytrance, London</td>\n",
       "      <td>{'sameAs': ['http://www.maharettarecords.com',...</td>\n",
       "      <td>1</td>\n",
       "      <td>is</td>\n",
       "    </tr>\n",
       "    <tr>\n",
       "      <th>3</th>\n",
       "      <td>t</td>\n",
       "      <td>1.599689e+09</td>\n",
       "      <td>us</td>\n",
       "      <td>1.00</td>\n",
       "      <td>1.00</td>\n",
       "      <td>USD</td>\n",
       "      <td>1.00</td>\n",
       "      <td>1.0</td>\n",
       "      <td>Experimental, retribution, United States</td>\n",
       "      <td>{'image': 'https://f4.bcbits.com/img/001206732...</td>\n",
       "      <td>1</td>\n",
       "      <td>not</td>\n",
       "    </tr>\n",
       "    <tr>\n",
       "      <th>4</th>\n",
       "      <td>t</td>\n",
       "      <td>1.599689e+09</td>\n",
       "      <td>us</td>\n",
       "      <td>1.29</td>\n",
       "      <td>1.29</td>\n",
       "      <td>USD</td>\n",
       "      <td>1.29</td>\n",
       "      <td>1.0</td>\n",
       "      <td>Alternative, alternative, Vienna</td>\n",
       "      <td>{'image': 'https://f4.bcbits.com/img/001805937...</td>\n",
       "      <td>1</td>\n",
       "      <td>in</td>\n",
       "    </tr>\n",
       "  </tbody>\n",
       "</table>\n",
       "</div>"
      ],
      "text/plain": [
       "  item_type      utc_date country_code  item_price  amount_paid currency  \\\n",
       "0         a  1.599689e+09           gb        9.99         9.99      USD   \n",
       "1         a  1.599689e+09           fi        1.00         1.00      GBP   \n",
       "2         a  1.599689e+09           fi        3.00         3.00      GBP   \n",
       "3         t  1.599689e+09           us        1.00         1.00      USD   \n",
       "4         t  1.599689e+09           us        1.29         1.29      USD   \n",
       "\n",
       "   amount_paid_usd  numTracks  \\\n",
       "0             9.99       14.0   \n",
       "1             1.30        1.0   \n",
       "2             3.90        2.0   \n",
       "3             1.00        1.0   \n",
       "4             1.29        1.0   \n",
       "\n",
       "                                            keywords  \\\n",
       "0             Alternative, noise, post-punk, Ireland   \n",
       "1  Electronic, Psychedelic Trance, psytrance, London   \n",
       "2  Electronic, Psychedelic Trance, psytrance, London   \n",
       "3           Experimental, retribution, United States   \n",
       "4                   Alternative, alternative, Vienna   \n",
       "\n",
       "                                            byArtist  albumRelease inAlbum  \n",
       "0  {'@id': 'https://girlbanddublin.bandcamp.com',...             1      is  \n",
       "1  {'@type': 'MusicGroup', 'sameAs': ['http://www...             1      is  \n",
       "2  {'sameAs': ['http://www.maharettarecords.com',...             1      is  \n",
       "3  {'image': 'https://f4.bcbits.com/img/001206732...             1     not  \n",
       "4  {'image': 'https://f4.bcbits.com/img/001805937...             1      in  "
      ]
     },
     "execution_count": 20,
     "metadata": {},
     "output_type": "execute_result"
    }
   ],
   "source": [
    "df.head()"
   ]
  },
  {
   "cell_type": "markdown",
   "id": "6c8bff07",
   "metadata": {},
   "source": [
    "### Feature transformation"
   ]
  },
  {
   "cell_type": "markdown",
   "id": "b4009a01",
   "metadata": {},
   "source": [
    "#### byArtist"
   ]
  },
  {
   "cell_type": "code",
   "execution_count": 21,
   "id": "bcb5dfde",
   "metadata": {},
   "outputs": [],
   "source": [
    "byArtist = df['byArtist']"
   ]
  },
  {
   "cell_type": "code",
   "execution_count": 22,
   "id": "b734cc53",
   "metadata": {},
   "outputs": [],
   "source": [
    "by_artist_list = []\n",
    "def str_to_dict(lst):\n",
    "    for x in lst:\n",
    "        if type(x) == str:\n",
    "            y = ast.literal_eval(x)\n",
    "            by_artist_list.append(y)\n",
    "        else:\n",
    "            by_artist_list.append(float('nan'))\n",
    "str_to_dict(byArtist)\n",
    "\n",
    "byArtist_genre_lst = []\n",
    "\n",
    "def get_keys(lst): \n",
    "    for x in lst:\n",
    "        if type(x) == dict:\n",
    "            genre = x.get('genre')\n",
    "            byArtist_genre_lst.append(genre)\n",
    "        else:\n",
    "            byArtist_genre_lst.append(float('nan'))\n",
    "get_keys(by_artist_list)\n",
    "\n",
    "byArtist_genre = []\n",
    "\n",
    "def mod_genre(lst):\n",
    "    for x in lst:\n",
    "        if type(x) == str:\n",
    "            x = x.replace(\"https://bandcamp.com/tag/\",\"\")\n",
    "            byArtist_genre.append(x)\n",
    "        else:\n",
    "            byArtist_genre.append(float('nan'))\n",
    "mod_genre(byArtist_genre_lst)\n",
    "\n",
    "df = df.drop('byArtist', axis = 1)\n",
    "df['genre'] = byArtist_genre"
   ]
  },
  {
   "cell_type": "code",
   "execution_count": 23,
   "id": "1064614d",
   "metadata": {},
   "outputs": [
    {
     "data": {
      "text/plain": [
       "51685"
      ]
     },
     "execution_count": 23,
     "metadata": {},
     "output_type": "execute_result"
    }
   ],
   "source": [
    "df['genre'].isna().sum()"
   ]
  },
  {
   "cell_type": "code",
   "execution_count": 24,
   "id": "4158487d",
   "metadata": {
    "scrolled": true
   },
   "outputs": [],
   "source": [
    "df['genre'] = df['genre'].fillna('other')"
   ]
  },
  {
   "cell_type": "code",
   "execution_count": 25,
   "id": "b494d7df",
   "metadata": {},
   "outputs": [
    {
     "data": {
      "image/png": "[encoded data removed]",
      "text/plain": [
       "<Figure size 1000x500 with 1 Axes>"
      ]
     },
     "metadata": {},
     "output_type": "display_data"
    }
   ],
   "source": [
    "fig = plt.figure(figsize=(10, 5))\n",
    "\n",
    "sns.countplot(y=df[\"genre\"])\n",
    "\n",
    "plt.xticks(rotation=90)\n",
    "plt.savefig('genre_count.png')"
   ]
  },
  {
   "cell_type": "markdown",
   "id": "c6c6156c",
   "metadata": {},
   "source": [
    "#### Keywords"
   ]
  },
  {
   "cell_type": "code",
   "execution_count": 26,
   "id": "3f05f083",
   "metadata": {},
   "outputs": [],
   "source": [
    "keywords = df['keywords']\n",
    "keyword_lst = []\n",
    "\n",
    "def keyword_list(lst):\n",
    "    for i in range(0, len(lst)):\n",
    "        j = str(lst[i])\n",
    "        j = j.replace(\" \", \"\").replace(\"-\", \"\").replace(\".\", \"\").replace(\"&\", \"\").replace(\"'\", \"\").lower()\n",
    "        x = j.split(\",\")\n",
    "        for k in range(0,1):\n",
    "            if len(x) == 1:\n",
    "                keyword_lst.append(x[0])\n",
    "            else:\n",
    "                if x[k] == df['genre'][i]:\n",
    "                    if len(x) == 2:\n",
    "                        keyword_lst.append(x[1])\n",
    "                    else:\n",
    "                        if x[k+1] == df['genre'][i]:\n",
    "                            keyword_lst.append(x[k+2])\n",
    "                        else:\n",
    "                            keyword_lst.append(x[k+1])\n",
    "                else:\n",
    "                    keyword_lst.append(x[k])\n",
    "keyword_list(keywords)"
   ]
  },
  {
   "cell_type": "code",
   "execution_count": 27,
   "id": "bf6432d1",
   "metadata": {},
   "outputs": [],
   "source": [
    "#extract top 25 tags and turn into list\n",
    "df['keyword_lst'] = keyword_lst\n",
    "tags = pd.DataFrame(df['keyword_lst'].value_counts()[:26])\n",
    "tags_list = tags.index.tolist()\n",
    "#remove nan\n",
    "tags_list = tags_list[1:]"
   ]
  },
  {
   "cell_type": "code",
   "execution_count": 28,
   "id": "17b06c0f",
   "metadata": {},
   "outputs": [],
   "source": [
    "top_tags = []\n",
    "\n",
    "def modify_tags(keyword_lst, lst2):\n",
    "    for x in range(0, len(keyword_lst)):\n",
    "        if keyword_lst[x] in lst2:\n",
    "            top_tags.append(keyword_lst[x])\n",
    "        else:\n",
    "            top_tags.append('other')\n",
    "\n",
    "modify_tags(keyword_lst, tags_list)"
   ]
  },
  {
   "cell_type": "code",
   "execution_count": 29,
   "id": "43e6dbef",
   "metadata": {},
   "outputs": [],
   "source": [
    "df['tags'] = top_tags\n",
    "df = df.drop(['keywords', 'keyword_lst'], axis = 1)"
   ]
  },
  {
   "cell_type": "markdown",
   "id": "b01b1bf7",
   "metadata": {},
   "source": [
    "#### item_price"
   ]
  },
  {
   "cell_type": "code",
   "execution_count": 30,
   "id": "25876d60",
   "metadata": {},
   "outputs": [],
   "source": [
    "# conversion rate\n",
    "conversion_rate = df['amount_paid_usd'] / df['amount_paid']\n",
    "df['item_price'] = df['item_price'] * conversion_rate"
   ]
  },
  {
   "cell_type": "code",
   "execution_count": 31,
   "id": "e1912ca3",
   "metadata": {
    "scrolled": true
   },
   "outputs": [
    {
     "data": {
      "text/html": [
       "<div>\n",
       "<style scoped>\n",
       "    .dataframe tbody tr th:only-of-type {\n",
       "        vertical-align: middle;\n",
       "    }\n",
       "\n",
       "    .dataframe tbody tr th {\n",
       "        vertical-align: top;\n",
       "    }\n",
       "\n",
       "    .dataframe thead th {\n",
       "        text-align: right;\n",
       "    }\n",
       "</style>\n",
       "<table border=\"1\" class=\"dataframe\">\n",
       "  <thead>\n",
       "    <tr style=\"text-align: right;\">\n",
       "      <th></th>\n",
       "      <th>item_type</th>\n",
       "      <th>utc_date</th>\n",
       "      <th>country_code</th>\n",
       "      <th>item_price</th>\n",
       "      <th>currency</th>\n",
       "      <th>amount_paid_usd</th>\n",
       "      <th>numTracks</th>\n",
       "      <th>albumRelease</th>\n",
       "      <th>inAlbum</th>\n",
       "      <th>genre</th>\n",
       "      <th>tags</th>\n",
       "    </tr>\n",
       "  </thead>\n",
       "  <tbody>\n",
       "    <tr>\n",
       "      <th>0</th>\n",
       "      <td>a</td>\n",
       "      <td>1.599689e+09</td>\n",
       "      <td>gb</td>\n",
       "      <td>9.99</td>\n",
       "      <td>USD</td>\n",
       "      <td>9.99</td>\n",
       "      <td>14.0</td>\n",
       "      <td>1</td>\n",
       "      <td>is</td>\n",
       "      <td>alternative</td>\n",
       "      <td>other</td>\n",
       "    </tr>\n",
       "    <tr>\n",
       "      <th>1</th>\n",
       "      <td>a</td>\n",
       "      <td>1.599689e+09</td>\n",
       "      <td>fi</td>\n",
       "      <td>1.30</td>\n",
       "      <td>GBP</td>\n",
       "      <td>1.30</td>\n",
       "      <td>1.0</td>\n",
       "      <td>1</td>\n",
       "      <td>is</td>\n",
       "      <td>electronic</td>\n",
       "      <td>other</td>\n",
       "    </tr>\n",
       "    <tr>\n",
       "      <th>2</th>\n",
       "      <td>a</td>\n",
       "      <td>1.599689e+09</td>\n",
       "      <td>fi</td>\n",
       "      <td>3.90</td>\n",
       "      <td>GBP</td>\n",
       "      <td>3.90</td>\n",
       "      <td>2.0</td>\n",
       "      <td>1</td>\n",
       "      <td>is</td>\n",
       "      <td>electronic</td>\n",
       "      <td>other</td>\n",
       "    </tr>\n",
       "    <tr>\n",
       "      <th>3</th>\n",
       "      <td>t</td>\n",
       "      <td>1.599689e+09</td>\n",
       "      <td>us</td>\n",
       "      <td>1.00</td>\n",
       "      <td>USD</td>\n",
       "      <td>1.00</td>\n",
       "      <td>1.0</td>\n",
       "      <td>1</td>\n",
       "      <td>not</td>\n",
       "      <td>experimental</td>\n",
       "      <td>other</td>\n",
       "    </tr>\n",
       "    <tr>\n",
       "      <th>4</th>\n",
       "      <td>t</td>\n",
       "      <td>1.599689e+09</td>\n",
       "      <td>us</td>\n",
       "      <td>1.29</td>\n",
       "      <td>USD</td>\n",
       "      <td>1.29</td>\n",
       "      <td>1.0</td>\n",
       "      <td>1</td>\n",
       "      <td>in</td>\n",
       "      <td>alternative</td>\n",
       "      <td>other</td>\n",
       "    </tr>\n",
       "  </tbody>\n",
       "</table>\n",
       "</div>"
      ],
      "text/plain": [
       "  item_type      utc_date country_code  item_price currency  amount_paid_usd  \\\n",
       "0         a  1.599689e+09           gb        9.99      USD             9.99   \n",
       "1         a  1.599689e+09           fi        1.30      GBP             1.30   \n",
       "2         a  1.599689e+09           fi        3.90      GBP             3.90   \n",
       "3         t  1.599689e+09           us        1.00      USD             1.00   \n",
       "4         t  1.599689e+09           us        1.29      USD             1.29   \n",
       "\n",
       "   numTracks  albumRelease inAlbum         genre   tags  \n",
       "0       14.0             1      is   alternative  other  \n",
       "1        1.0             1      is    electronic  other  \n",
       "2        2.0             1      is    electronic  other  \n",
       "3        1.0             1     not  experimental  other  \n",
       "4        1.0             1      in   alternative  other  "
      ]
     },
     "execution_count": 31,
     "metadata": {},
     "output_type": "execute_result"
    }
   ],
   "source": [
    "df = df.drop('amount_paid', axis = 1)\n",
    "df.head()"
   ]
  },
  {
   "cell_type": "markdown",
   "id": "190f4089",
   "metadata": {},
   "source": [
    "#### utc_date"
   ]
  },
  {
   "cell_type": "code",
   "execution_count": 32,
   "id": "b2e10607",
   "metadata": {},
   "outputs": [
    {
     "data": {
      "text/html": [
       "<div>\n",
       "<style scoped>\n",
       "    .dataframe tbody tr th:only-of-type {\n",
       "        vertical-align: middle;\n",
       "    }\n",
       "\n",
       "    .dataframe tbody tr th {\n",
       "        vertical-align: top;\n",
       "    }\n",
       "\n",
       "    .dataframe thead th {\n",
       "        text-align: right;\n",
       "    }\n",
       "</style>\n",
       "<table border=\"1\" class=\"dataframe\">\n",
       "  <thead>\n",
       "    <tr style=\"text-align: right;\">\n",
       "      <th></th>\n",
       "      <th>item_type</th>\n",
       "      <th>utc_date</th>\n",
       "      <th>country_code</th>\n",
       "      <th>item_price</th>\n",
       "      <th>currency</th>\n",
       "      <th>amount_paid_usd</th>\n",
       "      <th>numTracks</th>\n",
       "      <th>albumRelease</th>\n",
       "      <th>inAlbum</th>\n",
       "      <th>genre</th>\n",
       "      <th>tags</th>\n",
       "      <th>day</th>\n",
       "    </tr>\n",
       "  </thead>\n",
       "  <tbody>\n",
       "    <tr>\n",
       "      <th>0</th>\n",
       "      <td>a</td>\n",
       "      <td>1.599689e+09</td>\n",
       "      <td>gb</td>\n",
       "      <td>9.99</td>\n",
       "      <td>USD</td>\n",
       "      <td>9.99</td>\n",
       "      <td>14.0</td>\n",
       "      <td>1</td>\n",
       "      <td>is</td>\n",
       "      <td>alternative</td>\n",
       "      <td>other</td>\n",
       "      <td>3</td>\n",
       "    </tr>\n",
       "    <tr>\n",
       "      <th>1</th>\n",
       "      <td>a</td>\n",
       "      <td>1.599689e+09</td>\n",
       "      <td>fi</td>\n",
       "      <td>1.30</td>\n",
       "      <td>GBP</td>\n",
       "      <td>1.30</td>\n",
       "      <td>1.0</td>\n",
       "      <td>1</td>\n",
       "      <td>is</td>\n",
       "      <td>electronic</td>\n",
       "      <td>other</td>\n",
       "      <td>3</td>\n",
       "    </tr>\n",
       "    <tr>\n",
       "      <th>2</th>\n",
       "      <td>a</td>\n",
       "      <td>1.599689e+09</td>\n",
       "      <td>fi</td>\n",
       "      <td>3.90</td>\n",
       "      <td>GBP</td>\n",
       "      <td>3.90</td>\n",
       "      <td>2.0</td>\n",
       "      <td>1</td>\n",
       "      <td>is</td>\n",
       "      <td>electronic</td>\n",
       "      <td>other</td>\n",
       "      <td>3</td>\n",
       "    </tr>\n",
       "    <tr>\n",
       "      <th>3</th>\n",
       "      <td>t</td>\n",
       "      <td>1.599689e+09</td>\n",
       "      <td>us</td>\n",
       "      <td>1.00</td>\n",
       "      <td>USD</td>\n",
       "      <td>1.00</td>\n",
       "      <td>1.0</td>\n",
       "      <td>1</td>\n",
       "      <td>not</td>\n",
       "      <td>experimental</td>\n",
       "      <td>other</td>\n",
       "      <td>3</td>\n",
       "    </tr>\n",
       "    <tr>\n",
       "      <th>4</th>\n",
       "      <td>t</td>\n",
       "      <td>1.599689e+09</td>\n",
       "      <td>us</td>\n",
       "      <td>1.29</td>\n",
       "      <td>USD</td>\n",
       "      <td>1.29</td>\n",
       "      <td>1.0</td>\n",
       "      <td>1</td>\n",
       "      <td>in</td>\n",
       "      <td>alternative</td>\n",
       "      <td>other</td>\n",
       "      <td>3</td>\n",
       "    </tr>\n",
       "  </tbody>\n",
       "</table>\n",
       "</div>"
      ],
      "text/plain": [
       "  item_type      utc_date country_code  item_price currency  amount_paid_usd  \\\n",
       "0         a  1.599689e+09           gb        9.99      USD             9.99   \n",
       "1         a  1.599689e+09           fi        1.30      GBP             1.30   \n",
       "2         a  1.599689e+09           fi        3.90      GBP             3.90   \n",
       "3         t  1.599689e+09           us        1.00      USD             1.00   \n",
       "4         t  1.599689e+09           us        1.29      USD             1.29   \n",
       "\n",
       "   numTracks  albumRelease inAlbum         genre   tags day  \n",
       "0       14.0             1      is   alternative  other   3  \n",
       "1        1.0             1      is    electronic  other   3  \n",
       "2        2.0             1      is    electronic  other   3  \n",
       "3        1.0             1     not  experimental  other   3  \n",
       "4        1.0             1      in   alternative  other   3  "
      ]
     },
     "execution_count": 32,
     "metadata": {},
     "output_type": "execute_result"
    }
   ],
   "source": [
    "utc_datetime = [datetime.datetime.utcfromtimestamp(x) for x in df['utc_date']]\n",
    "day = [y.strftime('%w') for y in utc_datetime] #0 for sunday through 6 for saturday\n",
    "df['day'] = day\n",
    "df.head()"
   ]
  },
  {
   "cell_type": "code",
   "execution_count": 33,
   "id": "bddb0430",
   "metadata": {},
   "outputs": [
    {
     "data": {
      "image/png": "[encoded data removed]",
      "text/plain": [
       "<Figure size 1000x500 with 1 Axes>"
      ]
     },
     "metadata": {},
     "output_type": "display_data"
    }
   ],
   "source": [
    "fig = plt.figure(figsize=(10, 5))\n",
    "\n",
    "sns.countplot(y=df[\"day\"])\n",
    "\n",
    "plt.xticks(rotation=90)\n",
    "plt.savefig('day_count.png')"
   ]
  },
  {
   "cell_type": "markdown",
   "id": "4097bdcd",
   "metadata": {},
   "source": [
    "#### Bandcamp fridays"
   ]
  },
  {
   "cell_type": "code",
   "execution_count": 34,
   "id": "33528d85",
   "metadata": {},
   "outputs": [],
   "source": [
    "day_day = [y.strftime('%a/%d') for y in utc_datetime]\n",
    "fridays = ['Fri/01', 'Fri/02', 'Fri/03', 'Fri/04', 'Fri/05', 'Fri/06', 'Fri/07']\n",
    "BC_fridays = [1 if day in fridays else 0 for day in day_day]\n",
    "df['BC_friday'] = BC_fridays"
   ]
  },
  {
   "cell_type": "code",
   "execution_count": 35,
   "id": "86b155a9",
   "metadata": {
    "scrolled": true
   },
   "outputs": [
    {
     "data": {
      "image/png": "[encoded data removed]",
      "text/plain": [
       "<Figure size 1000x500 with 1 Axes>"
      ]
     },
     "metadata": {},
     "output_type": "display_data"
    }
   ],
   "source": [
    "fig = plt.figure(figsize=(10, 5))\n",
    "\n",
    "sns.countplot(y=df[\"BC_friday\"])\n",
    "\n",
    "plt.xticks(rotation=90)\n",
    "plt.savefig('BCF_count.png')"
   ]
  },
  {
   "cell_type": "code",
   "execution_count": 36,
   "id": "75092822",
   "metadata": {},
   "outputs": [],
   "source": [
    "df = df.drop('utc_date', axis = 1)"
   ]
  },
  {
   "cell_type": "code",
   "execution_count": 37,
   "id": "f739497c",
   "metadata": {},
   "outputs": [
    {
     "data": {
      "text/html": [
       "<div>\n",
       "<style scoped>\n",
       "    .dataframe tbody tr th:only-of-type {\n",
       "        vertical-align: middle;\n",
       "    }\n",
       "\n",
       "    .dataframe tbody tr th {\n",
       "        vertical-align: top;\n",
       "    }\n",
       "\n",
       "    .dataframe thead th {\n",
       "        text-align: right;\n",
       "    }\n",
       "</style>\n",
       "<table border=\"1\" class=\"dataframe\">\n",
       "  <thead>\n",
       "    <tr style=\"text-align: right;\">\n",
       "      <th></th>\n",
       "      <th>item_type</th>\n",
       "      <th>country_code</th>\n",
       "      <th>item_price</th>\n",
       "      <th>currency</th>\n",
       "      <th>amount_paid_usd</th>\n",
       "      <th>numTracks</th>\n",
       "      <th>albumRelease</th>\n",
       "      <th>inAlbum</th>\n",
       "      <th>genre</th>\n",
       "      <th>tags</th>\n",
       "      <th>day</th>\n",
       "      <th>BC_friday</th>\n",
       "    </tr>\n",
       "  </thead>\n",
       "  <tbody>\n",
       "    <tr>\n",
       "      <th>0</th>\n",
       "      <td>a</td>\n",
       "      <td>gb</td>\n",
       "      <td>9.99</td>\n",
       "      <td>USD</td>\n",
       "      <td>9.99</td>\n",
       "      <td>14.0</td>\n",
       "      <td>1</td>\n",
       "      <td>is</td>\n",
       "      <td>alternative</td>\n",
       "      <td>other</td>\n",
       "      <td>3</td>\n",
       "      <td>0</td>\n",
       "    </tr>\n",
       "    <tr>\n",
       "      <th>1</th>\n",
       "      <td>a</td>\n",
       "      <td>fi</td>\n",
       "      <td>1.30</td>\n",
       "      <td>GBP</td>\n",
       "      <td>1.30</td>\n",
       "      <td>1.0</td>\n",
       "      <td>1</td>\n",
       "      <td>is</td>\n",
       "      <td>electronic</td>\n",
       "      <td>other</td>\n",
       "      <td>3</td>\n",
       "      <td>0</td>\n",
       "    </tr>\n",
       "    <tr>\n",
       "      <th>2</th>\n",
       "      <td>a</td>\n",
       "      <td>fi</td>\n",
       "      <td>3.90</td>\n",
       "      <td>GBP</td>\n",
       "      <td>3.90</td>\n",
       "      <td>2.0</td>\n",
       "      <td>1</td>\n",
       "      <td>is</td>\n",
       "      <td>electronic</td>\n",
       "      <td>other</td>\n",
       "      <td>3</td>\n",
       "      <td>0</td>\n",
       "    </tr>\n",
       "    <tr>\n",
       "      <th>3</th>\n",
       "      <td>t</td>\n",
       "      <td>us</td>\n",
       "      <td>1.00</td>\n",
       "      <td>USD</td>\n",
       "      <td>1.00</td>\n",
       "      <td>1.0</td>\n",
       "      <td>1</td>\n",
       "      <td>not</td>\n",
       "      <td>experimental</td>\n",
       "      <td>other</td>\n",
       "      <td>3</td>\n",
       "      <td>0</td>\n",
       "    </tr>\n",
       "    <tr>\n",
       "      <th>4</th>\n",
       "      <td>t</td>\n",
       "      <td>us</td>\n",
       "      <td>1.29</td>\n",
       "      <td>USD</td>\n",
       "      <td>1.29</td>\n",
       "      <td>1.0</td>\n",
       "      <td>1</td>\n",
       "      <td>in</td>\n",
       "      <td>alternative</td>\n",
       "      <td>other</td>\n",
       "      <td>3</td>\n",
       "      <td>0</td>\n",
       "    </tr>\n",
       "  </tbody>\n",
       "</table>\n",
       "</div>"
      ],
      "text/plain": [
       "  item_type country_code  item_price currency  amount_paid_usd  numTracks  \\\n",
       "0         a           gb        9.99      USD             9.99       14.0   \n",
       "1         a           fi        1.30      GBP             1.30        1.0   \n",
       "2         a           fi        3.90      GBP             3.90        2.0   \n",
       "3         t           us        1.00      USD             1.00        1.0   \n",
       "4         t           us        1.29      USD             1.29        1.0   \n",
       "\n",
       "   albumRelease inAlbum         genre   tags day  BC_friday  \n",
       "0             1      is   alternative  other   3          0  \n",
       "1             1      is    electronic  other   3          0  \n",
       "2             1      is    electronic  other   3          0  \n",
       "3             1     not  experimental  other   3          0  \n",
       "4             1      in   alternative  other   3          0  "
      ]
     },
     "execution_count": 37,
     "metadata": {},
     "output_type": "execute_result"
    }
   ],
   "source": [
    "df.head()"
   ]
  },
  {
   "cell_type": "code",
   "execution_count": 38,
   "id": "11ba80a4",
   "metadata": {
    "scrolled": true
   },
   "outputs": [
    {
     "name": "stdout",
     "output_type": "stream",
     "text": [
      "<class 'pandas.core.frame.DataFrame'>\n",
      "RangeIndex: 664427 entries, 0 to 664426\n",
      "Data columns (total 12 columns):\n",
      " #   Column           Non-Null Count   Dtype  \n",
      "---  ------           --------------   -----  \n",
      " 0   item_type        664427 non-null  object \n",
      " 1   country_code     664427 non-null  object \n",
      " 2   item_price       664427 non-null  float64\n",
      " 3   currency         664427 non-null  object \n",
      " 4   amount_paid_usd  664427 non-null  float64\n",
      " 5   numTracks        664427 non-null  float64\n",
      " 6   albumRelease     664427 non-null  int64  \n",
      " 7   inAlbum          664427 non-null  object \n",
      " 8   genre            664427 non-null  object \n",
      " 9   tags             664427 non-null  object \n",
      " 10  day              664427 non-null  object \n",
      " 11  BC_friday        664427 non-null  int64  \n",
      "dtypes: float64(3), int64(2), object(7)\n",
      "memory usage: 60.8+ MB\n"
     ]
    }
   ],
   "source": [
    "#checking for missing values after cleaning\n",
    "df.info()"
   ]
  },
  {
   "cell_type": "markdown",
   "id": "cf7b91c5",
   "metadata": {},
   "source": [
    "## Outliers"
   ]
  },
  {
   "cell_type": "code",
   "execution_count": 39,
   "id": "089439f3",
   "metadata": {},
   "outputs": [],
   "source": [
    "#outliers can only be found in item_price, amount_paid and numTracks"
   ]
  },
  {
   "cell_type": "code",
   "execution_count": 40,
   "id": "991fb338",
   "metadata": {},
   "outputs": [
    {
     "data": {
      "image/png": "[encoded data removed]",
      "text/plain": [
       "<Figure size 640x480 with 1 Axes>"
      ]
     },
     "metadata": {},
     "output_type": "display_data"
    }
   ],
   "source": [
    "amount_paid = df['amount_paid_usd'].values.tolist()\n",
    "fig2, ax2 = plt.subplots()\n",
    "ax2.set_title('Amount Paid')\n",
    "ax2.boxplot(amount_paid)\n",
    "plt.savefig('boxplot_amount_paid_outliers.png', bbox_inches='tight', dpi=150)"
   ]
  },
  {
   "cell_type": "code",
   "execution_count": 41,
   "id": "5928b40e",
   "metadata": {},
   "outputs": [
    {
     "data": {
      "image/png": "[encoded data removed]",
      "text/plain": [
       "<Figure size 640x480 with 1 Axes>"
      ]
     },
     "metadata": {},
     "output_type": "display_data"
    }
   ],
   "source": [
    "item_price = df['item_price'].values.tolist()\n",
    "fig2, ax2 = plt.subplots()\n",
    "ax2.set_title('Item Price')\n",
    "ax2.boxplot(item_price)\n",
    "plt.savefig('boxplot_item_price_outliers.png', bbox_inches='tight', dpi=150)"
   ]
  },
  {
   "cell_type": "code",
   "execution_count": 42,
   "id": "54f2c381",
   "metadata": {
    "scrolled": true
   },
   "outputs": [
    {
     "data": {
      "image/png": "[encoded data removed]",
      "text/plain": [
       "<Figure size 640x480 with 1 Axes>"
      ]
     },
     "metadata": {},
     "output_type": "display_data"
    }
   ],
   "source": [
    "numTracks = df['numTracks'].values.tolist()\n",
    "fig2, ax2 = plt.subplots()\n",
    "ax2.set_title('Number of Tracks')\n",
    "ax2.boxplot(numTracks)\n",
    "plt.savefig('boxplot_numTracks_outliers.png', bbox_inches='tight', dpi=150)"
   ]
  },
  {
   "cell_type": "code",
   "execution_count": 43,
   "id": "2affe7be",
   "metadata": {},
   "outputs": [
    {
     "name": "stdout",
     "output_type": "stream",
     "text": [
      "664427\n",
      "664412\n"
     ]
    }
   ],
   "source": [
    "#removing outliers for item price > 100 \n",
    "print(len(df))\n",
    "df = df[df['item_price'] < 100]\n",
    "print(len(df))"
   ]
  },
  {
   "cell_type": "code",
   "execution_count": 44,
   "id": "aa23ea4e",
   "metadata": {},
   "outputs": [
    {
     "data": {
      "image/png": "[encoded data removed]",
      "text/plain": [
       "<Figure size 640x480 with 1 Axes>"
      ]
     },
     "metadata": {},
     "output_type": "display_data"
    }
   ],
   "source": [
    "#reconstructing boxplot after outlier deletion\n",
    "\n",
    "item_price2 = df['item_price'].values.tolist()\n",
    "fig2, ax2 = plt.subplots()\n",
    "ax2.set_title('Item Price 2')\n",
    "ax2.boxplot(item_price2)\n",
    "plt.savefig('boxplot_item_price2_outliers.png', bbox_inches='tight', dpi=150)"
   ]
  },
  {
   "cell_type": "code",
   "execution_count": 45,
   "id": "f52727b1",
   "metadata": {},
   "outputs": [
    {
     "name": "stdout",
     "output_type": "stream",
     "text": [
      "664412\n",
      "664352\n"
     ]
    }
   ],
   "source": [
    "#removing outliers for amount paid > 200\n",
    "print(len(df))\n",
    "df = df[df['amount_paid_usd'] < 200]\n",
    "print(len(df))"
   ]
  },
  {
   "cell_type": "code",
   "execution_count": 46,
   "id": "92ceafa8",
   "metadata": {},
   "outputs": [
    {
     "data": {
      "image/png": "[encoded data removed]",
      "text/plain": [
       "<Figure size 640x480 with 1 Axes>"
      ]
     },
     "metadata": {},
     "output_type": "display_data"
    }
   ],
   "source": [
    "#reconstructing boxplot after outlier deletion\n",
    "\n",
    "amount_paid2 = df['amount_paid_usd'].values.tolist()\n",
    "fig2, ax2 = plt.subplots()\n",
    "ax2.set_title('Amount Paid2')\n",
    "ax2.boxplot(amount_paid2)\n",
    "plt.savefig('boxplot_amount_paid2_outliers.png', bbox_inches='tight', dpi=150)"
   ]
  },
  {
   "cell_type": "code",
   "execution_count": 49,
   "id": "3f64b97b",
   "metadata": {},
   "outputs": [
    {
     "data": {
      "text/plain": [
       "(2, 182, 18, 28, 3, 26, 2, 7)"
      ]
     },
     "execution_count": 49,
     "metadata": {},
     "output_type": "execute_result"
    }
   ],
   "source": [
    "#counting unique values of categorical data\n",
    "df['item_type'].nunique(), df['country_code'].nunique(), df['currency'].nunique(), df['genre'].nunique(), df['inAlbum'].nunique(), df['tags'].nunique(), df['BC_friday'].nunique(), df['day'].nunique()"
   ]
  },
  {
   "cell_type": "markdown",
   "id": "75c6b94a",
   "metadata": {},
   "source": [
    "### Train, val, test split"
   ]
  },
  {
   "cell_type": "code",
   "execution_count": 52,
   "id": "b4563a0a",
   "metadata": {},
   "outputs": [],
   "source": [
    "from sklearn.model_selection import train_test_split"
   ]
  },
  {
   "cell_type": "code",
   "execution_count": 54,
   "id": "2f283d0f",
   "metadata": {},
   "outputs": [],
   "source": [
    "y = df['amount_paid_usd']\n",
    "X = df.drop('amount_paid_usd', axis = 1)"
   ]
  },
  {
   "cell_type": "code",
   "execution_count": 55,
   "id": "f063b0cf",
   "metadata": {},
   "outputs": [],
   "source": [
    "#Train/val/test split = 0.6/0.2/0.2\n",
    "#Train test split (0.8/0.2)\n",
    "X_train, X_test, y_train, y_test = train_test_split(X, y, test_size = 0.2)"
   ]
  },
  {
   "cell_type": "code",
   "execution_count": 56,
   "id": "135ee6a5",
   "metadata": {},
   "outputs": [],
   "source": [
    "#train valid split (0.6/0.2)\n",
    "X_train, X_valid, y_train, y_valid = train_test_split(X_train, y_train, test_size = 0.25)"
   ]
  },
  {
   "cell_type": "code",
   "execution_count": 57,
   "id": "9f6780c6",
   "metadata": {},
   "outputs": [],
   "source": [
    "#Saving the dataframes\n",
    "X_train.to_csv('X_train.csv')\n",
    "X_valid.to_csv('X_valid.csv')\n",
    "X_test.to_csv('X_test.csv')\n",
    "\n",
    "y_train.to_csv('X_train.csv')\n",
    "y_valid.to_csv('X_valid.csv')\n",
    "y_test.to_csv('X_test.csv')"
   ]
  },
  {
   "cell_type": "code",
   "execution_count": 58,
   "id": "b134734e",
   "metadata": {},
   "outputs": [],
   "source": [
    "df.to_csv('df_cleaned.csv')"
   ]
  },
  {
   "cell_type": "code",
   "execution_count": null,
   "id": "11e2e91f",
   "metadata": {},
   "outputs": [],
   "source": [
    " "
   ]
  }
 ],
 "metadata": {
  "kernelspec": {
   "display_name": "Python 3 (ipykernel)",
   "language": "python",
   "name": "python3"
  },
  "language_info": {
   "codemirror_mode": {
    "name": "ipython",
    "version": 3
   },
   "file_extension": ".py",
   "mimetype": "text/x-python",
   "name": "python",
   "nbconvert_exporter": "python",
   "pygments_lexer": "ipython3",
   "version": "3.10.9"
  }
 },
 "nbformat": 4,
 "nbformat_minor": 5
}
